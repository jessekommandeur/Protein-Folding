{
 "cells": [
  {
   "cell_type": "markdown",
   "metadata": {},
   "source": [
    "# Protein Folding in 2D \n",
    "Proteins are long strands of amino acids that control many important processes in the human body. It is known that proteins are stored 'folded' inside the cells of the body, and that the specific folding significantly influences their functioning. ‘Misfolded’ proteins can play a role in cancer, Alzheimer's disease and cystic fibrosis.\n",
    "\n",
    "Due to the complexity of the protein folding problem, simplified models such as Dill's hydrophobic-polar (HP) model have become one of the major tools for studying protein structure. The HP model is based on the observation that the hydrophobic force is the main force deter- mining the unique native conformation (and hence the functional state) of small globular proteins.\n",
    "\n",
    "In a protein, hydrophobic amino acids (H) like to lie 'adjecntly', polar amino acids (P) do not have that preference. When two hydrophobic amino acids lie next to each other, an 'H- bond' is formed due to the attractive forces between the two. And the more bonds, the more stable the protein. The HP-model, containing of just two types of amino acids, arranges these in a grid or a lattice.\n",
    "\n",
    "![Example Screenshot](8_piece_protein.png)\n"
   ]
  },
  {
   "cell_type": "code",
   "execution_count": 9,
   "metadata": {},
   "outputs": [],
   "source": [
    "import numpy as np \n",
    "import pandas as pd"
   ]
  },
  {
   "cell_type": "markdown",
   "metadata": {},
   "source": [
    "## Basic Algorithm for Protein Folding\n",
    "This thread covers the development of an algorithm to simulate and analyze protein folding using a simplified model known as the HP model. The HP model involves two types of amino acids: hydrophobic (H) and polar (P). The goal is to arrange these amino acids on a 2D grid or lattice to create stable protein configurations.\n",
    "\n",
    "The key steps of the algorithm include:\n",
    "\n",
    "1. **Initializing Acids**: A function called `random_division` is used to divide a specified number of amino acids into hydrophobic and polar types while ensuring at least one of each type. \n",
    "- **Initializing Grid**: The `initialize grid` function begins by initializing a 2D grid or lattice with a specified size. Hydrophobic and polar amino acids are randomly placed on the grid.\n",
    "- **Calculate Energy**: The function `calculate_hbonds` calculates the initial energy of a given grid by counting the number of adjacent hydrophobic amino acids (H-bonds).\n",
    "\n",
    "- **Fold Proteins**: The function `reshape_grid` attempts to reshape a given grid to improve stability. It iterates through various configurations to optimize the placement of amino acids and maximizes the energy function.\n",
    "\n",
    "- **Creating Samples**: The `generate_random_samples` function generates a given number of random samples for various amino acid lengths. It uses the random division to determine the amino acid types and grid size and then initializes grids accordingly.\n",
    "\n",
    "- **Generating and storing Results**: The code generates random samples for different amino acid lengths (5, 10, 15, 20, 25, 30, 35, and 40) and calculates various metrics for each sample. It then prints the sample information, grid configuration, and metrics.\n"
   ]
  },
  {
   "cell_type": "markdown",
   "metadata": {},
   "source": [
    "### Step 1 - Initializing Acids"
   ]
  },
  {
   "cell_type": "markdown",
   "metadata": {},
   "source": [
    "This function `random_division` takes the total number of amino acids as input and randomly divides them into hydrophobic and polar amino acids, before creating a random 1D amino acid string. It ensures that there's at least one hydrophobic and one polar amino acid. You can adjust the total_amino_acids variable to the desired number of amino acids you want to divide."
   ]
  },
  {
   "cell_type": "code",
   "execution_count": 145,
   "metadata": {},
   "outputs": [
    {
     "name": "stdout",
     "output_type": "stream",
     "text": [
      "Number of Hydro acids: 7\n",
      "Number of Polar acids: 3\n",
      "Random Amino Acid String: PHHHHHHHPP\n"
     ]
    }
   ],
   "source": [
    "total_amino_acids = 10  # Change this to a desired number, 10 is used for illustration purposes\n",
    "\n",
    "def random_division(total_amino_acids):\n",
    "    num_hydrophobic = np.random.randint(1, total_amino_acids)  # Ensure at least one H and P\n",
    "    num_polar = total_amino_acids - num_hydrophobic\n",
    "    # randomly shuffle the amino acids\n",
    "    amino_acids = ['H'] * num_hydrophobic + ['P'] * num_polar\n",
    "    np.random.shuffle(amino_acids)\n",
    "    return num_hydrophobic, num_polar, amino_acids\n",
    "\n",
    "num_hydrophobic, num_polar, amino_acids = random_division(total_amino_acids)\n",
    "print(\"Number of Hydro acids:\", num_hydrophobic)\n",
    "print(\"Number of Polar acids:\", num_polar)\n",
    "print(\"Random Amino Acid String:\", \"\".join(amino_acids))"
   ]
  },
  {
   "cell_type": "markdown",
   "metadata": {},
   "source": [
    "### Step 2 - Initializing Grid\n",
    "The `initialize_grid` function generates a grid to place amino acids, with specified dimensions, and populates it with H and P amino acids, while ensuring they do not overlap and tracks their placement order. This allows for simulating the random arrangement of amino acids on a grid for various applications."
   ]
  },
  {
   "cell_type": "code",
   "execution_count": 146,
   "metadata": {},
   "outputs": [],
   "source": [
    "amino_acids_copy = amino_acids.copy()\n",
    "\n",
    "def initialize_grid(amino_acids, num_hydrophobic, num_polar):\n",
    "    amino_acids_copy = amino_acids.copy()\n",
    "    grid_size = num_hydrophobic + num_polar\n",
    "    total_amino_acids = len(amino_acids)\n",
    "    grid = np.full((grid_size, grid_size), fill_value='', dtype=object)  \n",
    "    amino_acid_order = []  # List to track the order of amino acids placed\n",
    "    \n",
    "    # Place the first amino acid randomly on the grid\n",
    "    first_amino_row = np.random.randint(grid_size)\n",
    "    first_amino_col = np.random.randint(grid_size)\n",
    "    amino_acid_type = amino_acids_copy.pop(0)\n",
    "    grid[first_amino_row, first_amino_col] = amino_acid_type\n",
    "    \n",
    "    # Keep track of order\n",
    "    amino_acid_order.append((amino_acid_type, (first_amino_row, first_amino_col)))\n",
    "    total_amino_acids -= 1\n",
    "    \n",
    "    # Place the remaining amino acids next to the last placed amino acid\n",
    "    while total_amino_acids > 0:\n",
    "        last_amino_row, last_amino_col = amino_acid_order[-1][1]\n",
    "        neighbors = [\n",
    "            (last_amino_row - 1, last_amino_col),\n",
    "            (last_amino_row + 1, last_amino_col),\n",
    "            (last_amino_row, last_amino_col - 1),\n",
    "            (last_amino_row, last_amino_col + 1)\n",
    "        ]\n",
    "        \n",
    "        valid_neighbors = [(row, col) for row, col in neighbors if 0 <= row < grid_size and 0 <= col < grid_size and grid[row, col] == '']\n",
    "        \n",
    "        if valid_neighbors and amino_acids_copy:  # Check if there are valid neighbors and remaining amino acids\n",
    "            # Shuffle the list of valid neighbors and choose one randomly\n",
    "            np.random.shuffle(valid_neighbors)\n",
    "            chosen_row, chosen_col = valid_neighbors[0]\n",
    "            amino_acid_type = amino_acids_copy.pop(0)\n",
    "            grid[chosen_row, chosen_col] = amino_acid_type\n",
    "            amino_acid_order.append((amino_acid_type, (chosen_row, chosen_col)))\n",
    "            total_amino_acids -= 1\n",
    "        else:\n",
    "            break  # No valid neighbors or no remaining amino acids, exit the loop\n",
    "    \n",
    "    return grid, amino_acid_order\n",
    "\n",
    "# Example usage\n",
    "initial_grid, amino_acid_order = initialize_grid( amino_acids_copy, num_hydrophobic, num_polar)\n"
   ]
  },
  {
   "cell_type": "code",
   "execution_count": 147,
   "metadata": {},
   "outputs": [
    {
     "name": "stdout",
     "output_type": "stream",
     "text": [
      "Grid size: 10 x 10\n",
      "[['' '' '' '' '' '' '' 'H' 'H' 'H']\n",
      " ['' '' '' '' '' '' '' 'P' 'H' 'H']\n",
      " ['' '' '' '' '' '' '' '' 'H' '']\n",
      " ['' '' '' '' '' '' 'P' 'P' 'H' '']\n",
      " ['' '' '' '' '' '' '' '' '' '']\n",
      " ['' '' '' '' '' '' '' '' '' '']\n",
      " ['' '' '' '' '' '' '' '' '' '']\n",
      " ['' '' '' '' '' '' '' '' '' '']\n",
      " ['' '' '' '' '' '' '' '' '' '']\n",
      " ['' '' '' '' '' '' '' '' '' '']]\n"
     ]
    }
   ],
   "source": [
    "print(\"Grid size:\", len(initial_grid[0]), 'x', len(initial_grid[0]))\n",
    "print(initial_grid)\n"
   ]
  },
  {
   "cell_type": "code",
   "execution_count": 148,
   "metadata": {},
   "outputs": [
    {
     "name": "stdout",
     "output_type": "stream",
     "text": [
      "Amino Acid Order: [('P', (1, 7)), ('H', (0, 7)), ('H', (0, 8)), ('H', (0, 9)), ('H', (1, 9)), ('H', (1, 8)), ('H', (2, 8)), ('H', (3, 8)), ('P', (3, 7)), ('P', (3, 6))]\n"
     ]
    }
   ],
   "source": [
    "print(\"Amino Acid Order:\", amino_acid_order)"
   ]
  },
  {
   "cell_type": "markdown",
   "metadata": {},
   "source": [
    "### Step 3a - Calculate H-bonds\n",
    "The `find_H_combinations_grid` function is used to~ identify and collect sets of coordinates representing adjacent 'H' amino acids in a grid. It iterates through the entire grid, checking each position for the presence of 'H' amino acids. If an 'H' amino acid is found, it examines neighboring positions (up, down, left, right) to identify adjacent 'H' amino acids. For each pair of adjacent 'H' amino acids, it creates a frozenset containing their coordinates (ensuring that the order of coordinates doesn't matter) and adds this frozenset to a set. This set stores all unique pairs of adjacent 'H' amino acids found in the grid. The function returns this set of adjacent 'H' amino acid pairs."
   ]
  },
  {
   "cell_type": "code",
   "execution_count": 149,
   "metadata": {},
   "outputs": [
    {
     "data": {
      "text/plain": [
       "{frozenset({(2, 8), (3, 8)}),\n",
       " frozenset({(1, 8), (2, 8)}),\n",
       " frozenset({(0, 8), (0, 9)}),\n",
       " frozenset({(0, 9), (1, 9)}),\n",
       " frozenset({(1, 8), (1, 9)}),\n",
       " frozenset({(0, 8), (1, 8)}),\n",
       " frozenset({(0, 7), (0, 8)})}"
      ]
     },
     "execution_count": 149,
     "metadata": {},
     "output_type": "execute_result"
    }
   ],
   "source": [
    "def find_H_pairs_grid(grid):\n",
    "    adjacent_hydrophobic_amino_acids = set()  # Use a set to automatically remove duplicates\n",
    "\n",
    "    # Iterate through the grid to find adjacent 'H' amino acids\n",
    "    for row in range(grid.shape[0]):\n",
    "        for col in range(grid.shape[1]):\n",
    "            current_acid = grid[row, col]\n",
    "\n",
    "            # Check if the current amino acid is 'H'\n",
    "            if current_acid == 'H':\n",
    "                # Check the neighboring positions (up, down, left, right) relative to the current position\n",
    "                neighbors = [\n",
    "                    (row - 1, col),\n",
    "                    (row + 1, col),\n",
    "                    (row, col - 1),\n",
    "                    (row, col + 1)\n",
    "                ]\n",
    "\n",
    "                for neighbor_row, neighbor_col in neighbors:\n",
    "                    # Check if the neighbor is within the grid bounds\n",
    "                    if 0 <= neighbor_row < grid.shape[0] and 0 <= neighbor_col < grid.shape[1]:\n",
    "                        neighbor_acid = grid[neighbor_row, neighbor_col]\n",
    "\n",
    "                        # Check if the neighbor is also 'H'\n",
    "                        if neighbor_acid == 'H':\n",
    "                            # Use frozenset to ensure that the order of coordinates doesn't matter\n",
    "                            amino_acid_pair = frozenset({(row, col), (neighbor_row, neighbor_col)})\n",
    "                            adjacent_hydrophobic_amino_acids.add(amino_acid_pair)\n",
    "                            \n",
    "    return adjacent_hydrophobic_amino_acids\n",
    "\n",
    "find_H_pairs_grid(initial_grid)"
   ]
  },
  {
   "cell_type": "markdown",
   "metadata": {},
   "source": [
    "### Step 3b - Calculate H-bonds\n",
    "The `find_H_combinations_order` function examines the order of amino acids and identifies adjacent 'H' amino acids. It does this by iterating through the amino acid order, checking pairs of consecutive amino acids for 'H' type, and recording these pairs as frozensets in a set to remove duplicates. This function helps identify adjacent 'H' amino acids in the sequence order, which is useful for analyzing the arrangement of amino acids."
   ]
  },
  {
   "cell_type": "code",
   "execution_count": 150,
   "metadata": {},
   "outputs": [
    {
     "data": {
      "text/plain": [
       "{frozenset({(2, 8), (3, 8)}),\n",
       " frozenset({(1, 8), (2, 8)}),\n",
       " frozenset({(0, 8), (0, 9)}),\n",
       " frozenset({(0, 9), (1, 9)}),\n",
       " frozenset({(1, 8), (1, 9)}),\n",
       " frozenset({(0, 7), (0, 8)})}"
      ]
     },
     "execution_count": 150,
     "metadata": {},
     "output_type": "execute_result"
    }
   ],
   "source": [
    "def find_H_pairs_order(amino_acid_order):\n",
    "    adjacent_hydrophobic_amino_acids = set()  # Use a set to automatically remove duplicates\n",
    "\n",
    "    # Iterate through the amino acid order to find adjacent 'H' amino acids\n",
    "    for i in range(len(amino_acid_order) - 1):\n",
    "        current_acid, current_position = amino_acid_order[i]\n",
    "        next_acid, next_position = amino_acid_order[i + 1]\n",
    "\n",
    "        # Check if both current and next amino acids are 'H'\n",
    "        if current_acid == 'H' and next_acid == 'H':\n",
    "            # Use frozenset to ensure that the order of positions doesn't matter\n",
    "            amino_acid_pair = frozenset({current_position, next_position})\n",
    "            adjacent_hydrophobic_amino_acids.add(amino_acid_pair)\n",
    "\n",
    "    return adjacent_hydrophobic_amino_acids\n",
    "\n",
    "find_H_pairs_order(amino_acid_order)"
   ]
  },
  {
   "cell_type": "markdown",
   "metadata": {},
   "source": [
    "### Step 3c - Calculate H-bonds\n",
    "The provided code calculates the H-combinations in two different ways and then compares them. It calculates the H-pairs in the grid using the `find_H_combinations_grid` function and the H-pairs in the amino acid order using the `find_H_combination_order` function. Then, it subtracts the H-combinations found in the amino acid order from those found in the grid. This comparison helps identify the **H-bonds** that are formed between adjacent 'H' amino acids in the grid but not in the given amino acid sequence order."
   ]
  },
  {
   "cell_type": "code",
   "execution_count": 151,
   "metadata": {},
   "outputs": [],
   "source": [
    "def find_H_bonds(grid, amino_acid_order):\n",
    "    grid_h_pairs = find_H_pairs_grid(grid)\n",
    "    order_h_pairs = find_H_pairs_order(amino_acid_order)\n",
    "    return grid_h_pairs - order_h_pairs\n",
    "\n",
    "H_bonds = find_H_bonds(initial_grid, amino_acid_order)"
   ]
  },
  {
   "cell_type": "code",
   "execution_count": 152,
   "metadata": {},
   "outputs": [
    {
     "name": "stdout",
     "output_type": "stream",
     "text": [
      "Number of H-bonds: 1\n",
      "[(0, 8), (1, 8)]\n"
     ]
    }
   ],
   "source": [
    "print('Number of H-bonds:', len(H_bonds))\n",
    "\n",
    "for bond in H_bonds:\n",
    "    coordinates = [coord for coord in bond]\n",
    "    print(coordinates)"
   ]
  },
  {
   "cell_type": "markdown",
   "metadata": {},
   "source": [
    "### Step 3 - Fold Proteins\n",
    "Now we implement an Ant Colony Optimization (ACO) algorithm to optimize the folding of amino acids on a grid to maximize H-bonds. It initializes the grid with random amino acid placements, and ants iteratively move amino acids on the grid while considering pheromone levels and a heuristic function based on the H-bond score. The pheromone levels are updated based on the best placement found by ants. Finally, the best placement and H-bonds score are printed."
   ]
  },
  {
   "cell_type": "code",
   "execution_count": 153,
   "metadata": {},
   "outputs": [
    {
     "data": {
      "text/plain": [
       "array([['', '', '', '', '', '', '', 'H', 'H', 'H'],\n",
       "       ['', '', '', '', '', '', '', 'P', 'H', 'H'],\n",
       "       ['', '', '', '', '', '', '', '', 'H', ''],\n",
       "       ['', '', '', '', '', '', 'P', 'P', 'H', ''],\n",
       "       ['', '', '', '', '', '', '', '', '', ''],\n",
       "       ['', '', '', '', '', '', '', '', '', ''],\n",
       "       ['', '', '', '', '', '', '', '', '', ''],\n",
       "       ['', '', '', '', '', '', '', '', '', ''],\n",
       "       ['', '', '', '', '', '', '', '', '', ''],\n",
       "       ['', '', '', '', '', '', '', '', '', '']], dtype=object)"
      ]
     },
     "execution_count": 153,
     "metadata": {},
     "output_type": "execute_result"
    }
   ],
   "source": [
    "initial_grid"
   ]
  },
  {
   "cell_type": "markdown",
   "metadata": {},
   "source": [
    "### Step 4 - Creating Samples\n",
    "The code generates N random protein grid configurations with a specified number of hydrophobic and polar amino acids using the `generate_random_samples` function. "
   ]
  },
  {
   "cell_type": "code",
   "execution_count": 154,
   "metadata": {},
   "outputs": [
    {
     "data": {
      "text/plain": [
       "[(1,\n",
       "  9,\n",
       "  ['P', 'H', 'P', 'P', 'P', 'P', 'P', 'P', 'P', 'P'],\n",
       "  array([['', '', '', '', '', '', '', '', '', ''],\n",
       "         ['', '', '', '', '', '', '', '', '', ''],\n",
       "         ['P', 'P', 'P', 'P', '', '', '', '', '', ''],\n",
       "         ['H', 'P', 'P', 'P', '', '', '', '', '', ''],\n",
       "         ['P', 'P', '', '', '', '', '', '', '', ''],\n",
       "         ['', '', '', '', '', '', '', '', '', ''],\n",
       "         ['', '', '', '', '', '', '', '', '', ''],\n",
       "         ['', '', '', '', '', '', '', '', '', ''],\n",
       "         ['', '', '', '', '', '', '', '', '', ''],\n",
       "         ['', '', '', '', '', '', '', '', '', '']], dtype=object),\n",
       "  [('P', (2, 0)),\n",
       "   ('H', (3, 0)),\n",
       "   ('P', (4, 0)),\n",
       "   ('P', (4, 1)),\n",
       "   ('P', (3, 1)),\n",
       "   ('P', (2, 1)),\n",
       "   ('P', (2, 2)),\n",
       "   ('P', (2, 3)),\n",
       "   ('P', (3, 3)),\n",
       "   ('P', (3, 2))],\n",
       "  0),\n",
       " (7,\n",
       "  3,\n",
       "  ['H', 'H', 'P', 'H', 'P', 'P', 'H', 'H', 'H', 'H'],\n",
       "  array([['', '', '', '', '', '', '', '', '', ''],\n",
       "         ['', '', '', '', '', '', '', '', '', ''],\n",
       "         ['', '', '', '', '', '', '', '', '', ''],\n",
       "         ['', '', '', '', '', '', '', '', '', ''],\n",
       "         ['', '', '', '', '', '', '', '', 'P', 'H'],\n",
       "         ['', '', '', '', '', '', '', '', 'H', 'P'],\n",
       "         ['', '', '', '', '', '', '', 'H', 'H', 'P'],\n",
       "         ['', '', '', '', '', '', '', 'H', 'H', 'H'],\n",
       "         ['', '', '', '', '', '', '', '', '', ''],\n",
       "         ['', '', '', '', '', '', '', '', '', '']], dtype=object),\n",
       "  [('H', (6, 8)),\n",
       "   ('H', (5, 8)),\n",
       "   ('P', (4, 8)),\n",
       "   ('H', (4, 9)),\n",
       "   ('P', (5, 9)),\n",
       "   ('P', (6, 9)),\n",
       "   ('H', (7, 9)),\n",
       "   ('H', (7, 8)),\n",
       "   ('H', (7, 7)),\n",
       "   ('H', (6, 7))],\n",
       "  2),\n",
       " (3,\n",
       "  7,\n",
       "  ['H', 'P', 'P', 'P', 'P', 'H', 'P', 'P', 'H', 'P'],\n",
       "  array([['', 'H', '', '', 'H', 'P', '', '', '', ''],\n",
       "         ['', 'P', 'P', 'P', 'P', 'P', '', '', '', ''],\n",
       "         ['', '', '', '', '', 'H', '', '', '', ''],\n",
       "         ['', '', '', '', '', 'P', '', '', '', ''],\n",
       "         ['', '', '', '', '', '', '', '', '', ''],\n",
       "         ['', '', '', '', '', '', '', '', '', ''],\n",
       "         ['', '', '', '', '', '', '', '', '', ''],\n",
       "         ['', '', '', '', '', '', '', '', '', ''],\n",
       "         ['', '', '', '', '', '', '', '', '', ''],\n",
       "         ['', '', '', '', '', '', '', '', '', '']], dtype=object),\n",
       "  [('H', (0, 1)),\n",
       "   ('P', (1, 1)),\n",
       "   ('P', (1, 2)),\n",
       "   ('P', (1, 3)),\n",
       "   ('P', (1, 4)),\n",
       "   ('H', (0, 4)),\n",
       "   ('P', (0, 5)),\n",
       "   ('P', (1, 5)),\n",
       "   ('H', (2, 5)),\n",
       "   ('P', (3, 5))],\n",
       "  0)]"
      ]
     },
     "execution_count": 154,
     "metadata": {},
     "output_type": "execute_result"
    }
   ],
   "source": [
    "def generate_random_samples(N, total_amino_acids):\n",
    "    random_samples = []\n",
    "\n",
    "    for _ in range(N):\n",
    "        num_hydrophobic, num_polar, amino_acids = random_division(total_amino_acids)\n",
    "        amino_acids_copy = amino_acids.copy()\n",
    "        initial_grid, amino_acid_order = initialize_grid(amino_acids_copy, num_hydrophobic, num_polar)\n",
    "        hbonds = len(find_H_bonds(initial_grid, amino_acid_order))\n",
    "        \n",
    "        random_samples.append((num_hydrophobic,\n",
    "                               num_polar,\n",
    "                               amino_acids,\n",
    "                               initial_grid,\n",
    "                               amino_acid_order,\n",
    "                               hbonds))\n",
    "\n",
    "    return random_samples\n",
    "\n",
    "\n",
    "generate_random_samples(3, total_amino_acids)"
   ]
  },
  {
   "cell_type": "code",
   "execution_count": 162,
   "metadata": {},
   "outputs": [
    {
     "data": {
      "text/html": [
       "<div>\n",
       "<style scoped>\n",
       "    .dataframe tbody tr th:only-of-type {\n",
       "        vertical-align: middle;\n",
       "    }\n",
       "\n",
       "    .dataframe tbody tr th {\n",
       "        vertical-align: top;\n",
       "    }\n",
       "\n",
       "    .dataframe thead th {\n",
       "        text-align: right;\n",
       "    }\n",
       "</style>\n",
       "<table border=\"1\" class=\"dataframe\">\n",
       "  <thead>\n",
       "    <tr style=\"text-align: right;\">\n",
       "      <th></th>\n",
       "      <th>Amino Acid Length</th>\n",
       "      <th>Num Hydrophobic</th>\n",
       "      <th>Num Polar</th>\n",
       "      <th>Amino Acids</th>\n",
       "      <th>Initial Grid</th>\n",
       "      <th>Amino Acid Order</th>\n",
       "      <th>H-Bonds</th>\n",
       "    </tr>\n",
       "  </thead>\n",
       "  <tbody>\n",
       "    <tr>\n",
       "      <th>0</th>\n",
       "      <td>20</td>\n",
       "      <td>9</td>\n",
       "      <td>11</td>\n",
       "      <td>[P, H, P, H, H, P, P, P, P, H, P, P, H, H, P, ...</td>\n",
       "      <td>[[, , , , , , , , , , , , , , , , , , , ], [, ...</td>\n",
       "      <td>[(P, (18, 12)), (H, (19, 12)), (P, (19, 11)), ...</td>\n",
       "      <td>0</td>\n",
       "    </tr>\n",
       "    <tr>\n",
       "      <th>1</th>\n",
       "      <td>20</td>\n",
       "      <td>8</td>\n",
       "      <td>12</td>\n",
       "      <td>[P, H, H, H, P, H, P, P, P, H, P, P, P, H, P, ...</td>\n",
       "      <td>[[, , , , , , , , , , , , , , , , , , , ], [, ...</td>\n",
       "      <td>[(P, (17, 2)), (H, (17, 3)), (H, (18, 3)), (H,...</td>\n",
       "      <td>0</td>\n",
       "    </tr>\n",
       "    <tr>\n",
       "      <th>2</th>\n",
       "      <td>20</td>\n",
       "      <td>3</td>\n",
       "      <td>17</td>\n",
       "      <td>[P, H, P, P, P, H, P, P, P, H, P, P, P, P, P, ...</td>\n",
       "      <td>[[, , , , , , , , , , , , , , , , , , , ], [, ...</td>\n",
       "      <td>[(P, (5, 12)), (H, (6, 12)), (P, (6, 13)), (P,...</td>\n",
       "      <td>0</td>\n",
       "    </tr>\n",
       "    <tr>\n",
       "      <th>3</th>\n",
       "      <td>20</td>\n",
       "      <td>12</td>\n",
       "      <td>8</td>\n",
       "      <td>[H, H, H, H, P, H, H, H, H, P, P, H, P, P, P, ...</td>\n",
       "      <td>[[, , , , , , , , , , , , , , , , , , , ], [, ...</td>\n",
       "      <td>[(H, (17, 12)), (H, (18, 12)), (H, (19, 12)), ...</td>\n",
       "      <td>3</td>\n",
       "    </tr>\n",
       "    <tr>\n",
       "      <th>4</th>\n",
       "      <td>20</td>\n",
       "      <td>17</td>\n",
       "      <td>3</td>\n",
       "      <td>[H, H, H, P, P, H, H, H, P, H, H, H, H, H, H, ...</td>\n",
       "      <td>[[, , , , , , , , , , , , , , , , , , , ], [, ...</td>\n",
       "      <td>[(H, (9, 4)), (H, (9, 3)), (H, (8, 3)), (P, (8...</td>\n",
       "      <td>3</td>\n",
       "    </tr>\n",
       "    <tr>\n",
       "      <th>...</th>\n",
       "      <td>...</td>\n",
       "      <td>...</td>\n",
       "      <td>...</td>\n",
       "      <td>...</td>\n",
       "      <td>...</td>\n",
       "      <td>...</td>\n",
       "      <td>...</td>\n",
       "    </tr>\n",
       "    <tr>\n",
       "      <th>495</th>\n",
       "      <td>40</td>\n",
       "      <td>30</td>\n",
       "      <td>10</td>\n",
       "      <td>[H, H, H, P, H, H, P, P, P, H, H, H, H, P, H, ...</td>\n",
       "      <td>[[, , , , , , , , , , , , , , , , , , , , , , ...</td>\n",
       "      <td>[(H, (2, 0)), (H, (3, 0)), (H, (4, 0)), (P, (5...</td>\n",
       "      <td>9</td>\n",
       "    </tr>\n",
       "    <tr>\n",
       "      <th>496</th>\n",
       "      <td>40</td>\n",
       "      <td>10</td>\n",
       "      <td>30</td>\n",
       "      <td>[H, P, P, P, P, P, P, H, P, P, P, P, P, H, P, ...</td>\n",
       "      <td>[[, , , , , , , , , , , , , , , , , , , , , , ...</td>\n",
       "      <td>[(H, (39, 19)), (P, (39, 20)), (P, (39, 21)), ...</td>\n",
       "      <td>0</td>\n",
       "    </tr>\n",
       "    <tr>\n",
       "      <th>497</th>\n",
       "      <td>40</td>\n",
       "      <td>12</td>\n",
       "      <td>28</td>\n",
       "      <td>[H, P, H, P, H, P, P, P, H, P, P, P, P, H, P, ...</td>\n",
       "      <td>[[, , , , , , , , , , , , , , , , , , , , , , ...</td>\n",
       "      <td>[(H, (31, 24)), (P, (32, 24)), (H, (32, 23)), ...</td>\n",
       "      <td>0</td>\n",
       "    </tr>\n",
       "    <tr>\n",
       "      <th>498</th>\n",
       "      <td>40</td>\n",
       "      <td>35</td>\n",
       "      <td>5</td>\n",
       "      <td>[H, H, H, H, H, H, H, H, H, H, H, P, H, H, P, ...</td>\n",
       "      <td>[[, , , , , , , , , , , , , , , , , , , , , , ...</td>\n",
       "      <td>[(H, (18, 25)), (H, (19, 25)), (H, (19, 26)), ...</td>\n",
       "      <td>12</td>\n",
       "    </tr>\n",
       "    <tr>\n",
       "      <th>499</th>\n",
       "      <td>40</td>\n",
       "      <td>20</td>\n",
       "      <td>20</td>\n",
       "      <td>[H, P, H, H, H, P, H, P, H, H, P, P, P, P, P, ...</td>\n",
       "      <td>[[, , , , , , , , , , , , , , , , , , , , , , ...</td>\n",
       "      <td>[(H, (24, 36)), (P, (24, 35)), (H, (24, 34)), ...</td>\n",
       "      <td>4</td>\n",
       "    </tr>\n",
       "  </tbody>\n",
       "</table>\n",
       "<p>500 rows × 7 columns</p>\n",
       "</div>"
      ],
      "text/plain": [
       "     Amino Acid Length  Num Hydrophobic  Num Polar  \\\n",
       "0                   20                9         11   \n",
       "1                   20                8         12   \n",
       "2                   20                3         17   \n",
       "3                   20               12          8   \n",
       "4                   20               17          3   \n",
       "..                 ...              ...        ...   \n",
       "495                 40               30         10   \n",
       "496                 40               10         30   \n",
       "497                 40               12         28   \n",
       "498                 40               35          5   \n",
       "499                 40               20         20   \n",
       "\n",
       "                                           Amino Acids  \\\n",
       "0    [P, H, P, H, H, P, P, P, P, H, P, P, H, H, P, ...   \n",
       "1    [P, H, H, H, P, H, P, P, P, H, P, P, P, H, P, ...   \n",
       "2    [P, H, P, P, P, H, P, P, P, H, P, P, P, P, P, ...   \n",
       "3    [H, H, H, H, P, H, H, H, H, P, P, H, P, P, P, ...   \n",
       "4    [H, H, H, P, P, H, H, H, P, H, H, H, H, H, H, ...   \n",
       "..                                                 ...   \n",
       "495  [H, H, H, P, H, H, P, P, P, H, H, H, H, P, H, ...   \n",
       "496  [H, P, P, P, P, P, P, H, P, P, P, P, P, H, P, ...   \n",
       "497  [H, P, H, P, H, P, P, P, H, P, P, P, P, H, P, ...   \n",
       "498  [H, H, H, H, H, H, H, H, H, H, H, P, H, H, P, ...   \n",
       "499  [H, P, H, H, H, P, H, P, H, H, P, P, P, P, P, ...   \n",
       "\n",
       "                                          Initial Grid  \\\n",
       "0    [[, , , , , , , , , , , , , , , , , , , ], [, ...   \n",
       "1    [[, , , , , , , , , , , , , , , , , , , ], [, ...   \n",
       "2    [[, , , , , , , , , , , , , , , , , , , ], [, ...   \n",
       "3    [[, , , , , , , , , , , , , , , , , , , ], [, ...   \n",
       "4    [[, , , , , , , , , , , , , , , , , , , ], [, ...   \n",
       "..                                                 ...   \n",
       "495  [[, , , , , , , , , , , , , , , , , , , , , , ...   \n",
       "496  [[, , , , , , , , , , , , , , , , , , , , , , ...   \n",
       "497  [[, , , , , , , , , , , , , , , , , , , , , , ...   \n",
       "498  [[, , , , , , , , , , , , , , , , , , , , , , ...   \n",
       "499  [[, , , , , , , , , , , , , , , , , , , , , , ...   \n",
       "\n",
       "                                      Amino Acid Order  H-Bonds  \n",
       "0    [(P, (18, 12)), (H, (19, 12)), (P, (19, 11)), ...        0  \n",
       "1    [(P, (17, 2)), (H, (17, 3)), (H, (18, 3)), (H,...        0  \n",
       "2    [(P, (5, 12)), (H, (6, 12)), (P, (6, 13)), (P,...        0  \n",
       "3    [(H, (17, 12)), (H, (18, 12)), (H, (19, 12)), ...        3  \n",
       "4    [(H, (9, 4)), (H, (9, 3)), (H, (8, 3)), (P, (8...        3  \n",
       "..                                                 ...      ...  \n",
       "495  [(H, (2, 0)), (H, (3, 0)), (H, (4, 0)), (P, (5...        9  \n",
       "496  [(H, (39, 19)), (P, (39, 20)), (P, (39, 21)), ...        0  \n",
       "497  [(H, (31, 24)), (P, (32, 24)), (H, (32, 23)), ...        0  \n",
       "498  [(H, (18, 25)), (H, (19, 25)), (H, (19, 26)), ...       12  \n",
       "499  [(H, (24, 36)), (P, (24, 35)), (H, (24, 34)), ...        4  \n",
       "\n",
       "[500 rows x 7 columns]"
      ]
     },
     "execution_count": 162,
     "metadata": {},
     "output_type": "execute_result"
    }
   ],
   "source": [
    "def store_samples_in_dataframe(num_samples, amino_acid_lengths):\n",
    "    \n",
    "    data = {\n",
    "        \"Amino Acid Length\": [],\n",
    "        \"Num Hydrophobic\": [],\n",
    "        \"Num Polar\": [],\n",
    "        \"Amino Acids\": [],\n",
    "        \"Initial Grid\": [],\n",
    "        \"Amino Acid Order\": [],\n",
    "        \"H-Bonds\": []\n",
    "    }\n",
    "\n",
    "    for length in amino_acid_lengths:\n",
    "        random_samples = generate_random_samples(num_samples, length)\n",
    "        for sample in random_samples:\n",
    "            num_hydrophobic, num_polar, amino_acids, initial_grid, amino_acid_order, hbonds = sample\n",
    "            data[\"Amino Acid Length\"].append(length)\n",
    "            data[\"Num Hydrophobic\"].append(num_hydrophobic)\n",
    "            data[\"Num Polar\"].append(num_polar)\n",
    "            data[\"Amino Acids\"].append(amino_acids)\n",
    "            data[\"Initial Grid\"].append(initial_grid)\n",
    "            data[\"Amino Acid Order\"].append(amino_acid_order)\n",
    "            data[\"H-Bonds\"].append(hbonds)\n",
    "\n",
    "    df = pd.DataFrame(data)\n",
    "    return df\n",
    "\n",
    "# Example usage\n",
    "num_samples = 100\n",
    "amino_acid_lengths = [20, 25, 30, 35, 40]\n",
    "df = store_samples_in_dataframe(num_samples, amino_acid_lengths)\n",
    "df"
   ]
  },
  {
   "cell_type": "code",
   "execution_count": 190,
   "metadata": {},
   "outputs": [
    {
     "data": {
      "image/png": "[encoded data removed]",
      "text/plain": [
       "<Figure size 432x288 with 1 Axes>"
      ]
     },
     "metadata": {
      "needs_background": "light"
     },
     "output_type": "display_data"
    }
   ],
   "source": [
    "import matplotlib.pyplot as plt\n",
    "\n",
    "def descriptives(df, amino_acid_lengths):\n",
    "    # Create a dictionary to store the plots for each amino acid length\n",
    "    plots = {}\n",
    "    \n",
    "    for acid_length in amino_acid_lengths:\n",
    "        # Filter the DataFrame for the specific amino acid length\n",
    "        filtered_df = df[df['Amino Acid Length'] == acid_length]\n",
    "        \n",
    "        # Check if the filtered DataFrame is empty\n",
    "        if not filtered_df.empty:\n",
    "            # Group and count data, then create a bar plot\n",
    "            data = filtered_df.groupby(['H-Bonds'])['Amino Acid Length'].count()\n",
    "            plot = data.plot(kind='bar')\n",
    "            \n",
    "            # Store the plot in the dictionary with the amino acid length as the key\n",
    "            plots[acid_length] = plot\n",
    "        \n",
    "    return plots\n",
    "\n",
    "# Example usage\n",
    "amino_acid_lengths = [5, 10, 15, 20]  # Define the sequence of lengths you want to analyze\n",
    "plots = descriptives(df, amino_acid_lengths)\n",
    "\n",
    "# Show or save the plots as needed\n",
    "for acid_length, plot in plots.items():\n",
    "    plt.title(f'H-Bonds Distribution for Amino Acid Length {acid_length}')\n",
    "    plt.xlabel('Number of H-Bonds')\n",
    "    plt.ylabel('Count')\n",
    "    plt.show()  # Show the plot\n",
    "    # Alternatively, save the plot to a file\n",
    "    # plt.savefig(f'plot_{acid_length}.png')\n"
   ]
  },
  {
   "cell_type": "code",
   "execution_count": null,
   "metadata": {},
   "outputs": [],
   "source": []
  }
 ],
 "metadata": {
  "kernelspec": {
   "display_name": "Python 3",
   "language": "python",
   "name": "python3"
  },
  "language_info": {
   "codemirror_mode": {
    "name": "ipython",
    "version": 3
   },
   "file_extension": ".py",
   "mimetype": "text/x-python",
   "name": "python",
   "nbconvert_exporter": "python",
   "pygments_lexer": "ipython3",
   "version": "3.8.3"
  }
 },
 "nbformat": 4,
 "nbformat_minor": 4
}
