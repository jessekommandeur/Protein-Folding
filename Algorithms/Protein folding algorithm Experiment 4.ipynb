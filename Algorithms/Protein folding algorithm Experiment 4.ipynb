{
 "cells": [
  {
   "cell_type": "markdown",
   "metadata": {},
   "source": [
    "## E4 - Heuristic Recursive Sampling in 2D \n",
    "Experiment 4 used the initial conditions of experiment 3, utilizing a set of 1,000 'neutralized' proteins for lengths {5,10,15,...,95,100}, folded on a 2D lattice. In this experiment, however, we diverged from stochastic methods by introducing a more deterministic backtracking method. Upon reaching an impasse where no further placements were valid, the deterministic approach used a heuristic backtracking rule that can be expressed using propositional logic:\n",
    "\n",
    "$$\n",
    "L \\lor (\\neg L \\land M) \\lor (\\neg L \\land \\neg M \\land R)\n",
    "$$\n",
    "\n",
    "This rule states that:\n",
    "- **left** is the first preference.\n",
    "- If **left** fails, then try **middle** as the next option.\n",
    "- If both **left** and **middle** fail  then **right** is the final option for that recursive call.\n",
    "\n",
    "\n",
    "![Example Screenshot](5-methods.png)\n",
    "\n",
    "The backtracking continued in this structured manner, systematically exploring the next available direction in the predetermined sequence whenever an impasse was encountered. The recursive algorithm ensured adherence to the sequence of directions predetermined for each amino acid, retracing steps in a heuristic manner whenever the folding path reached a dead end. "
   ]
  },
  {
   "cell_type": "code",
   "execution_count": 21,
   "metadata": {},
   "outputs": [],
   "source": [
    "import numpy as np \n",
    "import pandas as pd\n",
    "import time as time\n",
    "import matplotlib.pyplot as plt\n",
    "np.set_printoptions(threshold=np.inf)"
   ]
  },
  {
   "cell_type": "markdown",
   "metadata": {},
   "source": [
    "### Step 1 - Initializing Acids"
   ]
  },
  {
   "cell_type": "markdown",
   "metadata": {},
   "source": [
    "This function `random_division` takes the total number of amino acids as input and randomly divides them into hydrophobic and polar amino acids, before creating a random 1D amino acid string. It ensures that there's at least one hydrophobic and one polar amino acid. You can adjust the total_amino_acids variable to the desired number of amino acids you want to divide."
   ]
  },
  {
   "cell_type": "code",
   "execution_count": 2,
   "metadata": {},
   "outputs": [
    {
     "name": "stdout",
     "output_type": "stream",
     "text": [
      "Number of Hydro acids: 2\n",
      "Number of Polar acids: 10\n",
      "Random Amino Acid String: HPPPPPPHPPPP\n"
     ]
    }
   ],
   "source": [
    "total_amino_acids = 12 # Change this to a desired number, 10 is used for illustration purposes\n",
    "\n",
    "def random_division(total_amino_acids):\n",
    "    num_hydrophobic = np.random.randint(1, total_amino_acids)  # Ensure at least one H and P\n",
    "    num_polar = total_amino_acids - num_hydrophobic\n",
    "    # randomly shuffle the amino acids\n",
    "    amino_acids = ['H'] * num_hydrophobic + ['P'] * num_polar\n",
    "    np.random.shuffle(amino_acids)\n",
    "    return num_hydrophobic, num_polar, amino_acids\n",
    "\n",
    "num_hydrophobic, num_polar, amino_acids = random_division(total_amino_acids)\n",
    "print(\"Number of Hydro acids:\", num_hydrophobic)\n",
    "print(\"Number of Polar acids:\", num_polar)\n",
    "print(\"Random Amino Acid String:\", \"\".join(amino_acids))"
   ]
  },
  {
   "cell_type": "markdown",
   "metadata": {},
   "source": [
    "### Step 2 - Initializing Grid\n",
    "The `initialize_grid` function generates a grid to place amino acids, with specified dimensions, and populates it with H and P amino acids, while ensuring they do not overlap and tracks their placement order. This allows for simulating the random arrangement of amino acids on a grid for various applications."
   ]
  },
  {
   "cell_type": "code",
   "execution_count": 4,
   "metadata": {},
   "outputs": [],
   "source": [
    "def determine_direction(prev_row, prev_col, current_row, current_col):\n",
    "    \"\"\"\n",
    "    Determines the cardinal direction of the current move in comparison to the previous move.\n",
    "    \"\"\"\n",
    "    # Determine the previous and current movement vectors\n",
    "#     prev_move_vector = (prev_row - prev_prev_row, prev_col - prev_prev_col)\n",
    "    current_move_vector = (current_row - prev_row, current_col - prev_col)\n",
    "\n",
    "    # Define movement vectors for comparison\n",
    "    movement_vectors = {\n",
    "        'up': (-1, 0),\n",
    "        'down': (1, 0),\n",
    "        'left': (0, -1),\n",
    "        'right': (0, 1)\n",
    "    }\n",
    "\n",
    "    # Compare the current movement vector with the cardinal directions\n",
    "    for direction, vector in movement_vectors.items():\n",
    "        if current_move_vector == vector:\n",
    "            return direction\n",
    "\n",
    "    # Default return if no direction matches\n",
    "    return None\n"
   ]
  },
  {
   "cell_type": "code",
   "execution_count": 5,
   "metadata": {},
   "outputs": [],
   "source": [
    "def get_deterministic_neighbors(last_row, last_col, relative_direction):\n",
    "    \"\"\"\n",
    "    Determine neighbors based on a \"left, middle, right\" heuristic, always prioritizing left.\n",
    "    The 'relative_direction' parameter indicates the direction relative to the last move.\n",
    "    \"\"\"\n",
    "    if relative_direction == 'down':\n",
    "        # Moving down: left is right on the grid, right is left on the grid\n",
    "        left = (last_row, last_col + 1)  # Right on the grid\n",
    "        middle = (last_row + 1, last_col)  # Down\n",
    "        right = (last_row, last_col - 1)  # Left on the grid\n",
    "        \n",
    "    elif relative_direction == 'up':\n",
    "        # Moving up: left is left on the grid, right is right on the grid\n",
    "        left = (last_row, last_col - 1)  # Left on the grid\n",
    "        middle = (last_row - 1, last_col)  # Up\n",
    "        right = (last_row, last_col + 1)  # Right on the grid\n",
    "        \n",
    "    elif relative_direction == 'left':\n",
    "        # Moving left: left is down on the grid, right is up on the grid\n",
    "        left = (last_row + 1, last_col)  # Down\n",
    "        middle = (last_row, last_col - 1)  # Left\n",
    "        right = (last_row - 1, last_col)  # Up\n",
    "        \n",
    "    else:  # relative_direction == 'right'\n",
    "        # Moving right: left is up on the grid, right is down on the grid\n",
    "        left = (last_row - 1, last_col)  # Up\n",
    "        middle = (last_row, last_col + 1)  # Right\n",
    "        right = (last_row + 1, last_col)  # Down\n",
    "\n",
    "    neighbors = [left, middle, right]\n",
    "    return neighbors"
   ]
  },
  {
   "cell_type": "code",
   "execution_count": 6,
   "metadata": {},
   "outputs": [],
   "source": [
    "import numpy as np\n",
    "\n",
    "def place_amino_acid(grid, amino_acids_copy, amino_acid_order, backtrack_count, last_amino_row=None, last_amino_col=None, we_just_backtracked=0, fenced=None, fence_limit=0, fences=0, acids_placed_since_backtrack=0):\n",
    "    grid_size = len(grid)\n",
    "    \n",
    "    # Base case: if no amino acids left, return True\n",
    "    if not amino_acids_copy:\n",
    "        return True, backtrack_count\n",
    "    \n",
    "    # For the first amino acid\n",
    "    if last_amino_row is None or last_amino_col is None:\n",
    "        first_amino_row = grid_size // 2\n",
    "        first_amino_col = grid_size // 2\n",
    "        amino_acid_type = amino_acids_copy.pop(0)\n",
    "        grid[first_amino_row, first_amino_col] = amino_acid_type\n",
    "        amino_acid_order.append((amino_acid_type, (first_amino_row, first_amino_col)))\n",
    "        return place_amino_acid(grid, amino_acids_copy, amino_acid_order, backtrack_count, first_amino_row, first_amino_col, we_just_backtracked, fenced, fence_limit, fences, acids_placed_since_backtrack)\n",
    "\n",
    "    # Handling all other acids\n",
    "    neighbors = [\n",
    "        (last_amino_row - 1, last_amino_col),\n",
    "        (last_amino_row + 1, last_amino_col),\n",
    "        (last_amino_row, last_amino_col - 1),\n",
    "        (last_amino_row, last_amino_col + 1)\n",
    "    ]\n",
    "    \n",
    "    valid_neighbors = [(row, col) for row, col in neighbors if 0 <= row < grid_size and 0 <= col < grid_size and grid[row, col] == '']\n",
    "    np.random.shuffle(valid_neighbors)\n",
    "    \n",
    "    amino_acid_type = amino_acids_copy.pop(0)\n",
    "    if len(valid_neighbors) > 0:\n",
    "        grid[valid_neighbors[0][0], valid_neighbors[0][1]] = amino_acid_type\n",
    "        amino_acid_order.append((amino_acid_type, (valid_neighbors[0][0], valid_neighbors[0][1])))\n",
    "        acids_placed_since_backtrack += 1  # Increment acid placement counter\n",
    "        return place_amino_acid(grid, amino_acids_copy, amino_acid_order, backtrack_count, valid_neighbors[0][0], valid_neighbors[0][1], 0, fenced, fence_limit, fences, acids_placed_since_backtrack)  # Recursive call\n",
    "\n",
    "    else:\n",
    "        # Backtracking logic\n",
    "        backtrack_count += 1\n",
    "        we_just_backtracked = 1\n",
    "        fence_limit += 1\n",
    "        amino_acids_copy.insert(0, amino_acid_type)\n",
    "        grid[last_amino_row, last_amino_col] = ''\n",
    "        amino_acid_order.pop()\n",
    "        \n",
    "        # Remove fences if the number of acids placed exceeds the number of fences\n",
    "        if acids_placed_since_backtrack > fences:\n",
    "            # Remove all fences\n",
    "            for i in range(grid_size):\n",
    "                for j in range(grid_size):\n",
    "                    if grid[i, j] == 'F':\n",
    "                        grid[i, j] = ''\n",
    "            fences = 0  # Reset fence count\n",
    "\n",
    "        # Reset acid placement counter after backtracking\n",
    "        acids_placed_since_backtrack = 0\n",
    "        \n",
    "        if not amino_acid_order:  # If all acids have been removed, return failure\n",
    "            return False, backtrack_count\n",
    "\n",
    "        # Repeat the process for the last acid in the order\n",
    "        _, (prev_row, prev_col) = amino_acid_order[-1]\n",
    "        return place_amino_acid(grid, amino_acids_copy, amino_acid_order, backtrack_count, prev_row, prev_col, we_just_backtracked, fenced, fence_limit, fences, acids_placed_since_backtrack)\n",
    "\n",
    "    # If no neighbors lead to a solution, return False\n",
    "    return False, backtrack_count\n"
   ]
  },
  {
   "cell_type": "code",
   "execution_count": 7,
   "metadata": {
    "scrolled": true
   },
   "outputs": [],
   "source": [
    "counter = 0\n",
    "amino_acids_copy = amino_acids.copy()\n",
    "def initialize_grid(amino_acids, num_hydrophobic, num_polar):\n",
    "    amino_acids_copy = amino_acids.copy()\n",
    "    total_amino_acids = len(amino_acids)\n",
    "    grid_size = total_amino_acids * 2\n",
    "    grid = np.full((grid_size, grid_size), fill_value='', dtype=object)\n",
    "    amino_acid_order = []\n",
    "\n",
    "    is_placed, backtrack_count = place_amino_acid(grid, amino_acids_copy, amino_acid_order, 0)\n",
    "#     plot_amino_acid_order(amino_acid_order)\n",
    "\n",
    "    return grid, amino_acid_order, backtrack_count\n",
    "\n",
    "# Example usage\n",
    "initial_grid, amino_acid_order, backtrack_count = initialize_grid(amino_acids_copy, num_hydrophobic, num_polar)"
   ]
  },
  {
   "cell_type": "code",
   "execution_count": 8,
   "metadata": {},
   "outputs": [
    {
     "name": "stdout",
     "output_type": "stream",
     "text": [
      "Total backtracks: 0\n"
     ]
    }
   ],
   "source": [
    "print(f\"Total backtracks: {backtrack_count}\")"
   ]
  },
  {
   "cell_type": "code",
   "execution_count": 9,
   "metadata": {},
   "outputs": [
    {
     "name": "stdout",
     "output_type": "stream",
     "text": [
      "Amino Acid Order: [('H', (12, 12)), ('P', (13, 12)), ('P', (13, 11)), ('P', (14, 11)), ('P', (14, 10)), ('P', (15, 10)), ('P', (15, 11)), ('H', (15, 12)), ('P', (14, 12)), ('P', (14, 13)), ('P', (15, 13)), ('P', (16, 13))]\n"
     ]
    }
   ],
   "source": [
    "print(\"Amino Acid Order:\", amino_acid_order)"
   ]
  },
  {
   "cell_type": "code",
   "execution_count": 10,
   "metadata": {},
   "outputs": [
    {
     "name": "stdout",
     "output_type": "stream",
     "text": [
      "[['' '' '' '' '' '' '' '' '' '' '' '' '' '' '' '' '' '' '' '' '' '' '' '']\n",
      " ['' '' '' '' '' '' '' '' '' '' '' '' '' '' '' '' '' '' '' '' '' '' '' '']\n",
      " ['' '' '' '' '' '' '' '' '' '' '' '' '' '' '' '' '' '' '' '' '' '' '' '']\n",
      " ['' '' '' '' '' '' '' '' '' '' '' '' '' '' '' '' '' '' '' '' '' '' '' '']\n",
      " ['' '' '' '' '' '' '' '' '' '' '' '' '' '' '' '' '' '' '' '' '' '' '' '']\n",
      " ['' '' '' '' '' '' '' '' '' '' '' '' '' '' '' '' '' '' '' '' '' '' '' '']\n",
      " ['' '' '' '' '' '' '' '' '' '' '' '' '' '' '' '' '' '' '' '' '' '' '' '']\n",
      " ['' '' '' '' '' '' '' '' '' '' '' '' '' '' '' '' '' '' '' '' '' '' '' '']\n",
      " ['' '' '' '' '' '' '' '' '' '' '' '' '' '' '' '' '' '' '' '' '' '' '' '']\n",
      " ['' '' '' '' '' '' '' '' '' '' '' '' '' '' '' '' '' '' '' '' '' '' '' '']\n",
      " ['' '' '' '' '' '' '' '' '' '' '' '' '' '' '' '' '' '' '' '' '' '' '' '']\n",
      " ['' '' '' '' '' '' '' '' '' '' '' '' '' '' '' '' '' '' '' '' '' '' '' '']\n",
      " ['' '' '' '' '' '' '' '' '' '' '' '' 'H' '' '' '' '' '' '' '' '' '' ''\n",
      "  '']\n",
      " ['' '' '' '' '' '' '' '' '' '' '' 'P' 'P' '' '' '' '' '' '' '' '' '' ''\n",
      "  '']\n",
      " ['' '' '' '' '' '' '' '' '' '' 'P' 'P' 'P' 'P' '' '' '' '' '' '' '' ''\n",
      "  '' '']\n",
      " ['' '' '' '' '' '' '' '' '' '' 'P' 'P' 'H' 'P' '' '' '' '' '' '' '' ''\n",
      "  '' '']\n",
      " ['' '' '' '' '' '' '' '' '' '' '' '' '' 'P' '' '' '' '' '' '' '' '' ''\n",
      "  '']\n",
      " ['' '' '' '' '' '' '' '' '' '' '' '' '' '' '' '' '' '' '' '' '' '' '' '']\n",
      " ['' '' '' '' '' '' '' '' '' '' '' '' '' '' '' '' '' '' '' '' '' '' '' '']\n",
      " ['' '' '' '' '' '' '' '' '' '' '' '' '' '' '' '' '' '' '' '' '' '' '' '']\n",
      " ['' '' '' '' '' '' '' '' '' '' '' '' '' '' '' '' '' '' '' '' '' '' '' '']\n",
      " ['' '' '' '' '' '' '' '' '' '' '' '' '' '' '' '' '' '' '' '' '' '' '' '']\n",
      " ['' '' '' '' '' '' '' '' '' '' '' '' '' '' '' '' '' '' '' '' '' '' '' '']\n",
      " ['' '' '' '' '' '' '' '' '' '' '' '' '' '' '' '' '' '' '' '' '' '' '' '']]\n"
     ]
    }
   ],
   "source": [
    "print(initial_grid)"
   ]
  },
  {
   "cell_type": "code",
   "execution_count": 11,
   "metadata": {},
   "outputs": [
    {
     "data": {
      "text/plain": [
       "['start',\n",
       " 'straight',\n",
       " 'right',\n",
       " 'left',\n",
       " 'right',\n",
       " 'left',\n",
       " 'left',\n",
       " 'straight',\n",
       " 'left',\n",
       " 'right',\n",
       " 'right',\n",
       " 'straight']"
      ]
     },
     "execution_count": 11,
     "metadata": {},
     "output_type": "execute_result"
    }
   ],
   "source": [
    "def determine_directions(amino_acid_order):\n",
    "    \"\"\"\n",
    "    Determines the direction of each amino acid placement relative to the previous one.\n",
    "    Directions are 'left', 'straight', 'right', considering the orientation of the movement from the previous point.\n",
    "    \"\"\"\n",
    "    directions = ['start']  # First amino acid has no direction\n",
    "\n",
    "    # Define movement vectors for easier comparison\n",
    "    movement_vectors = {\n",
    "        'up': (-1, 0),\n",
    "        'down': (1, 0),\n",
    "        'left': (0, -1),\n",
    "        'right': (0, 1)\n",
    "    }\n",
    "\n",
    "    for i in range(1, len(amino_acid_order)):\n",
    "        # Get the current and previous amino acid's row and column\n",
    "        _, (current_row, current_col) = amino_acid_order[i]\n",
    "        _, (prev_row, prev_col) = amino_acid_order[i - 1]\n",
    "\n",
    "        # Determine the movement vector from the previous amino acid\n",
    "        move_vector = (current_row - prev_row, current_col - prev_col)\n",
    "\n",
    "        if i == 1:\n",
    "            # For the second amino acid, we don't have a previous direction, so we set it as straight\n",
    "            direction = 'straight'\n",
    "        else:\n",
    "            # Get the previous movement vector\n",
    "            _, (prev_prev_row, prev_prev_col) = amino_acid_order[i - 2]\n",
    "            prev_move_vector = (prev_row - prev_prev_row, prev_col - prev_prev_col)\n",
    "\n",
    "            # Determine direction based on previous movement vector\n",
    "            if prev_move_vector in [movement_vectors['up'], movement_vectors['down']]:\n",
    "                # Moving vertically\n",
    "                if move_vector == movement_vectors['left']:\n",
    "                    direction = 'left' if prev_move_vector == movement_vectors['up'] else 'right'\n",
    "                elif move_vector == movement_vectors['right']:\n",
    "                    direction = 'right' if prev_move_vector == movement_vectors['up'] else 'left'\n",
    "                else:\n",
    "                    direction = 'straight'\n",
    "            else:\n",
    "                # Moving horizontally\n",
    "                if move_vector == movement_vectors['up']:\n",
    "                    direction = 'left' if prev_move_vector == movement_vectors['right'] else 'right'\n",
    "                elif move_vector == movement_vectors['down']:\n",
    "                    direction = 'right' if prev_move_vector == movement_vectors['right'] else 'left'\n",
    "                else:\n",
    "                    direction = 'straight'\n",
    "\n",
    "        directions.append(direction)\n",
    "\n",
    "    return directions\n",
    "\n",
    "# Test the refined function with the provided example amino_acid_order\n",
    "determine_directions(amino_acid_order)"
   ]
  },
  {
   "cell_type": "code",
   "execution_count": 12,
   "metadata": {},
   "outputs": [
    {
     "name": "stdout",
     "output_type": "stream",
     "text": [
      "Trimmed Grid: \n",
      " [['' '' 'H' '']\n",
      " ['' 'P' 'P' '']\n",
      " ['P' 'P' 'P' 'P']\n",
      " ['P' 'P' 'H' 'P']\n",
      " ['' '' '' 'P']]\n"
     ]
    }
   ],
   "source": [
    "def trim_empty_rows_and_columns(grid):\n",
    "    # Find the indices of non-empty rows and columns\n",
    "    non_empty_rows = np.any(grid != '', axis=1)\n",
    "    non_empty_columns = np.any(grid != '', axis=0)\n",
    "\n",
    "    # Use boolean indexing to extract non-empty rows and columns\n",
    "    trimmed_grid = grid[non_empty_rows][:, non_empty_columns]\n",
    "\n",
    "    return trimmed_grid\n",
    "\n",
    "# Call the function to trim empty rows and columns\n",
    "trimmed_grid = trim_empty_rows_and_columns(initial_grid)\n",
    "\n",
    "# Print the trimmed grid\n",
    "print(\"Trimmed Grid:\", '\\n', trimmed_grid)"
   ]
  },
  {
   "cell_type": "markdown",
   "metadata": {},
   "source": [
    "### Step 3a - Calculate H-bonds\n",
    "The `find_H_combinations_grid` function is used to~ identify and collect sets of coordinates representing adjacent 'H' amino acids in a grid. It iterates through the entire grid, checking each position for the presence of 'H' amino acids. If an 'H' amino acid is found, it examines neighboring positions (up, down, left, right) to identify adjacent 'H' amino acids. For each pair of adjacent 'H' amino acids, it creates a frozenset containing their coordinates (ensuring that the order of coordinates doesn't matter) and adds this frozenset to a set. This set stores all unique pairs of adjacent 'H' amino acids found in the grid. The function returns this set of adjacent 'H' amino acid pairs."
   ]
  },
  {
   "cell_type": "code",
   "execution_count": 13,
   "metadata": {},
   "outputs": [
    {
     "data": {
      "text/plain": [
       "set()"
      ]
     },
     "execution_count": 13,
     "metadata": {},
     "output_type": "execute_result"
    }
   ],
   "source": [
    "def find_H_pairs_grid(grid):\n",
    "    adjacent_hydrophobic_amino_acids = set()  # Use a set to automatically remove duplicates\n",
    "\n",
    "    # Iterate through the grid to find adjacent 'H' amino acids\n",
    "    for row in range(grid.shape[0]):\n",
    "        for col in range(grid.shape[1]):\n",
    "            current_acid = grid[row, col]\n",
    "\n",
    "            # Check if the current amino acid is 'H'\n",
    "            if current_acid == 'H':\n",
    "                # Check the neighboring positions (up, down, left, right) relative to the current position\n",
    "                neighbors = [\n",
    "                    (row - 1, col),\n",
    "                    (row + 1, col),\n",
    "                    (row, col - 1),\n",
    "                    (row, col + 1)\n",
    "                ]\n",
    "\n",
    "                for neighbor_row, neighbor_col in neighbors:\n",
    "                    # Check if the neighbor is within the grid bounds\n",
    "                    if 0 <= neighbor_row < grid.shape[0] and 0 <= neighbor_col < grid.shape[1]:\n",
    "                        neighbor_acid = grid[neighbor_row, neighbor_col]\n",
    "\n",
    "                        # Check if the neighbor is also 'H'\n",
    "                        if neighbor_acid == 'H':\n",
    "                            # Use frozenset to ensure that the order of coordinates doesn't matter\n",
    "                            amino_acid_pair = frozenset({(row, col), (neighbor_row, neighbor_col)})\n",
    "                            adjacent_hydrophobic_amino_acids.add(amino_acid_pair)\n",
    "                            \n",
    "    return adjacent_hydrophobic_amino_acids\n",
    "\n",
    "find_H_pairs_grid(initial_grid)"
   ]
  },
  {
   "cell_type": "markdown",
   "metadata": {},
   "source": [
    "### Step 3b - Calculate H-bonds\n",
    "The `find_H_combinations_order` function examines the order of amino acids and identifies adjacent 'H' amino acids. It does this by iterating through the amino acid order, checking pairs of consecutive amino acids for 'H' type, and recording these pairs as frozensets in a set to remove duplicates. This function helps identify adjacent 'H' amino acids in the sequence order, which is useful for analyzing the arrangement of amino acids."
   ]
  },
  {
   "cell_type": "code",
   "execution_count": 14,
   "metadata": {},
   "outputs": [
    {
     "data": {
      "text/plain": [
       "set()"
      ]
     },
     "execution_count": 14,
     "metadata": {},
     "output_type": "execute_result"
    }
   ],
   "source": [
    "def find_H_pairs_order(amino_acid_order):\n",
    "    adjacent_hydrophobic_amino_acids = set()  # Use a set to automatically remove duplicates\n",
    "\n",
    "    # Iterate through the amino acid order to find adjacent 'H' amino acids\n",
    "    for i in range(len(amino_acid_order) - 1):\n",
    "        current_acid, current_position = amino_acid_order[i]\n",
    "        next_acid, next_position = amino_acid_order[i + 1]\n",
    "\n",
    "        # Check if both current and next amino acids are 'H'\n",
    "        if current_acid == 'H' and next_acid == 'H':\n",
    "            # Use frozenset to ensure that the order of positions doesn't matter\n",
    "            amino_acid_pair = frozenset({current_position, next_position})\n",
    "            adjacent_hydrophobic_amino_acids.add(amino_acid_pair)\n",
    "\n",
    "    return adjacent_hydrophobic_amino_acids\n",
    "\n",
    "find_H_pairs_order(amino_acid_order)"
   ]
  },
  {
   "cell_type": "markdown",
   "metadata": {},
   "source": [
    "### Step 3c - Calculate H-bonds\n",
    "The provided code calculates the H-combinations in two different ways and then compares them. It calculates the H-pairs in the grid using the `find_H_combinations_grid` function and the H-pairs in the amino acid order using the `find_H_combination_order` function. Then, it subtracts the H-combinations found in the amino acid order from those found in the grid. This comparison helps identify the **H-bonds** that are formed between adjacent 'H' amino acids in the grid but not in the given amino acid sequence order."
   ]
  },
  {
   "cell_type": "code",
   "execution_count": 15,
   "metadata": {},
   "outputs": [],
   "source": [
    "def find_H_bonds(grid, amino_acid_order):\n",
    "    grid_h_pairs = find_H_pairs_grid(grid)\n",
    "    order_h_pairs = find_H_pairs_order(amino_acid_order)\n",
    "    return grid_h_pairs - order_h_pairs\n",
    "\n",
    "H_bonds = find_H_bonds(initial_grid, amino_acid_order)"
   ]
  },
  {
   "cell_type": "code",
   "execution_count": 16,
   "metadata": {},
   "outputs": [
    {
     "name": "stdout",
     "output_type": "stream",
     "text": [
      "Number of H-bonds: 0\n"
     ]
    }
   ],
   "source": [
    "print('Number of H-bonds:', len(H_bonds))\n",
    "\n",
    "for bond in H_bonds:\n",
    "    coordinates = [coord for coord in bond]\n",
    "    print(coordinates)"
   ]
  },
  {
   "cell_type": "markdown",
   "metadata": {},
   "source": [
    "### Step 4 - Creating Samples\n",
    "The code generates N random protein grid configurations with a specified number of hydrophobic and polar amino acids using the `generate_random_samples` function. "
   ]
  },
  {
   "cell_type": "code",
   "execution_count": 17,
   "metadata": {},
   "outputs": [
    {
     "data": {
      "text/plain": [
       "(7,\n",
       " 5,\n",
       " ['H', 'P', 'H', 'P', 'P', 'P', 'H', 'H', 'H', 'P', 'H', 'H'],\n",
       " array([['', '', '', '', '', '', '', '', '', '', '', '', '', '', '', '',\n",
       "         '', '', '', '', '', '', '', ''],\n",
       "        ['', '', '', '', '', '', '', '', '', '', '', '', '', '', '', '',\n",
       "         '', '', '', '', '', '', '', ''],\n",
       "        ['', '', '', '', '', '', '', '', '', '', '', '', '', '', '', '',\n",
       "         '', '', '', '', '', '', '', ''],\n",
       "        ['', '', '', '', '', '', '', '', '', '', '', '', '', '', '', '',\n",
       "         '', '', '', '', '', '', '', ''],\n",
       "        ['', '', '', '', '', '', '', '', '', '', '', '', '', '', '', '',\n",
       "         '', '', '', '', '', '', '', ''],\n",
       "        ['', '', '', '', '', '', '', '', '', '', '', '', '', '', '', '',\n",
       "         '', '', '', '', '', '', '', ''],\n",
       "        ['', '', '', '', '', '', '', '', '', '', '', '', '', '', '', '',\n",
       "         '', '', '', '', '', '', '', ''],\n",
       "        ['', '', '', '', '', '', '', '', '', '', '', '', '', '', '', '',\n",
       "         '', '', '', '', '', '', '', ''],\n",
       "        ['', '', '', '', '', '', '', '', '', '', '', '', '', '', 'H', 'P',\n",
       "         '', '', '', '', '', '', '', ''],\n",
       "        ['', '', '', '', '', '', '', '', '', '', '', '', '', '', 'H', 'H',\n",
       "         '', '', '', '', '', '', '', ''],\n",
       "        ['', '', '', '', '', '', '', '', '', '', '', '', '', '', 'H', 'H',\n",
       "         '', '', '', '', '', '', '', ''],\n",
       "        ['', '', '', '', '', '', '', '', '', '', '', '', '', '', 'P', '',\n",
       "         '', '', '', '', '', '', '', ''],\n",
       "        ['', '', '', '', '', '', '', '', '', '', '', '', 'H', 'P', 'P',\n",
       "         '', '', '', '', '', '', '', '', ''],\n",
       "        ['', '', '', '', '', '', '', '', '', '', '', '', 'P', 'H', '', '',\n",
       "         '', '', '', '', '', '', '', ''],\n",
       "        ['', '', '', '', '', '', '', '', '', '', '', '', '', '', '', '',\n",
       "         '', '', '', '', '', '', '', ''],\n",
       "        ['', '', '', '', '', '', '', '', '', '', '', '', '', '', '', '',\n",
       "         '', '', '', '', '', '', '', ''],\n",
       "        ['', '', '', '', '', '', '', '', '', '', '', '', '', '', '', '',\n",
       "         '', '', '', '', '', '', '', ''],\n",
       "        ['', '', '', '', '', '', '', '', '', '', '', '', '', '', '', '',\n",
       "         '', '', '', '', '', '', '', ''],\n",
       "        ['', '', '', '', '', '', '', '', '', '', '', '', '', '', '', '',\n",
       "         '', '', '', '', '', '', '', ''],\n",
       "        ['', '', '', '', '', '', '', '', '', '', '', '', '', '', '', '',\n",
       "         '', '', '', '', '', '', '', ''],\n",
       "        ['', '', '', '', '', '', '', '', '', '', '', '', '', '', '', '',\n",
       "         '', '', '', '', '', '', '', ''],\n",
       "        ['', '', '', '', '', '', '', '', '', '', '', '', '', '', '', '',\n",
       "         '', '', '', '', '', '', '', ''],\n",
       "        ['', '', '', '', '', '', '', '', '', '', '', '', '', '', '', '',\n",
       "         '', '', '', '', '', '', '', ''],\n",
       "        ['', '', '', '', '', '', '', '', '', '', '', '', '', '', '', '',\n",
       "         '', '', '', '', '', '', '', '']], dtype=object),\n",
       " 12,\n",
       " [('H', (12, 12)),\n",
       "  ('P', (13, 12)),\n",
       "  ('H', (13, 13)),\n",
       "  ('P', (12, 13)),\n",
       "  ('P', (12, 14)),\n",
       "  ('P', (11, 14)),\n",
       "  ('H', (10, 14)),\n",
       "  ('H', (9, 14)),\n",
       "  ('H', (8, 14)),\n",
       "  ('P', (8, 15)),\n",
       "  ('H', (9, 15)),\n",
       "  ('H', (10, 15))],\n",
       " ['start',\n",
       "  'straight',\n",
       "  'left',\n",
       "  'left',\n",
       "  'right',\n",
       "  'left',\n",
       "  'straight',\n",
       "  'straight',\n",
       "  'straight',\n",
       "  'right',\n",
       "  'right',\n",
       "  'straight'],\n",
       " array([['', '', 'H', 'P'],\n",
       "        ['', '', 'H', 'H'],\n",
       "        ['', '', 'H', 'H'],\n",
       "        ['', '', 'P', ''],\n",
       "        ['H', 'P', 'P', ''],\n",
       "        ['P', 'H', '', '']], dtype=object),\n",
       " (6, 4),\n",
       " 2,\n",
       " 0.16666666666666666,\n",
       " 0)"
      ]
     },
     "execution_count": 17,
     "metadata": {},
     "output_type": "execute_result"
    }
   ],
   "source": [
    "def generate_random_samples(N, total_amino_acids):\n",
    "    random_samples = []\n",
    "\n",
    "    for _ in range(N):\n",
    "        num_hydrophobic, num_polar, amino_acids = random_division(total_amino_acids)\n",
    "        amino_acids_copy = amino_acids.copy()\n",
    "        initial_grid, amino_acid_order, backtrack_count = initialize_grid(amino_acids_copy, num_hydrophobic, num_polar)\n",
    "        trimmed_grid = trim_empty_rows_and_columns(initial_grid)\n",
    "        protein_dimensions = trimmed_grid.shape\n",
    "        amino_acids_on_grid = np.count_nonzero(initial_grid != '')\n",
    "        amino_acids_directions =  determine_directions(amino_acid_order)\n",
    "        hbonds = len(find_H_bonds(initial_grid, amino_acid_order))\n",
    "        hratio = hbonds / amino_acids_on_grid\n",
    "        backtracks = backtrack_count\n",
    "        \n",
    "        \n",
    "        random_samples.append((num_hydrophobic,\n",
    "                               num_polar,\n",
    "                               amino_acids,\n",
    "                               initial_grid,\n",
    "                               amino_acids_on_grid,\n",
    "                               amino_acid_order,\n",
    "                               amino_acids_directions,\n",
    "                               trimmed_grid, \n",
    "                               protein_dimensions,\n",
    "                               hbonds,\n",
    "                               hratio,\n",
    "                               backtracks,\n",
    "                              ))\n",
    "\n",
    "    return random_samples\n",
    "\n",
    "# Example usage\n",
    "generate_random_samples(3, total_amino_acids)[0]"
   ]
  },
  {
   "cell_type": "code",
   "execution_count": 18,
   "metadata": {},
   "outputs": [],
   "source": [
    "import time\n",
    "\n",
    "def store_samples_in_dataframe(num_samples, amino_acid_lengths):\n",
    "    \n",
    "    data = {\n",
    "        \"Amino Acid Length\": [],\n",
    "        \"Num Hydrophobic\": [],\n",
    "        \"Num Polar\": [],\n",
    "        \"1D protein\": [],\n",
    "        \"2D protein\": [],\n",
    "        \"Amino Acids on Grid\": [],  \n",
    "        \"Trimmed 2D protein\": [],\n",
    "        \"Shape 2D protein\": [],\n",
    "        \"Amino Acid Order\": [],\n",
    "        \"Amino Acid Direction\": [],\n",
    "        \"H-Bonds\": [],\n",
    "        \"H-Ratio\": [],\n",
    "        \"Recursions\": [],\n",
    "        \"Time Taken (s)\": [], \n",
    "    }\n",
    "\n",
    "    for length in amino_acid_lengths:\n",
    "        random_samples = generate_random_samples(num_samples, length)\n",
    "        for sample in random_samples:\n",
    "            start_time = time.time()  # Start time before producing the sample\n",
    "            \n",
    "            num_hydrophobic, num_polar, amino_acids, initial_grid, amino_acids_on_grid, amino_acid_order, determine_directions ,trimmed_grid, protein_dimensions, hbonds, hratio, backtracks = sample\n",
    "            \n",
    "            end_time = time.time()  # End time after producing the sample\n",
    "            \n",
    "            data[\"Amino Acid Length\"].append(length)\n",
    "            data[\"Num Hydrophobic\"].append(num_hydrophobic)\n",
    "            data[\"Num Polar\"].append(num_polar)\n",
    "            data[\"1D protein\"].append(amino_acids)\n",
    "            data[\"2D protein\"].append(initial_grid)\n",
    "            data[\"Amino Acids on Grid\"].append(amino_acids_on_grid)\n",
    "            data[\"Trimmed 2D protein\"].append(trimmed_grid)\n",
    "            data[\"Shape 2D protein\"].append(protein_dimensions)\n",
    "            data[\"Amino Acid Order\"].append(amino_acid_order)\n",
    "            data[\"Amino Acid Direction\"].append(determine_directions),\n",
    "            data[\"H-Bonds\"].append(hbonds)\n",
    "            data['H-Ratio'].append(hratio)\n",
    "            data[\"Recursions\"].append(backtracks)\n",
    "            data[\"Time Taken (s)\"].append(end_time - start_time)\n",
    "\n",
    "    df = pd.DataFrame(data)\n",
    "    return df"
   ]
  },
  {
   "cell_type": "code",
   "execution_count": 19,
   "metadata": {},
   "outputs": [],
   "source": [
    "def timing_samples(num_samples, amino_acid_lengths):\n",
    "    total_times = {}\n",
    "\n",
    "    for length in amino_acid_lengths:\n",
    "        start_time = time.time()\n",
    "        \n",
    "        _ = store_samples_in_dataframe(num_samples, [length])  # We call the original function here\n",
    "        \n",
    "        end_time = time.time()\n",
    "        \n",
    "        total_times[length] = end_time - start_time\n",
    "        print(f\"Time taken to create and process {num_samples} samples for amino acid length {length}: {total_times[length]:.2f} seconds\")\n",
    "\n",
    "    return total_times"
   ]
  },
  {
   "cell_type": "code",
   "execution_count": 20,
   "metadata": {},
   "outputs": [
    {
     "name": "stdout",
     "output_type": "stream",
     "text": [
      "Time taken to create and process 1000 samples for amino acid length 5: 0.11 seconds\n",
      "Time taken to create and process 1000 samples for amino acid length 10: 0.20 seconds\n",
      "Time taken to create and process 1000 samples for amino acid length 15: 0.29 seconds\n",
      "Time taken to create and process 1000 samples for amino acid length 20: 0.44 seconds\n",
      "Time taken to create and process 1000 samples for amino acid length 25: 0.66 seconds\n",
      "Time taken to create and process 1000 samples for amino acid length 30: 0.97 seconds\n",
      "Time taken to create and process 1000 samples for amino acid length 35: 1.59 seconds\n",
      "Time taken to create and process 1000 samples for amino acid length 40: 2.38 seconds\n",
      "Time taken to create and process 1000 samples for amino acid length 45: 3.62 seconds\n",
      "Time taken to create and process 1000 samples for amino acid length 50: 5.41 seconds\n",
      "CPU times: user 30.5 s, sys: 295 ms, total: 30.8 s\n",
      "Wall time: 30.8 s\n"
     ]
    }
   ],
   "source": [
    "%%time\n",
    "# Generate an experiment with 1000 samples for amino length [5, 10, 15 ..., X]\n",
    "\n",
    "num_samples = 1000\n",
    "amino_acid_lengths = [length for length in range(5, 26, 5)]\n",
    "time_data = timing_samples(num_samples, amino_acid_lengths)\n",
    "HP25E2 = store_samples_in_dataframe(num_samples, amino_acid_lengths)\n",
    "\n",
    "# num_samples = 1000\n",
    "# amino_acid_lengths = [length for length in range(5, 51, 5)]\n",
    "# time_data = timing_samples(num_samples, amino_acid_lengths)\n",
    "# HP50E2 = store_samples_in_dataframe(num_samples, amino_acid_lengths)\n",
    "\n",
    "# num_samples = 1000\n",
    "# amino_acid_lengths = [length for length in range(5, 101, 5)]\n",
    "# time_data = timing_samples(num_samples, amino_acid_lengths)\n",
    "# HP100E2 = store_samples_in_dataframe(num_samples, amino_acid_lengths)\n",
    "\n",
    "# num_samples = 1000\n",
    "# amino_acid_lengths = [length for length in range(5, 201, 5)]\n",
    "# time_data = timing_samples(num_samples, amino_acid_lengths)\n",
    "# HP200E2 = store_samples_in_dataframe(num_samples, amino_acid_lengths)\n",
    "\n"
   ]
  },
  {
   "cell_type": "code",
   "execution_count": null,
   "metadata": {},
   "outputs": [],
   "source": [
    "# HP25E2.to_csv('../Data/Experiment 4/HP25.csv', index=False)"
   ]
  },
  {
   "cell_type": "code",
   "execution_count": 22,
   "metadata": {},
   "outputs": [],
   "source": [
    "# HP50E2.to_csv('../Data/Experiment 4/HP50.csv', index=False)"
   ]
  },
  {
   "cell_type": "code",
   "execution_count": null,
   "metadata": {},
   "outputs": [],
   "source": [
    "# HP100E2.to_csv('../Data/Experiment 4/HP100.csv', index=False)"
   ]
  },
  {
   "cell_type": "code",
   "execution_count": null,
   "metadata": {},
   "outputs": [],
   "source": [
    "# HP200E2.to_csv('../Data/Experiment 4/HP200.csv', index=False)"
   ]
  }
 ],
 "metadata": {
  "kernelspec": {
   "display_name": "Python 3",
   "language": "python",
   "name": "python3"
  },
  "language_info": {
   "codemirror_mode": {
    "name": "ipython",
    "version": 3
   },
   "file_extension": ".py",
   "mimetype": "text/x-python",
   "name": "python",
   "nbconvert_exporter": "python",
   "pygments_lexer": "ipython3",
   "version": "3.8.3"
  }
 },
 "nbformat": 4,
 "nbformat_minor": 4
}
