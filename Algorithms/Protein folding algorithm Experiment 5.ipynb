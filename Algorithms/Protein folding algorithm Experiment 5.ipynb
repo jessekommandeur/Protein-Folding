{
 "cells": [
  {
   "cell_type": "markdown",
   "metadata": {},
   "source": [
    "## E5 - Solution Space Sampling in 2D \n",
    "In experiment 5, we generated the complete solution space to enumerate all valid conformations of amino acid sequences with lengths {5, 10, 15}. This comprehensive approach served to benchmark the empirical uniform randomness of the other four sampling methods utilized in the preceding experiments. Using a 2D lattice scaled to accommodate the longest protein sequence, we systematically generated each possible conformation for the given lengths. A combinatorial approach was employed to conduct a stacked DFS algorithm across the conformational landscape, assuring that each unique conformation was accounted for once and only once.\n",
    "\n",
    "![Example Screenshot](5-methods.png)\n",
    "\n",
    "The protein chain unfolding commenced from the grid’s central point, with each amino acid conforming to a predefined direction sequence {L, M, R}. Therefore, mathematically, the conformation space 𝐶 can be defined as shown in (1), where 𝑛 represents the number of amino acids, and each 𝑑𝑖 denotes the direction of the 𝑖-th amino acid, except for the first amino acid which is always ’S’.\n",
    "\n",
    "The dataset generated from this exhaustive search provided the basis for benchmarking the sampling efficacy of the previous experiments. By comparing the conformational distribution obtained from the exhaustive search with those from the stochastic and deterministic sampling methods, we aimed to evaluate their performance in producing uniform random samples. This analysis is crucial for understanding the randomness of our sampling methods relative to the entire landscape of possible conformations."
   ]
  },
  {
   "cell_type": "code",
   "execution_count": 2,
   "metadata": {},
   "outputs": [],
   "source": [
    "import numpy as np \n",
    "import pandas as pd\n",
    "import time as time\n",
    "np.set_printoptions(threshold=np.inf)"
   ]
  },
  {
   "cell_type": "markdown",
   "metadata": {},
   "source": [
    "### Step 1 - Initializing Acids"
   ]
  },
  {
   "cell_type": "code",
   "execution_count": 3,
   "metadata": {},
   "outputs": [],
   "source": [
    "total_amino_acids = 10\n",
    "\n",
    "# Generate a random sequence of amino acids\n",
    "def random_division(total_amino_acids):\n",
    "    num_hydrophobic = np.random.randint(1, total_amino_acids)  # Ensure at least one H and P\n",
    "    num_polar = total_amino_acids - num_hydrophobic\n",
    "    # Randomly shuffle the amino acids\n",
    "    amino_acids = ['H'] * num_hydrophobic + ['P'] * num_polar\n",
    "    np.random.shuffle(amino_acids)\n",
    "    return amino_acids"
   ]
  },
  {
   "cell_type": "code",
   "execution_count": null,
   "metadata": {},
   "outputs": [],
   "source": []
  },
  {
   "cell_type": "code",
   "execution_count": 4,
   "metadata": {},
   "outputs": [],
   "source": [
    "# Helper functions to get the next position based on the direction\n",
    "def get_next_position(position, direction, last_move):\n",
    "    vectors = {\n",
    "        'left': (-last_move[1], last_move[0]),\n",
    "        'right': (last_move[1], -last_move[0]),\n",
    "        'middle': last_move\n",
    "    }\n",
    "    return (position[0] + vectors[direction][0], position[1] + vectors[direction][1])"
   ]
  },
  {
   "cell_type": "code",
   "execution_count": 5,
   "metadata": {},
   "outputs": [],
   "source": [
    "# Check if the next position is valid (within bounds and not already occupied)\n",
    "def is_valid_position(grid, position):\n",
    "    return 0 <= position[0] < len(grid) and 0 <= position[1] < len(grid[0]) and grid[position[0]][position[1]] == ''"
   ]
  },
  {
   "cell_type": "code",
   "execution_count": 6,
   "metadata": {},
   "outputs": [],
   "source": [
    "def trimming_grid(grid):\n",
    "    # Find the indices of non-empty rows and columns\n",
    "    non_empty_rows = np.any(grid != '', axis=1)\n",
    "    non_empty_columns = np.any(grid != '', axis=0)\n",
    "\n",
    "    # Use boolean indexing to extract non-empty rows and columns\n",
    "    trimmed_grid = grid[non_empty_rows][:, non_empty_columns]\n",
    "\n",
    "    return trimmed_grid"
   ]
  },
  {
   "cell_type": "code",
   "execution_count": 7,
   "metadata": {},
   "outputs": [],
   "source": [
    "def get_protein_dimensions(trimmed_grid):\n",
    "    # Get the dimensions of the protein on the grid\n",
    "    # Placeholder implementation\n",
    "    return trimmed_grid.shape"
   ]
  },
  {
   "cell_type": "code",
   "execution_count": 8,
   "metadata": {},
   "outputs": [],
   "source": [
    "# Recursive DFS function to generate all conformations\n",
    "def dfs(grid, current_path, position, last_move, all_conformations, amino_acids, current_index):\n",
    "    # Define the vectors inside the function\n",
    "    vectors = {\n",
    "        'left': (-last_move[1], last_move[0]),\n",
    "        'right': (last_move[1], -last_move[0]),\n",
    "        'middle': last_move\n",
    "    }\n",
    "\n",
    "    if current_index == len(amino_acids):  # All amino acids have been placed\n",
    "        all_conformations.append((['Start', 'middle'] + current_path, np.copy(grid)))  # Include the start and first straight move\n",
    "        return\n",
    "\n",
    "    for direction in ['left', 'middle', 'right']:\n",
    "        next_position = get_next_position(position, direction, last_move)\n",
    "        if is_valid_position(grid, next_position):\n",
    "            grid[next_position] = amino_acids[current_index]  # Place the amino acid on the grid\n",
    "            dfs(grid, current_path + [direction], next_position, vectors[direction], all_conformations, amino_acids, current_index + 1)\n",
    "            grid[next_position] = ''  # Remove the amino acid when backtracking"
   ]
  },
  {
   "cell_type": "code",
   "execution_count": 9,
   "metadata": {},
   "outputs": [],
   "source": [
    "def generate_conformations(total_amino_acids, random_division, get_next_position, is_valid_position):\n",
    "    \"\"\"\n",
    "    Generate all possible conformations for a given number of amino acids.\n",
    "\n",
    "    Parameters:\n",
    "    - total_amino_acids (int): Total number of amino acids.\n",
    "    - random_division (function): Function to randomly divide amino acids.\n",
    "    - get_next_position (function): Function to get the next grid position.\n",
    "    - is_valid_position (function): Function to check if a grid position is valid.\n",
    "    \"\"\"\n",
    "\n",
    "    # Initialize the grid\n",
    "    grid_size = total_amino_acids * 2  # Make the grid large enough\n",
    "    grid = np.full((grid_size, grid_size), fill_value='', dtype=object)\n",
    "    amino_acids = random_division(total_amino_acids)\n",
    "\n",
    "    # Start the DFS from the second position\n",
    "    start_position = (grid_size // 2, grid_size // 2)\n",
    "    initial_move = (0, 1)  # Represents the 'straight' move\n",
    "    second_position = get_next_position(start_position, 'middle', initial_move)\n",
    "    grid[start_position] = amino_acids[0]  # Place the first amino acid\n",
    "    grid[second_position] = amino_acids[1]  # Place the second amino acid\n",
    "\n",
    "    # Perform DFS to find all paths from the third amino acid\n",
    "    all_conformations = []\n",
    "    dfs(grid, [], second_position, initial_move, all_conformations, amino_acids, 2)\n",
    "\n",
    "    # Store the results in a list\n",
    "    results = []\n",
    "    for path, grid_state in all_conformations:\n",
    "        trimmed_grid = trimming_grid(grid_state)\n",
    "        protein_dimensions = get_protein_dimensions(trimmed_grid) \n",
    "        results.append((amino_acids, grid_state, path, trimmed_grid, protein_dimensions))\n",
    "    \n",
    "    return results"
   ]
  },
  {
   "cell_type": "code",
   "execution_count": 10,
   "metadata": {},
   "outputs": [],
   "source": [
    "def store_samples_in_dataframe(amino_acid_lengths):\n",
    "    data = {\n",
    "        \"Amino Acid Length\": [],\n",
    "        \"1D Protein\": [],\n",
    "        \"2D Protein\": [], \n",
    "        \"Trimmed 2D Protein\": [],\n",
    "        \"Shape 2D Protein\": [],\n",
    "        \"Amino Acid Path\": [],\n",
    "    }\n",
    "    \n",
    "    path_count = 0\n",
    "    milestone = 500000\n",
    "\n",
    "    for length in amino_acid_lengths:\n",
    "        conformation_samples = generate_conformations(length, random_division, get_next_position, is_valid_position)\n",
    "        for sample in conformation_samples:\n",
    "            amino_acids, grid_state, path, trimmed_grid, protein_dimensions = sample\n",
    "            data[\"Amino Acid Length\"].append(length)\n",
    "            data[\"1D Protein\"].append(amino_acids)\n",
    "            data[\"2D Protein\"].append(grid_state)\n",
    "            data[\"Trimmed 2D Protein\"].append(trimmed_grid)\n",
    "            data[\"Shape 2D Protein\"].append(protein_dimensions)\n",
    "            data[\"Amino Acid Path\"].append(path)\n",
    "            \n",
    "            path_count +=1\n",
    "            \n",
    "            # Check if the path count has reached the next milestone\n",
    "            if path_count >= milestone:\n",
    "                print(f\"Generated {milestone} paths for length {length}\")\n",
    "                milestone += 500000  # Update the next milestone\n",
    "\n",
    "    df = pd.DataFrame(data)\n",
    "    return df, path_count\n",
    "\n",
    "# Generating conformations for lengths 5 and 10\n",
    "amino_acid_lengths = [5, 10]\n",
    "HP25 = store_samples_in_dataframe(amino_acid_lengths)"
   ]
  },
  {
   "cell_type": "code",
   "execution_count": 11,
   "metadata": {},
   "outputs": [],
   "source": [
    "def timing_samples(amino_acid_lengths):\n",
    "    total_times = {}\n",
    "\n",
    "    for length in amino_acid_lengths:\n",
    "        start_time = time.time()\n",
    "        \n",
    "        _, path_count = store_samples_in_dataframe([length])  # Get the path count\n",
    "        \n",
    "        end_time = time.time()\n",
    "        \n",
    "        total_times[length] = end_time - start_time\n",
    "        print(f\"Time taken to create and process samples for amino acid length {length}: {total_times[length]:.2f} seconds. Final path count: {path_count}\")\n",
    "\n",
    "    return total_times"
   ]
  },
  {
   "cell_type": "markdown",
   "metadata": {},
   "source": [
    "### Step 4 - Creating Samples\n",
    "The code generates N random protein grid configurations with a specified number of hydrophobic and polar amino acids using the `generate_random_samples` function. "
   ]
  },
  {
   "cell_type": "code",
   "execution_count": 12,
   "metadata": {},
   "outputs": [
    {
     "name": "stdout",
     "output_type": "stream",
     "text": [
      "Time taken to create and process samples for amino acid length 5: 0.00 seconds. Final path count: 25\n",
      "Time taken to create and process samples for amino acid length 10: 0.16 seconds. Final path count: 4067\n",
      "Generated 500000 paths for length 15\n",
      "Time taken to create and process samples for amino acid length 15: 40.75 seconds. Final path count: 593611\n",
      "Generated 500000 paths for length 15\n",
      "CPU times: user 1min 8s, sys: 7.94 s, total: 1min 16s\n",
      "Wall time: 1min 18s\n"
     ]
    }
   ],
   "source": [
    "%%time\n",
    "# Generate an experiment with all samples for amino length [5, 10, 15 ..., 25]\n",
    "\n",
    "amino_acid_lengths = [length for length in range(5, 16, 5)]\n",
    "time_data = timing_samples(amino_acid_lengths)\n",
    "HP25 = store_samples_in_dataframe(amino_acid_lengths)\n",
    "\n",
    "# amino_acid_lengths = [length for length in range(5, 51, 5)]\n",
    "# time_data = timing_samples(amino_acid_lengths)\n",
    "# HP50 = store_samples_in_dataframe(num_samples, amino_acid_lengths)"
   ]
  },
  {
   "cell_type": "code",
   "execution_count": 23,
   "metadata": {},
   "outputs": [
    {
     "data": {
      "text/html": [
       "<div>\n",
       "<style scoped>\n",
       "    .dataframe tbody tr th:only-of-type {\n",
       "        vertical-align: middle;\n",
       "    }\n",
       "\n",
       "    .dataframe tbody tr th {\n",
       "        vertical-align: top;\n",
       "    }\n",
       "\n",
       "    .dataframe thead th {\n",
       "        text-align: right;\n",
       "    }\n",
       "</style>\n",
       "<table border=\"1\" class=\"dataframe\">\n",
       "  <thead>\n",
       "    <tr style=\"text-align: right;\">\n",
       "      <th></th>\n",
       "      <th>Amino Acid Length</th>\n",
       "      <th>1D Protein</th>\n",
       "      <th>2D Protein</th>\n",
       "      <th>Trimmed 2D Protein</th>\n",
       "      <th>Shape 2D Protein</th>\n",
       "      <th>Amino Acid Path</th>\n",
       "    </tr>\n",
       "  </thead>\n",
       "  <tbody>\n",
       "    <tr>\n",
       "      <th>0</th>\n",
       "      <td>5</td>\n",
       "      <td>[P, H, P, H, H]</td>\n",
       "      <td>[[, , , , , , , , , ], [, , , , , , , , , ], [...</td>\n",
       "      <td>[[H, H, P], [, P, H]]</td>\n",
       "      <td>(2, 3)</td>\n",
       "      <td>[Start, middle, left, left, middle]</td>\n",
       "    </tr>\n",
       "    <tr>\n",
       "      <th>1</th>\n",
       "      <td>5</td>\n",
       "      <td>[P, H, P, H, H]</td>\n",
       "      <td>[[, , , , , , , , , ], [, , , , , , , , , ], [...</td>\n",
       "      <td>[[H, ], [H, P], [P, H]]</td>\n",
       "      <td>(3, 2)</td>\n",
       "      <td>[Start, middle, left, left, right]</td>\n",
       "    </tr>\n",
       "    <tr>\n",
       "      <th>2</th>\n",
       "      <td>5</td>\n",
       "      <td>[P, H, P, H, H]</td>\n",
       "      <td>[[, , , , , , , , , ], [, , , , , , , , , ], [...</td>\n",
       "      <td>[[H, H], [, P], [P, H]]</td>\n",
       "      <td>(3, 2)</td>\n",
       "      <td>[Start, middle, left, middle, left]</td>\n",
       "    </tr>\n",
       "    <tr>\n",
       "      <th>3</th>\n",
       "      <td>5</td>\n",
       "      <td>[P, H, P, H, H]</td>\n",
       "      <td>[[, , , , , , , , , ], [, , , , , , , , , ], [...</td>\n",
       "      <td>[[, H], [, H], [, P], [P, H]]</td>\n",
       "      <td>(4, 2)</td>\n",
       "      <td>[Start, middle, left, middle, middle]</td>\n",
       "    </tr>\n",
       "    <tr>\n",
       "      <th>4</th>\n",
       "      <td>5</td>\n",
       "      <td>[P, H, P, H, H]</td>\n",
       "      <td>[[, , , , , , , , , ], [, , , , , , , , , ], [...</td>\n",
       "      <td>[[, H, H], [, P, ], [P, H, ]]</td>\n",
       "      <td>(3, 3)</td>\n",
       "      <td>[Start, middle, left, middle, right]</td>\n",
       "    </tr>\n",
       "  </tbody>\n",
       "</table>\n",
       "</div>"
      ],
      "text/plain": [
       "   Amino Acid Length       1D Protein  \\\n",
       "0                  5  [P, H, P, H, H]   \n",
       "1                  5  [P, H, P, H, H]   \n",
       "2                  5  [P, H, P, H, H]   \n",
       "3                  5  [P, H, P, H, H]   \n",
       "4                  5  [P, H, P, H, H]   \n",
       "\n",
       "                                          2D Protein  \\\n",
       "0  [[, , , , , , , , , ], [, , , , , , , , , ], [...   \n",
       "1  [[, , , , , , , , , ], [, , , , , , , , , ], [...   \n",
       "2  [[, , , , , , , , , ], [, , , , , , , , , ], [...   \n",
       "3  [[, , , , , , , , , ], [, , , , , , , , , ], [...   \n",
       "4  [[, , , , , , , , , ], [, , , , , , , , , ], [...   \n",
       "\n",
       "              Trimmed 2D Protein Shape 2D Protein  \\\n",
       "0          [[H, H, P], [, P, H]]           (2, 3)   \n",
       "1        [[H, ], [H, P], [P, H]]           (3, 2)   \n",
       "2        [[H, H], [, P], [P, H]]           (3, 2)   \n",
       "3  [[, H], [, H], [, P], [P, H]]           (4, 2)   \n",
       "4  [[, H, H], [, P, ], [P, H, ]]           (3, 3)   \n",
       "\n",
       "                         Amino Acid Path  \n",
       "0    [Start, middle, left, left, middle]  \n",
       "1     [Start, middle, left, left, right]  \n",
       "2    [Start, middle, left, middle, left]  \n",
       "3  [Start, middle, left, middle, middle]  \n",
       "4   [Start, middle, left, middle, right]  "
      ]
     },
     "execution_count": 23,
     "metadata": {},
     "output_type": "execute_result"
    }
   ],
   "source": [
    "HP25[0].head()"
   ]
  },
  {
   "cell_type": "code",
   "execution_count": 32,
   "metadata": {},
   "outputs": [
    {
     "data": {
      "text/plain": [
       "0         [Start, middle, left, left, middle]\n",
       "1          [Start, middle, left, left, right]\n",
       "2         [Start, middle, left, middle, left]\n",
       "3       [Start, middle, left, middle, middle]\n",
       "4        [Start, middle, left, middle, right]\n",
       "5          [Start, middle, left, right, left]\n",
       "6        [Start, middle, left, right, middle]\n",
       "7         [Start, middle, left, right, right]\n",
       "8         [Start, middle, middle, left, left]\n",
       "9       [Start, middle, middle, left, middle]\n",
       "10       [Start, middle, middle, left, right]\n",
       "11      [Start, middle, middle, middle, left]\n",
       "12    [Start, middle, middle, middle, middle]\n",
       "13     [Start, middle, middle, middle, right]\n",
       "14       [Start, middle, middle, right, left]\n",
       "15     [Start, middle, middle, right, middle]\n",
       "16      [Start, middle, middle, right, right]\n",
       "17         [Start, middle, right, left, left]\n",
       "18       [Start, middle, right, left, middle]\n",
       "19        [Start, middle, right, left, right]\n",
       "20       [Start, middle, right, middle, left]\n",
       "21     [Start, middle, right, middle, middle]\n",
       "22      [Start, middle, right, middle, right]\n",
       "23        [Start, middle, right, right, left]\n",
       "24      [Start, middle, right, right, middle]\n",
       "Name: Amino Acid Path, dtype: object"
      ]
     },
     "execution_count": 32,
     "metadata": {},
     "output_type": "execute_result"
    }
   ],
   "source": [
    "solution_space_HP15  = HP25[0]['Amino Acid Path']\n",
    "solution_space_HP15[0:25]"
   ]
  },
  {
   "cell_type": "code",
   "execution_count": 29,
   "metadata": {},
   "outputs": [],
   "source": [
    "# solution_space_HP15.to_csv('../Data/Solution Space.csv', index=False)"
   ]
  }
 ],
 "metadata": {
  "kernelspec": {
   "display_name": "Python 3",
   "language": "python",
   "name": "python3"
  },
  "language_info": {
   "codemirror_mode": {
    "name": "ipython",
    "version": 3
   },
   "file_extension": ".py",
   "mimetype": "text/x-python",
   "name": "python",
   "nbconvert_exporter": "python",
   "pygments_lexer": "ipython3",
   "version": "3.8.3"
  }
 },
 "nbformat": 4,
 "nbformat_minor": 4
}
