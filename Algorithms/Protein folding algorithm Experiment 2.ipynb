{
 "cells": [
  {
   "cell_type": "markdown",
   "metadata": {},
   "source": [
    "## E2 - Deterministic Break Sampling in 2D\n",
    "In experiment 2, we conducted deterministic folding of 1,000 predefined strings of proteins with lengths {5,10,15,…,95,200}, on a 2D lattice sized to twice the length of the maximum protein sequence. However, this second approach uses predetermined folding patterns, rather than random placement at each step, for each amino acid in the sequence. The predetermined directions were set to either {L, M, R} for each amino acid, ensuring the path of the chain was decided before the simulation began. For example, the protein in Figure 2c has a predefined folding pattern of the following path: *{S, M, R, M, R, M, M, R, R, M\\}*. This method eliminates randomness in the placement and follows a predetermined sequence that is unique for each protein string but consistent across trials.\n",
    "\n",
    "![Example Screenshot](5-methods.png)\n",
    "\n",
    "The protein chain was extended by positioning each amino acid adjacent to the previous one according to its predetermined direction. This approach also avoids backward movements like experiment 1, but is more sensitive to collisions, since its path is predetermined and thus less flexible in avoiding adjacent neighbours, which might result in a collision. \n",
    "\n",
    "This deterministic chain-relative approach guarantees that the predetermined folding pattern is achieved for every simulation unless a collision is encountered along its path. The total count of amino acids was tracked as the chain unfolded on the grid. The folding process continued until all amino acids were placed on the grid or the predetermined adjacent placement location resulted in a collision, exemplified in Figure 2c."
   ]
  },
  {
   "cell_type": "code",
   "execution_count": 5,
   "metadata": {},
   "outputs": [],
   "source": [
    "import numpy as np \n",
    "import pandas as pd\n",
    "import time as time\n",
    "np.set_printoptions(threshold=np.inf)"
   ]
  },
  {
   "cell_type": "markdown",
   "metadata": {},
   "source": [
    "### Step 1 - Initializing Acids"
   ]
  },
  {
   "cell_type": "markdown",
   "metadata": {},
   "source": [
    "This function `random_division` takes the total number of amino acids as input and randomly divides them into hydrophobic and polar amino acids, before creating a random 1D amino acid string. It ensures that there's at least one hydrophobic and one polar amino acid. You can adjust the total_amino_acids variable to the desired number of amino acids you want to divide."
   ]
  },
  {
   "cell_type": "code",
   "execution_count": 6,
   "metadata": {},
   "outputs": [
    {
     "name": "stdout",
     "output_type": "stream",
     "text": [
      "Number of Hydro acids: 2\n",
      "Number of Polar acids: 8\n",
      "Random Amino Acid String: PPPPPPPPHH\n"
     ]
    }
   ],
   "source": [
    "total_amino_acids = 10  # Change this to a desired number, 10 is used for illustration purposes\n",
    "\n",
    "def random_division(total_amino_acids):\n",
    "    num_hydrophobic = np.random.randint(1, total_amino_acids)  # Ensure at least one H and P\n",
    "    num_polar = total_amino_acids - num_hydrophobic\n",
    "    # randomly shuffle the amino acids\n",
    "    amino_acids = ['H'] * num_hydrophobic + ['P'] * num_polar\n",
    "    np.random.shuffle(amino_acids)\n",
    "    return num_hydrophobic, num_polar, amino_acids\n",
    "\n",
    "num_hydrophobic, num_polar, amino_acids = random_division(total_amino_acids)\n",
    "print(\"Number of Hydro acids:\", num_hydrophobic)\n",
    "print(\"Number of Polar acids:\", num_polar)\n",
    "print(\"Random Amino Acid String:\", \"\".join(amino_acids))"
   ]
  },
  {
   "cell_type": "markdown",
   "metadata": {},
   "source": [
    "The function `generate_random_directions` generates a random sequence of directions for amino acid placement. The first direction is 'Start', the second is 'straight', and the rest are randomly chosen from 'left', 'straight', and 'right'."
   ]
  },
  {
   "cell_type": "code",
   "execution_count": 7,
   "metadata": {},
   "outputs": [],
   "source": [
    "def generate_random_directions(total_amino_acids):\n",
    "\n",
    "    # The first amino acid is 'Start' and the second is 'straight' by default\n",
    "    directions = ['Start', 'straight']\n",
    "\n",
    "    # For the remaining amino acids, choose randomly between 'left', 'straight', and 'right'\n",
    "    for _ in range(2, total_amino_acids):\n",
    "        directions.append(np.random.choice(['left', 'straight', 'right']))\n",
    "\n",
    "    return directions\n",
    "\n",
    "# Example usage for 5 amino acids\n",
    "random_directions = generate_random_directions(total_amino_acids)"
   ]
  },
  {
   "cell_type": "markdown",
   "metadata": {},
   "source": [
    "### Step 2 - Initializing Grid\n",
    "The `initialize_grid` function generates a grid to place amino acids, with specified dimensions, and populates it with H and P amino acids, while ensuring they do not overlap and tracks their placement order. This allows for simulating the random arrangement of amino acids on a grid for various applications."
   ]
  },
  {
   "cell_type": "code",
   "execution_count": 8,
   "metadata": {},
   "outputs": [],
   "source": [
    "def initialize_grid_directional(amino_acids, directions):\n",
    "    amino_acids_copy = amino_acids.copy()\n",
    "    total_amino_acids = len(amino_acids)\n",
    "    grid_size = total_amino_acids * 2\n",
    "    grid = np.full((grid_size, grid_size), fill_value='', dtype=object)\n",
    "    amino_acid_order = []  # List to track the order of amino acids placed\n",
    "\n",
    "    # Start from the middle of the grid\n",
    "    current_row, current_col = grid_size // 2, grid_size // 2\n",
    "\n",
    "    # Initial movement is to the right (on the grid)\n",
    "    current_orientation = 'right'\n",
    "\n",
    "    # Movement vectors for the grid\n",
    "    movement_vectors = {\n",
    "        'up': (-1, 0),\n",
    "        'down': (1, 0),\n",
    "        'left': (0, -1),\n",
    "        'right': (0, 1)\n",
    "    }\n",
    "\n",
    "    # Function to get the new orientation based on the current one and the turn taken\n",
    "    def get_new_orientation(current_orientation, turn):\n",
    "        if current_orientation == 'up':\n",
    "            return 'left' if turn == 'left' else 'right'\n",
    "        elif current_orientation == 'down':\n",
    "            return 'right' if turn == 'left' else 'left'\n",
    "        elif current_orientation == 'left':\n",
    "            return 'down' if turn == 'left' else 'up'\n",
    "        elif current_orientation == 'right':\n",
    "            return 'up' if turn == 'left' else 'down'\n",
    "\n",
    "    for direction in directions:\n",
    "        # Place the first amino acid\n",
    "        if direction == 'Start':\n",
    "            amino_acid_type = amino_acids_copy.pop(0)\n",
    "            grid[current_row, current_col] = amino_acid_type\n",
    "            amino_acid_order.append((amino_acid_type, (current_row, current_col)))\n",
    "        else:\n",
    "            # Determine the new orientation based on the turn\n",
    "            if direction != 'straight':\n",
    "                current_orientation = get_new_orientation(current_orientation, direction)\n",
    "\n",
    "            # Get the next move based on the current orientation\n",
    "            move = movement_vectors[current_orientation]\n",
    "            next_row, next_col = current_row + move[0], current_col + move[1]\n",
    "\n",
    "            # Check if the next position is on the grid and empty\n",
    "            if 0 <= next_row < grid_size and 0 <= next_col < grid_size and grid[next_row, next_col] == '':\n",
    "                # Place the amino acid and record the order\n",
    "                amino_acid_type = amino_acids_copy.pop(0)\n",
    "                grid[next_row, next_col] = amino_acid_type\n",
    "                amino_acid_order.append((amino_acid_type, (next_row, next_col)))\n",
    "\n",
    "                # Update the current position\n",
    "                current_row, current_col = next_row, next_col\n",
    "            else:\n",
    "                # If the position is not on the grid or not empty, break the loop\n",
    "                break\n",
    "\n",
    "        # Stop if we've placed all amino acids\n",
    "        if not amino_acids_copy:\n",
    "            break\n",
    "\n",
    "    return grid, amino_acid_order\n",
    "\n",
    "# example usage\n",
    "grid, amino_acid_order = initialize_grid_directional(amino_acids, random_directions)"
   ]
  },
  {
   "cell_type": "code",
   "execution_count": 9,
   "metadata": {},
   "outputs": [
    {
     "name": "stdout",
     "output_type": "stream",
     "text": [
      "Grid: [['' '' '' '' '' '' '' '' '' '' '' '' '' '' '' '' '' '' '' '']\n",
      " ['' '' '' '' '' '' '' '' '' '' '' '' '' '' '' '' '' '' '' '']\n",
      " ['' '' '' '' '' '' '' '' '' '' '' '' '' '' '' '' '' '' '' '']\n",
      " ['' '' '' '' '' '' '' '' '' '' '' '' '' '' '' '' '' '' '' '']\n",
      " ['' '' '' '' '' '' '' '' '' '' '' '' '' '' '' '' '' '' '' '']\n",
      " ['' '' '' '' '' '' '' '' '' '' '' '' '' '' '' '' '' '' '' '']\n",
      " ['' '' '' '' '' '' '' '' '' '' '' '' '' '' '' '' '' '' '' '']\n",
      " ['' '' '' '' '' '' '' '' '' '' '' '' '' '' '' '' '' '' '' '']\n",
      " ['' '' '' '' '' '' '' '' '' '' '' '' '' '' '' '' '' '' '' '']\n",
      " ['' '' '' '' '' '' '' '' '' '' '' '' '' '' '' '' '' '' '' '']\n",
      " ['' '' '' '' '' '' '' '' '' '' 'P' 'P' '' '' '' '' '' '' '' '']\n",
      " ['' '' '' '' '' '' '' '' '' '' '' 'P' 'P' '' '' '' '' '' '' '']\n",
      " ['' '' '' '' '' '' '' '' '' '' '' 'P' 'P' '' '' '' '' '' '' '']\n",
      " ['' '' '' '' '' '' '' '' '' '' '' '' '' '' '' '' '' '' '' '']\n",
      " ['' '' '' '' '' '' '' '' '' '' '' '' '' '' '' '' '' '' '' '']\n",
      " ['' '' '' '' '' '' '' '' '' '' '' '' '' '' '' '' '' '' '' '']\n",
      " ['' '' '' '' '' '' '' '' '' '' '' '' '' '' '' '' '' '' '' '']\n",
      " ['' '' '' '' '' '' '' '' '' '' '' '' '' '' '' '' '' '' '' '']\n",
      " ['' '' '' '' '' '' '' '' '' '' '' '' '' '' '' '' '' '' '' '']\n",
      " ['' '' '' '' '' '' '' '' '' '' '' '' '' '' '' '' '' '' '' '']]\n"
     ]
    }
   ],
   "source": [
    "print(\"Grid:\", grid)"
   ]
  },
  {
   "cell_type": "code",
   "execution_count": 10,
   "metadata": {},
   "outputs": [
    {
     "name": "stdout",
     "output_type": "stream",
     "text": [
      "Amino Acid Order: [('P', (10, 10)), ('P', (10, 11)), ('P', (11, 11)), ('P', (12, 11)), ('P', (12, 12)), ('P', (11, 12))]\n"
     ]
    }
   ],
   "source": [
    "print(\"Amino Acid Order:\", amino_acid_order)"
   ]
  },
  {
   "cell_type": "code",
   "execution_count": 11,
   "metadata": {},
   "outputs": [
    {
     "data": {
      "text/plain": [
       "['Start', 'straight', 'right', 'straight', 'left', 'left']"
      ]
     },
     "execution_count": 11,
     "metadata": {},
     "output_type": "execute_result"
    }
   ],
   "source": [
    "def determine_directions(amino_acid_order):\n",
    "    \"\"\"\n",
    "    Determines the direction of each amino acid placement relative to the previous one.\n",
    "    Directions are 'left', 'straight', 'right', considering the orientation of the movement from the previous point.\n",
    "    \"\"\"\n",
    "    directions = ['Start']  # First amino acid has no direction\n",
    "\n",
    "    # Define movement vectors for easier comparison\n",
    "    movement_vectors = {\n",
    "        'up': (-1, 0),\n",
    "        'down': (1, 0),\n",
    "        'left': (0, -1),\n",
    "        'right': (0, 1)\n",
    "    }\n",
    "\n",
    "    for i in range(1, len(amino_acid_order)):\n",
    "        # Get the current and previous amino acid's row and column\n",
    "        _, (current_row, current_col) = amino_acid_order[i]\n",
    "        _, (prev_row, prev_col) = amino_acid_order[i - 1]\n",
    "\n",
    "        # Determine the movement vector from the previous amino acid\n",
    "        move_vector = (current_row - prev_row, current_col - prev_col)\n",
    "\n",
    "        if i == 1:\n",
    "            # For the second amino acid, we don't have a previous direction, so we set it as straight\n",
    "            direction = 'straight'\n",
    "        else:\n",
    "            # Get the previous movement vector\n",
    "            _, (prev_prev_row, prev_prev_col) = amino_acid_order[i - 2]\n",
    "            prev_move_vector = (prev_row - prev_prev_row, prev_col - prev_prev_col)\n",
    "\n",
    "            # Determine direction based on previous movement vector\n",
    "            if prev_move_vector in [movement_vectors['up'], movement_vectors['down']]:\n",
    "                # Moving vertically\n",
    "                if move_vector == movement_vectors['left']:\n",
    "                    direction = 'left' if prev_move_vector == movement_vectors['up'] else 'right'\n",
    "                elif move_vector == movement_vectors['right']:\n",
    "                    direction = 'right' if prev_move_vector == movement_vectors['up'] else 'left'\n",
    "                else:\n",
    "                    direction = 'straight'\n",
    "            else:\n",
    "                # Moving horizontally\n",
    "                if move_vector == movement_vectors['up']:\n",
    "                    direction = 'left' if prev_move_vector == movement_vectors['right'] else 'right'\n",
    "                elif move_vector == movement_vectors['down']:\n",
    "                    direction = 'right' if prev_move_vector == movement_vectors['right'] else 'left'\n",
    "                else:\n",
    "                    direction = 'straight'\n",
    "\n",
    "        directions.append(direction)\n",
    "\n",
    "    return directions\n",
    "\n",
    "# Test the refined function with the provided example amino_acid_order\n",
    "determine_directions(amino_acid_order)"
   ]
  },
  {
   "cell_type": "code",
   "execution_count": 12,
   "metadata": {},
   "outputs": [
    {
     "name": "stdout",
     "output_type": "stream",
     "text": [
      "Trimmed Grid: \n",
      " [['P' 'P' '']\n",
      " ['' 'P' 'P']\n",
      " ['' 'P' 'P']]\n"
     ]
    }
   ],
   "source": [
    "def trim_empty_rows_and_columns(grid):\n",
    "    # Find the indices of non-empty rows and columns\n",
    "    non_empty_rows = np.any(grid != '', axis=1)\n",
    "    non_empty_columns = np.any(grid != '', axis=0)\n",
    "\n",
    "    # Use boolean indexing to extract non-empty rows and columns\n",
    "    trimmed_grid = grid[non_empty_rows][:, non_empty_columns]\n",
    "\n",
    "    return trimmed_grid\n",
    "\n",
    "# Call the function to trim empty rows and columns\n",
    "trimmed_grid = trim_empty_rows_and_columns(grid)\n",
    "\n",
    "# Print the trimmed grid\n",
    "print(\"Trimmed Grid:\", '\\n', trimmed_grid)"
   ]
  },
  {
   "cell_type": "markdown",
   "metadata": {},
   "source": [
    "### Step 3a - Calculate H-bonds\n",
    "The `find_H_combinations_grid` function is used to~ identify and collect sets of coordinates representing adjacent 'H' amino acids in a grid. It iterates through the entire grid, checking each position for the presence of 'H' amino acids. If an 'H' amino acid is found, it examines neighboring positions (up, down, left, right) to identify adjacent 'H' amino acids. For each pair of adjacent 'H' amino acids, it creates a frozenset containing their coordinates (ensuring that the order of coordinates doesn't matter) and adds this frozenset to a set. This set stores all unique pairs of adjacent 'H' amino acids found in the grid. The function returns this set of adjacent 'H' amino acid pairs."
   ]
  },
  {
   "cell_type": "code",
   "execution_count": 13,
   "metadata": {},
   "outputs": [
    {
     "data": {
      "text/plain": [
       "set()"
      ]
     },
     "execution_count": 13,
     "metadata": {},
     "output_type": "execute_result"
    }
   ],
   "source": [
    "def find_H_pairs_grid(grid):\n",
    "    adjacent_hydrophobic_amino_acids = set()  # Use a set to automatically remove duplicates\n",
    "\n",
    "    # Iterate through the grid to find adjacent 'H' amino acids\n",
    "    for row in range(grid.shape[0]):\n",
    "        for col in range(grid.shape[1]):\n",
    "            current_acid = grid[row, col]\n",
    "\n",
    "            # Check if the current amino acid is 'H'\n",
    "            if current_acid == 'H':\n",
    "                # Check the neighboring positions (up, down, left, right) relative to the current position\n",
    "                neighbors = [\n",
    "                    (row - 1, col),\n",
    "                    (row + 1, col),\n",
    "                    (row, col - 1),\n",
    "                    (row, col + 1)\n",
    "                ]\n",
    "\n",
    "                for neighbor_row, neighbor_col in neighbors:\n",
    "                    # Check if the neighbor is within the grid bounds\n",
    "                    if 0 <= neighbor_row < grid.shape[0] and 0 <= neighbor_col < grid.shape[1]:\n",
    "                        neighbor_acid = grid[neighbor_row, neighbor_col]\n",
    "\n",
    "                        # Check if the neighbor is also 'H'\n",
    "                        if neighbor_acid == 'H':\n",
    "                            # Use frozenset to ensure that the order of coordinates doesn't matter\n",
    "                            amino_acid_pair = frozenset({(row, col), (neighbor_row, neighbor_col)})\n",
    "                            adjacent_hydrophobic_amino_acids.add(amino_acid_pair)\n",
    "                            \n",
    "    return adjacent_hydrophobic_amino_acids\n",
    "\n",
    "find_H_pairs_grid(grid)"
   ]
  },
  {
   "cell_type": "markdown",
   "metadata": {},
   "source": [
    "### Step 3b - Calculate H-bonds\n",
    "The `find_H_combinations_order` function examines the order of amino acids and identifies adjacent 'H' amino acids. It does this by iterating through the amino acid order, checking pairs of consecutive amino acids for 'H' type, and recording these pairs as frozensets in a set to remove duplicates. This function helps identify adjacent 'H' amino acids in the sequence order, which is useful for analyzing the arrangement of amino acids."
   ]
  },
  {
   "cell_type": "code",
   "execution_count": 14,
   "metadata": {},
   "outputs": [
    {
     "data": {
      "text/plain": [
       "set()"
      ]
     },
     "execution_count": 14,
     "metadata": {},
     "output_type": "execute_result"
    }
   ],
   "source": [
    "def find_H_pairs_order(amino_acid_order):\n",
    "    adjacent_hydrophobic_amino_acids = set()  # Use a set to automatically remove duplicates\n",
    "\n",
    "    # Iterate through the amino acid order to find adjacent 'H' amino acids\n",
    "    for i in range(len(amino_acid_order) - 1):\n",
    "        current_acid, current_position = amino_acid_order[i]\n",
    "        next_acid, next_position = amino_acid_order[i + 1]\n",
    "\n",
    "        # Check if both current and next amino acids are 'H'\n",
    "        if current_acid == 'H' and next_acid == 'H':\n",
    "            # Use frozenset to ensure that the order of positions doesn't matter\n",
    "            amino_acid_pair = frozenset({current_position, next_position})\n",
    "            adjacent_hydrophobic_amino_acids.add(amino_acid_pair)\n",
    "\n",
    "    return adjacent_hydrophobic_amino_acids\n",
    "\n",
    "find_H_pairs_order(amino_acid_order)"
   ]
  },
  {
   "cell_type": "markdown",
   "metadata": {},
   "source": [
    "### Step 3c - Calculate H-bonds\n",
    "The provided code calculates the H-combinations in two different ways and then compares them. It calculates the H-pairs in the grid using the `find_H_combinations_grid` function and the H-pairs in the amino acid order using the `find_H_combination_order` function. Then, it subtracts the H-combinations found in the amino acid order from those found in the grid. This comparison helps identify the **H-bonds** that are formed between adjacent 'H' amino acids in the grid but not in the given amino acid sequence order."
   ]
  },
  {
   "cell_type": "code",
   "execution_count": 15,
   "metadata": {},
   "outputs": [],
   "source": [
    "def find_H_bonds(grid, amino_acid_order):\n",
    "    grid_h_pairs = find_H_pairs_grid(grid)\n",
    "    order_h_pairs = find_H_pairs_order(amino_acid_order)\n",
    "    return grid_h_pairs - order_h_pairs\n",
    "\n",
    "H_bonds = find_H_bonds(grid, amino_acid_order)"
   ]
  },
  {
   "cell_type": "code",
   "execution_count": 16,
   "metadata": {},
   "outputs": [
    {
     "name": "stdout",
     "output_type": "stream",
     "text": [
      "Number of H-bonds: 0\n"
     ]
    }
   ],
   "source": [
    "print('Number of H-bonds:', len(H_bonds))\n",
    "\n",
    "for bond in H_bonds:\n",
    "    coordinates = [coord for coord in bond]\n",
    "    print(coordinates)"
   ]
  },
  {
   "cell_type": "markdown",
   "metadata": {},
   "source": [
    "### Step 4 - Creating Samples\n",
    "The code generates N random protein grid configurations with a specified number of hydrophobic and polar amino acids using the `generate_random_samples` function. "
   ]
  },
  {
   "cell_type": "code",
   "execution_count": 17,
   "metadata": {},
   "outputs": [
    {
     "data": {
      "text/plain": [
       "[(2,\n",
       "  8,\n",
       "  ['H', 'P', 'P', 'H', 'P', 'P', 'P', 'P', 'P', 'P'],\n",
       "  array([['', '', '', '', '', '', '', '', '', '', '', '', '', '', '', '',\n",
       "          '', '', '', ''],\n",
       "         ['', '', '', '', '', '', '', '', '', '', '', '', '', '', '', '',\n",
       "          '', '', '', ''],\n",
       "         ['', '', '', '', '', '', '', '', '', '', '', '', '', '', '', '',\n",
       "          '', '', '', ''],\n",
       "         ['', '', '', '', '', '', '', '', '', '', '', '', '', '', '', '',\n",
       "          '', '', '', ''],\n",
       "         ['', '', '', '', '', '', '', '', '', '', '', '', '', '', '', '',\n",
       "          '', '', '', ''],\n",
       "         ['', '', '', '', '', '', '', '', '', '', '', '', '', '', '', '',\n",
       "          '', '', '', ''],\n",
       "         ['', '', '', '', '', '', '', '', '', '', '', '', '', '', '', '',\n",
       "          '', '', '', ''],\n",
       "         ['', '', '', '', '', '', '', '', '', '', '', '', '', '', '', '',\n",
       "          '', '', '', ''],\n",
       "         ['', '', '', '', '', '', '', '', '', 'P', 'P', 'P', '', '', '',\n",
       "          '', '', '', '', ''],\n",
       "         ['', '', '', '', '', '', '', '', '', 'P', 'H', 'P', '', '', '',\n",
       "          '', '', '', '', ''],\n",
       "         ['', '', '', '', '', '', '', '', '', '', 'H', 'P', '', '', '', '',\n",
       "          '', '', '', ''],\n",
       "         ['', '', '', '', '', '', '', '', '', '', '', '', '', '', '', '',\n",
       "          '', '', '', ''],\n",
       "         ['', '', '', '', '', '', '', '', '', '', '', '', '', '', '', '',\n",
       "          '', '', '', ''],\n",
       "         ['', '', '', '', '', '', '', '', '', '', '', '', '', '', '', '',\n",
       "          '', '', '', ''],\n",
       "         ['', '', '', '', '', '', '', '', '', '', '', '', '', '', '', '',\n",
       "          '', '', '', ''],\n",
       "         ['', '', '', '', '', '', '', '', '', '', '', '', '', '', '', '',\n",
       "          '', '', '', ''],\n",
       "         ['', '', '', '', '', '', '', '', '', '', '', '', '', '', '', '',\n",
       "          '', '', '', ''],\n",
       "         ['', '', '', '', '', '', '', '', '', '', '', '', '', '', '', '',\n",
       "          '', '', '', ''],\n",
       "         ['', '', '', '', '', '', '', '', '', '', '', '', '', '', '', '',\n",
       "          '', '', '', ''],\n",
       "         ['', '', '', '', '', '', '', '', '', '', '', '', '', '', '', '',\n",
       "          '', '', '', '']], dtype=object),\n",
       "  8,\n",
       "  [('H', (10, 10)),\n",
       "   ('P', (10, 11)),\n",
       "   ('P', (9, 11)),\n",
       "   ('H', (9, 10)),\n",
       "   ('P', (9, 9)),\n",
       "   ('P', (8, 9)),\n",
       "   ('P', (8, 10)),\n",
       "   ('P', (8, 11))],\n",
       "  ['Start',\n",
       "   'straight',\n",
       "   'left',\n",
       "   'left',\n",
       "   'straight',\n",
       "   'right',\n",
       "   'right',\n",
       "   'straight'],\n",
       "  array([['P', 'P', 'P'],\n",
       "         ['P', 'H', 'P'],\n",
       "         ['', 'H', 'P']], dtype=object),\n",
       "  (3, 3),\n",
       "  1,\n",
       "  0.125),\n",
       " (1,\n",
       "  9,\n",
       "  ['P', 'P', 'P', 'P', 'P', 'H', 'P', 'P', 'P', 'P'],\n",
       "  array([['', '', '', '', '', '', '', '', '', '', '', '', '', '', '', '',\n",
       "          '', '', '', ''],\n",
       "         ['', '', '', '', '', '', '', '', '', '', '', '', '', '', '', '',\n",
       "          '', '', '', ''],\n",
       "         ['', '', '', '', '', '', '', '', '', '', '', '', '', '', '', '',\n",
       "          '', '', '', ''],\n",
       "         ['', '', '', '', '', '', '', '', '', '', '', '', '', '', '', '',\n",
       "          '', '', '', ''],\n",
       "         ['', '', '', '', '', '', '', '', '', '', '', '', '', '', '', '',\n",
       "          '', '', '', ''],\n",
       "         ['', '', '', '', '', '', '', '', '', '', '', '', '', '', '', '',\n",
       "          '', '', '', ''],\n",
       "         ['', '', '', '', '', '', '', '', '', '', '', '', '', '', '', '',\n",
       "          '', '', '', ''],\n",
       "         ['', '', '', '', '', '', '', '', '', '', '', '', '', '', '', '',\n",
       "          '', '', '', ''],\n",
       "         ['', '', '', '', '', '', '', '', '', '', '', '', '', '', '', '',\n",
       "          '', '', '', ''],\n",
       "         ['', '', '', '', '', '', '', '', '', '', '', '', '', '', '', '',\n",
       "          '', '', '', ''],\n",
       "         ['', '', '', '', '', '', '', '', '', '', 'P', 'P', '', '', '', '',\n",
       "          '', '', '', ''],\n",
       "         ['', '', '', '', '', '', '', '', '', '', '', 'P', 'H', 'P', 'P',\n",
       "          '', '', '', '', ''],\n",
       "         ['', '', '', '', '', '', '', '', '', '', '', 'P', 'P', 'P', 'P',\n",
       "          '', '', '', '', ''],\n",
       "         ['', '', '', '', '', '', '', '', '', '', '', '', '', '', '', '',\n",
       "          '', '', '', ''],\n",
       "         ['', '', '', '', '', '', '', '', '', '', '', '', '', '', '', '',\n",
       "          '', '', '', ''],\n",
       "         ['', '', '', '', '', '', '', '', '', '', '', '', '', '', '', '',\n",
       "          '', '', '', ''],\n",
       "         ['', '', '', '', '', '', '', '', '', '', '', '', '', '', '', '',\n",
       "          '', '', '', ''],\n",
       "         ['', '', '', '', '', '', '', '', '', '', '', '', '', '', '', '',\n",
       "          '', '', '', ''],\n",
       "         ['', '', '', '', '', '', '', '', '', '', '', '', '', '', '', '',\n",
       "          '', '', '', ''],\n",
       "         ['', '', '', '', '', '', '', '', '', '', '', '', '', '', '', '',\n",
       "          '', '', '', '']], dtype=object),\n",
       "  10,\n",
       "  [('P', (10, 10)),\n",
       "   ('P', (10, 11)),\n",
       "   ('P', (11, 11)),\n",
       "   ('P', (12, 11)),\n",
       "   ('P', (12, 12)),\n",
       "   ('H', (11, 12)),\n",
       "   ('P', (11, 13)),\n",
       "   ('P', (12, 13)),\n",
       "   ('P', (12, 14)),\n",
       "   ('P', (11, 14))],\n",
       "  ['Start',\n",
       "   'straight',\n",
       "   'right',\n",
       "   'straight',\n",
       "   'left',\n",
       "   'left',\n",
       "   'right',\n",
       "   'right',\n",
       "   'left',\n",
       "   'left'],\n",
       "  array([['P', 'P', '', '', ''],\n",
       "         ['', 'P', 'H', 'P', 'P'],\n",
       "         ['', 'P', 'P', 'P', 'P']], dtype=object),\n",
       "  (3, 5),\n",
       "  0,\n",
       "  0.0)]"
      ]
     },
     "execution_count": 17,
     "metadata": {},
     "output_type": "execute_result"
    }
   ],
   "source": [
    "def generate_random_samples(N, total_amino_acids):\n",
    "    random_samples = []\n",
    "\n",
    "    for _ in range(N):\n",
    "        num_hydrophobic, num_polar, amino_acids = random_division(total_amino_acids)\n",
    "        amino_acids_copy = amino_acids.copy()\n",
    "        initial_grid, amino_acid_order = initialize_grid_directional(amino_acids, generate_random_directions(total_amino_acids))\n",
    "        trimmed_grid = trim_empty_rows_and_columns(initial_grid)\n",
    "        protein_dimensions = trimmed_grid.shape\n",
    "        amino_acids_on_grid = np.count_nonzero(initial_grid != '')\n",
    "        amino_acids_directions =  determine_directions(amino_acid_order)\n",
    "        hbonds = len(find_H_bonds(initial_grid, amino_acid_order))\n",
    "        hratio = hbonds / amino_acids_on_grid\n",
    "        \n",
    "        random_samples.append((num_hydrophobic,\n",
    "                               num_polar,\n",
    "                               amino_acids,\n",
    "                               initial_grid,\n",
    "                               amino_acids_on_grid,\n",
    "                               amino_acid_order,\n",
    "                               amino_acids_directions,\n",
    "                               trimmed_grid, \n",
    "                               protein_dimensions,\n",
    "                               hbonds,\n",
    "                               hratio,\n",
    "                              ))\n",
    "\n",
    "    return random_samples\n",
    "\n",
    "# Example usage\n",
    "generate_random_samples(2, total_amino_acids)\n"
   ]
  },
  {
   "cell_type": "code",
   "execution_count": 18,
   "metadata": {},
   "outputs": [],
   "source": [
    "def timing_samples(num_samples, amino_acid_lengths):\n",
    "    total_times = {}\n",
    "\n",
    "    for length in amino_acid_lengths:\n",
    "        start_time = time.time()\n",
    "        \n",
    "        _ = store_samples_in_dataframe(num_samples, [length])  # We call the original function here\n",
    "        \n",
    "        end_time = time.time()\n",
    "        \n",
    "        total_times[length] = end_time - start_time\n",
    "        print(f\"Time taken to create and process {num_samples} samples for amino acid length {length}: {total_times[length]:.2f} seconds\")\n",
    "\n",
    "    return total_times"
   ]
  },
  {
   "cell_type": "code",
   "execution_count": 19,
   "metadata": {},
   "outputs": [],
   "source": [
    "def store_samples_in_dataframe(num_samples, amino_acid_lengths):\n",
    "    \n",
    "    data = {\n",
    "        \"Amino Acid Length\": [],\n",
    "        \"Num Hydrophobic\": [],\n",
    "        \"Num Polar\": [],\n",
    "        \"1D protein\": [],\n",
    "        \"2D protein\": [],\n",
    "        \"Amino Acids on Grid\": [],  \n",
    "        \"Trimmed 2D protein\": [],\n",
    "        \"Shape 2D protein\": [],\n",
    "        \"Amino Acid Order\": [],\n",
    "        \"Amino Acid Direction\": [],\n",
    "        \"H-Bonds\": [],\n",
    "        \"H-Ratio\": [],\n",
    "    }\n",
    "\n",
    "    for length in amino_acid_lengths:\n",
    "        \n",
    "        random_samples = generate_random_samples(num_samples, length)\n",
    "        for sample in random_samples:\n",
    "            \n",
    "            start_time = time.time()  # Start time before producing the sample\n",
    "            num_hydrophobic, num_polar, amino_acids, initial_grid, amino_acids_on_grid, amino_acid_order, determine_directions, trimmed_grid, protein_dimensions, hbonds, hratio= sample\n",
    "            end_time = time.time()  # End time after producing the sample\n",
    "            \n",
    "            data[\"Amino Acid Length\"].append(length)\n",
    "            data[\"Num Hydrophobic\"].append(num_hydrophobic)\n",
    "            data[\"Num Polar\"].append(num_polar)\n",
    "            data[\"1D protein\"].append(amino_acids)\n",
    "            data[\"2D protein\"].append(initial_grid)\n",
    "            data[\"Amino Acids on Grid\"].append(amino_acids_on_grid)\n",
    "            data[\"Trimmed 2D protein\"].append(trimmed_grid)\n",
    "            data[\"Shape 2D protein\"].append(protein_dimensions)\n",
    "            data[\"Amino Acid Order\"].append(amino_acid_order)\n",
    "            data[\"Amino Acid Direction\"].append(determine_directions),\n",
    "            data[\"H-Bonds\"].append(hbonds)\n",
    "            data['H-Ratio'].append(hratio)\n",
    "\n",
    "    df = pd.DataFrame(data)\n",
    "    return df"
   ]
  },
  {
   "cell_type": "code",
   "execution_count": 20,
   "metadata": {},
   "outputs": [
    {
     "name": "stdout",
     "output_type": "stream",
     "text": [
      "Time taken to create and process 1000 samples for amino acid length 5: 0.19 seconds\n",
      "Time taken to create and process 1000 samples for amino acid length 10: 0.25 seconds\n",
      "Time taken to create and process 1000 samples for amino acid length 15: 0.39 seconds\n",
      "Time taken to create and process 1000 samples for amino acid length 20: 0.56 seconds\n",
      "Time taken to create and process 1000 samples for amino acid length 25: 0.80 seconds\n",
      "CPU times: user 4.25 s, sys: 101 ms, total: 4.35 s\n",
      "Wall time: 4.31 s\n"
     ]
    }
   ],
   "source": [
    "%%time\n",
    "# Generate an experiment with 1000 samples for amino length [5, 10, 15 ..., 25]\n",
    "\n",
    "num_samples = 1000\n",
    "amino_acid_lengths = [length for length in range(5, 26, 5)]\n",
    "time_data = timing_samples(num_samples, amino_acid_lengths)\n",
    "HP25 = store_samples_in_dataframe(num_samples, amino_acid_lengths)\n",
    "\n",
    "# num_samples = 1000\n",
    "# amino_acid_lengths = [length for length in range(5, 51, 5)]\n",
    "# time_data = timing_samples(num_samples, amino_acid_lengths)\n",
    "# HP50 = store_samples_in_dataframe(num_samples, amino_acid_lengths)\n",
    "\n",
    "# num_samples = 1000\n",
    "# amino_acid_lengths = [length for length in range(5, 101, 5)]\n",
    "# time_data = timing_samples(num_samples, amino_acid_lengths)\n",
    "# HP100 = store_samples_in_dataframe(num_samples, amino_acid_lengths)\n",
    "\n",
    "# num_samples = 1000\n",
    "# amino_acid_lengths = [length for length in range(5, 201, 5)]\n",
    "# time_data = timing_samples(num_samples, amino_acid_lengths)\n",
    "# HP200 = store_samples_in_dataframe(num_samples, amino_acid_lengths)"
   ]
  },
  {
   "cell_type": "code",
   "execution_count": null,
   "metadata": {},
   "outputs": [],
   "source": [
    "# HP25.to_csv('../Data/Experiment 2/HP25.csv', index=False)"
   ]
  },
  {
   "cell_type": "code",
   "execution_count": 42,
   "metadata": {},
   "outputs": [],
   "source": [
    "# HP50.to_csv('../Data/Experiment 2/HP50.csv', index=False)"
   ]
  },
  {
   "cell_type": "code",
   "execution_count": 22,
   "metadata": {},
   "outputs": [],
   "source": [
    "# HP100.to_csv('../Data/Experiment 2/HP100.csv', index=False)"
   ]
  },
  {
   "cell_type": "code",
   "execution_count": 88,
   "metadata": {},
   "outputs": [],
   "source": [
    "# HP200.to_csv('../Data/Experiment 2/HP200.csv', index=False)"
   ]
  }
 ],
 "metadata": {
  "kernelspec": {
   "display_name": "Python 3",
   "language": "python",
   "name": "python3"
  },
  "language_info": {
   "codemirror_mode": {
    "name": "ipython",
    "version": 3
   },
   "file_extension": ".py",
   "mimetype": "text/x-python",
   "name": "python",
   "nbconvert_exporter": "python",
   "pygments_lexer": "ipython3",
   "version": "3.8.3"
  }
 },
 "nbformat": 4,
 "nbformat_minor": 4
}
