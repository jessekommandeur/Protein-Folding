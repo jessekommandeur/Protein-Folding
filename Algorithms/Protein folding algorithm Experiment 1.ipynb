{
 "cells": [
  {
   "cell_type": "markdown",
   "metadata": {},
   "source": [
    "## E1 - Stochastic Break Sampling in 2D \n",
    "In our first experiment, we performed random folding of 1,000 neutralized 1D strings of proteins, for lengths {5,10,15,…,95,200\\}, on a 2D lattice, void of any prior assumptions. This 2D lattice was designed to be twice the size of the maximum amino acid sequence to ensure enough space for the protein to fold. We termed the process ‘neutralization’ because it disregards the hydrophobic and polar labels from the amino acids as shown in Figure 1 of the thesis. This underscores our focus on valid conformations over optimal ones, aligning with the methods described in previous work.\n",
    "\n",
    "![Example Screenshot](5-methods.png)\n",
    "\n",
    "Our methodology began with the central placement of the first amino acid on the grid which is denoted with *{Start (S)}*, since it has no relative direction towards other acids. From here, the sequential placement of amino acids commenced. Each amino acid was positioned one after another, adhering to a chain-relative representation. Specifically, each subsequent placement randomly selected a position from the set *{left (L), middle (M),  right (R)}*, while diligently avoiding any backward or neighbouring collisions by checking empty adjacent grid locations. This chain-relative approach ensured that every subsequent amino acid was next to the preceding one. We maintained a count of the total number of amino acids  each time an amino acid was positioned on the 2D lattice. This process was iterated upon until no valid adjacent locations remained, as visualized in the Figure 2b below."
   ]
  },
  {
   "cell_type": "code",
   "execution_count": 17,
   "metadata": {},
   "outputs": [],
   "source": [
    "import numpy as np \n",
    "import pandas as pd\n",
    "import time as time\n",
    "np.set_printoptions(threshold=np.inf)"
   ]
  },
  {
   "cell_type": "markdown",
   "metadata": {},
   "source": [
    "### Step 1 - Initializing Acids"
   ]
  },
  {
   "cell_type": "markdown",
   "metadata": {},
   "source": [
    "This function `random_division` takes the total number of amino acids as input and randomly divides them into hydrophobic and polar amino acids, before creating a random 1D amino acid string. It ensures that there's at least one hydrophobic and one polar amino acid. You can adjust the total_amino_acids variable to the desired number of amino acids you want to divide."
   ]
  },
  {
   "cell_type": "code",
   "execution_count": 2,
   "metadata": {},
   "outputs": [
    {
     "name": "stdout",
     "output_type": "stream",
     "text": [
      "Number of Hydro acids: 3\n",
      "Number of Polar acids: 2\n",
      "Random Amino Acid String: PHPHH\n"
     ]
    }
   ],
   "source": [
    "total_amino_acids = 5  # Change this to a desired number, 10 is used for illustration purposes\n",
    "\n",
    "def random_division(total_amino_acids):\n",
    "    num_hydrophobic = np.random.randint(1, total_amino_acids)  # Ensure at least one H and P\n",
    "    num_polar = total_amino_acids - num_hydrophobic\n",
    "    # randomly shuffle the amino acids\n",
    "    amino_acids = ['H'] * num_hydrophobic + ['P'] * num_polar\n",
    "    np.random.shuffle(amino_acids)\n",
    "    return num_hydrophobic, num_polar, amino_acids\n",
    "\n",
    "num_hydrophobic, num_polar, amino_acids = random_division(total_amino_acids)\n",
    "print(\"Number of Hydro acids:\", num_hydrophobic)\n",
    "print(\"Number of Polar acids:\", num_polar)\n",
    "print(\"Random Amino Acid String:\", \"\".join(amino_acids))"
   ]
  },
  {
   "cell_type": "markdown",
   "metadata": {},
   "source": [
    "### Step 2 - Initializing Grid\n",
    "The `initialize_grid` function generates a grid to place amino acids, with specified dimensions, and populates it with H and P amino acids, while ensuring they do not overlap and tracks their placement order. This allows for simulating the random arrangement of amino acids on a grid for various applications."
   ]
  },
  {
   "cell_type": "code",
   "execution_count": 3,
   "metadata": {},
   "outputs": [],
   "source": [
    "amino_acids_copy = amino_acids.copy()\n",
    "\n",
    "def initialize_grid(amino_acids, num_hydrophobic, num_polar):\n",
    "    amino_acids_copy = amino_acids.copy()\n",
    "    total_amino_acids = len(amino_acids)\n",
    "    grid_size = total_amino_acids * 2\n",
    "    grid = np.full((grid_size, grid_size), fill_value='', dtype=object)  \n",
    "    amino_acid_order = []  # List to track the order of amino acids placed\n",
    "    \n",
    "    # Place the first amino acid randomly on the grid\n",
    "    first_amino_row = grid_size // 2\n",
    "    first_amino_col = grid_size // 2\n",
    "    amino_acid_type = amino_acids_copy.pop(0)\n",
    "    grid[first_amino_row, first_amino_col] = amino_acid_type\n",
    "    \n",
    "    # Keep track of order\n",
    "    amino_acid_order.append((amino_acid_type, (first_amino_row, first_amino_col)))\n",
    "    total_amino_acids -= 1\n",
    "    \n",
    "    # Place the remaining amino acids next to the last placed amino acid\n",
    "    while total_amino_acids > 0:\n",
    "        last_amino_row, last_amino_col = amino_acid_order[-1][1]\n",
    "        neighbors = [\n",
    "            (last_amino_row - 1, last_amino_col),\n",
    "            (last_amino_row + 1, last_amino_col),\n",
    "            (last_amino_row, last_amino_col - 1),\n",
    "            (last_amino_row, last_amino_col + 1)\n",
    "        ]\n",
    "        \n",
    "        valid_neighbors = [(row, col) for row, col in neighbors if 0 <= row < grid_size and 0 <= col < grid_size and grid[row, col] == '']\n",
    "        \n",
    "        if valid_neighbors and amino_acids_copy:  # Check if there are valid neighbors and remaining amino acids\n",
    "            # Shuffle the list of valid neighbors and choose one randomly\n",
    "            np.random.shuffle(valid_neighbors)\n",
    "            chosen_row, chosen_col = valid_neighbors[0]\n",
    "            amino_acid_type = amino_acids_copy.pop(0)\n",
    "            grid[chosen_row, chosen_col] = amino_acid_type\n",
    "            amino_acid_order.append((amino_acid_type, (chosen_row, chosen_col)))\n",
    "            total_amino_acids -= 1\n",
    "        else:\n",
    "            break  # No valid neighbors or no remaining amino acids, exit the loop\n",
    "    \n",
    "    return grid, amino_acid_order\n",
    "\n",
    "# Example usage\n",
    "initial_grid, amino_acid_order = initialize_grid( amino_acids_copy, num_hydrophobic, num_polar)\n"
   ]
  },
  {
   "cell_type": "code",
   "execution_count": 4,
   "metadata": {},
   "outputs": [
    {
     "name": "stdout",
     "output_type": "stream",
     "text": [
      "Amino Acid Order: [('P', (5, 5)), ('H', (6, 5)), ('P', (7, 5)), ('H', (7, 4)), ('H', (8, 4))]\n"
     ]
    }
   ],
   "source": [
    "print(\"Amino Acid Order:\", amino_acid_order)"
   ]
  },
  {
   "cell_type": "code",
   "execution_count": 5,
   "metadata": {},
   "outputs": [
    {
     "data": {
      "text/plain": [
       "['Start', 'straight', 'straight', 'right', 'left']"
      ]
     },
     "execution_count": 5,
     "metadata": {},
     "output_type": "execute_result"
    }
   ],
   "source": [
    "def determine_directions(amino_acid_order):\n",
    "    \"\"\"\n",
    "    Determines the direction of each amino acid placement relative to the previous one.\n",
    "    Directions are 'left', 'straight', 'right', considering the orientation of the movement from the previous point.\n",
    "    \"\"\"\n",
    "    directions = ['Start']  # First amino acid has no direction\n",
    "\n",
    "    # Define movement vectors for easier comparison\n",
    "    movement_vectors = {\n",
    "        'up': (-1, 0),\n",
    "        'down': (1, 0),\n",
    "        'left': (0, -1),\n",
    "        'right': (0, 1)\n",
    "    }\n",
    "\n",
    "    for i in range(1, len(amino_acid_order)):\n",
    "        # Get the current and previous amino acid's row and column\n",
    "        _, (current_row, current_col) = amino_acid_order[i]\n",
    "        _, (prev_row, prev_col) = amino_acid_order[i - 1]\n",
    "\n",
    "        # Determine the movement vector from the previous amino acid\n",
    "        move_vector = (current_row - prev_row, current_col - prev_col)\n",
    "\n",
    "        if i == 1:\n",
    "            # For the second amino acid, we don't have a previous direction, so we set it as straight\n",
    "            direction = 'straight'\n",
    "        else:\n",
    "            # Get the previous movement vector\n",
    "            _, (prev_prev_row, prev_prev_col) = amino_acid_order[i - 2]\n",
    "            prev_move_vector = (prev_row - prev_prev_row, prev_col - prev_prev_col)\n",
    "\n",
    "            # Determine direction based on previous movement vector\n",
    "            if prev_move_vector in [movement_vectors['up'], movement_vectors['down']]:\n",
    "                # Moving vertically\n",
    "                if move_vector == movement_vectors['left']:\n",
    "                    direction = 'left' if prev_move_vector == movement_vectors['up'] else 'right'\n",
    "                elif move_vector == movement_vectors['right']:\n",
    "                    direction = 'right' if prev_move_vector == movement_vectors['up'] else 'left'\n",
    "                else:\n",
    "                    direction = 'straight'\n",
    "            else:\n",
    "                # Moving horizontally\n",
    "                if move_vector == movement_vectors['up']:\n",
    "                    direction = 'left' if prev_move_vector == movement_vectors['right'] else 'right'\n",
    "                elif move_vector == movement_vectors['down']:\n",
    "                    direction = 'right' if prev_move_vector == movement_vectors['right'] else 'left'\n",
    "                else:\n",
    "                    direction = 'straight'\n",
    "\n",
    "        directions.append(direction)\n",
    "\n",
    "    return directions\n",
    "\n",
    "# Test the refined function with the provided example amino_acid_order\n",
    "determine_directions(amino_acid_order)"
   ]
  },
  {
   "cell_type": "code",
   "execution_count": 6,
   "metadata": {},
   "outputs": [
    {
     "name": "stdout",
     "output_type": "stream",
     "text": [
      "Trimmed Grid: \n",
      " [['' 'P']\n",
      " ['' 'H']\n",
      " ['H' 'P']\n",
      " ['H' '']]\n"
     ]
    }
   ],
   "source": [
    "def trim_empty_rows_and_columns(grid):\n",
    "    # Find the indices of non-empty rows and columns\n",
    "    non_empty_rows = np.any(grid != '', axis=1)\n",
    "    non_empty_columns = np.any(grid != '', axis=0)\n",
    "\n",
    "    # Use boolean indexing to extract non-empty rows and columns\n",
    "    trimmed_grid = grid[non_empty_rows][:, non_empty_columns]\n",
    "\n",
    "    return trimmed_grid\n",
    "\n",
    "# Call the function to trim empty rows and columns\n",
    "trimmed_grid = trim_empty_rows_and_columns(initial_grid)\n",
    "\n",
    "# Print the trimmed grid\n",
    "print(\"Trimmed Grid:\", '\\n', trimmed_grid)"
   ]
  },
  {
   "cell_type": "markdown",
   "metadata": {},
   "source": [
    "### Step 3a - Calculate H-bonds\n",
    "The `find_H_combinations_grid` function is used to~ identify and collect sets of coordinates representing adjacent 'H' amino acids in a grid. It iterates through the entire grid, checking each position for the presence of 'H' amino acids. If an 'H' amino acid is found, it examines neighboring positions (up, down, left, right) to identify adjacent 'H' amino acids. For each pair of adjacent 'H' amino acids, it creates a frozenset containing their coordinates (ensuring that the order of coordinates doesn't matter) and adds this frozenset to a set. This set stores all unique pairs of adjacent 'H' amino acids found in the grid. The function returns this set of adjacent 'H' amino acid pairs."
   ]
  },
  {
   "cell_type": "code",
   "execution_count": 7,
   "metadata": {},
   "outputs": [
    {
     "data": {
      "text/plain": [
       "{frozenset({(7, 4), (8, 4)})}"
      ]
     },
     "execution_count": 7,
     "metadata": {},
     "output_type": "execute_result"
    }
   ],
   "source": [
    "def find_H_pairs_grid(grid):\n",
    "    adjacent_hydrophobic_amino_acids = set()  # Use a set to automatically remove duplicates\n",
    "\n",
    "    # Iterate through the grid to find adjacent 'H' amino acids\n",
    "    for row in range(grid.shape[0]):\n",
    "        for col in range(grid.shape[1]):\n",
    "            current_acid = grid[row, col]\n",
    "\n",
    "            # Check if the current amino acid is 'H'\n",
    "            if current_acid == 'H':\n",
    "                # Check the neighboring positions (up, down, left, right) relative to the current position\n",
    "                neighbors = [\n",
    "                    (row - 1, col),\n",
    "                    (row + 1, col),\n",
    "                    (row, col - 1),\n",
    "                    (row, col + 1)\n",
    "                ]\n",
    "\n",
    "                for neighbor_row, neighbor_col in neighbors:\n",
    "                    # Check if the neighbor is within the grid bounds\n",
    "                    if 0 <= neighbor_row < grid.shape[0] and 0 <= neighbor_col < grid.shape[1]:\n",
    "                        neighbor_acid = grid[neighbor_row, neighbor_col]\n",
    "\n",
    "                        # Check if the neighbor is also 'H'\n",
    "                        if neighbor_acid == 'H':\n",
    "                            # Use frozenset to ensure that the order of coordinates doesn't matter\n",
    "                            amino_acid_pair = frozenset({(row, col), (neighbor_row, neighbor_col)})\n",
    "                            adjacent_hydrophobic_amino_acids.add(amino_acid_pair)\n",
    "                            \n",
    "    return adjacent_hydrophobic_amino_acids\n",
    "\n",
    "find_H_pairs_grid(initial_grid)"
   ]
  },
  {
   "cell_type": "markdown",
   "metadata": {},
   "source": [
    "### Step 3b - Calculate H-bonds\n",
    "The `find_H_combinations_order` function examines the order of amino acids and identifies adjacent 'H' amino acids. It does this by iterating through the amino acid order, checking pairs of consecutive amino acids for 'H' type, and recording these pairs as frozensets in a set to remove duplicates. This function helps identify adjacent 'H' amino acids in the sequence order, which is useful for analyzing the arrangement of amino acids."
   ]
  },
  {
   "cell_type": "code",
   "execution_count": 8,
   "metadata": {},
   "outputs": [
    {
     "data": {
      "text/plain": [
       "{frozenset({(7, 4), (8, 4)})}"
      ]
     },
     "execution_count": 8,
     "metadata": {},
     "output_type": "execute_result"
    }
   ],
   "source": [
    "def find_H_pairs_order(amino_acid_order):\n",
    "    adjacent_hydrophobic_amino_acids = set()  # Use a set to automatically remove duplicates\n",
    "\n",
    "    # Iterate through the amino acid order to find adjacent 'H' amino acids\n",
    "    for i in range(len(amino_acid_order) - 1):\n",
    "        current_acid, current_position = amino_acid_order[i]\n",
    "        next_acid, next_position = amino_acid_order[i + 1]\n",
    "\n",
    "        # Check if both current and next amino acids are 'H'\n",
    "        if current_acid == 'H' and next_acid == 'H':\n",
    "            # Use frozenset to ensure that the order of positions doesn't matter\n",
    "            amino_acid_pair = frozenset({current_position, next_position})\n",
    "            adjacent_hydrophobic_amino_acids.add(amino_acid_pair)\n",
    "\n",
    "    return adjacent_hydrophobic_amino_acids\n",
    "\n",
    "find_H_pairs_order(amino_acid_order)"
   ]
  },
  {
   "cell_type": "markdown",
   "metadata": {},
   "source": [
    "### Step 3c - Calculate H-bonds\n",
    "The provided code calculates the H-combinations in two different ways and then compares them. It calculates the H-pairs in the grid using the `find_H_combinations_grid` function and the H-pairs in the amino acid order using the `find_H_combination_order` function. Then, it subtracts the H-combinations found in the amino acid order from those found in the grid. This comparison helps identify the **H-bonds** that are formed between adjacent 'H' amino acids in the grid but not in the given amino acid sequence order."
   ]
  },
  {
   "cell_type": "code",
   "execution_count": 9,
   "metadata": {},
   "outputs": [],
   "source": [
    "def find_H_bonds(grid, amino_acid_order):\n",
    "    grid_h_pairs = find_H_pairs_grid(grid)\n",
    "    order_h_pairs = find_H_pairs_order(amino_acid_order)\n",
    "    return grid_h_pairs - order_h_pairs\n",
    "\n",
    "H_bonds = find_H_bonds(initial_grid, amino_acid_order)"
   ]
  },
  {
   "cell_type": "code",
   "execution_count": 10,
   "metadata": {},
   "outputs": [
    {
     "name": "stdout",
     "output_type": "stream",
     "text": [
      "Number of H-bonds: 0\n"
     ]
    }
   ],
   "source": [
    "print('Number of H-bonds:', len(H_bonds))\n",
    "\n",
    "for bond in H_bonds:\n",
    "    coordinates = [coord for coord in bond]\n",
    "    print(coordinates)"
   ]
  },
  {
   "cell_type": "markdown",
   "metadata": {},
   "source": [
    "### Step 4 - Creating Samples\n",
    "The code generates N random protein grid configurations with a specified number of hydrophobic and polar amino acids using the `generate_random_samples` function. "
   ]
  },
  {
   "cell_type": "code",
   "execution_count": 11,
   "metadata": {},
   "outputs": [
    {
     "data": {
      "text/plain": [
       "(2,\n",
       " 3,\n",
       " ['P', 'P', 'H', 'P', 'H'],\n",
       " array([['', '', '', '', '', '', '', '', '', ''],\n",
       "        ['', '', '', '', '', '', '', '', '', ''],\n",
       "        ['', '', '', '', '', '', '', '', '', ''],\n",
       "        ['', '', '', '', '', '', '', '', '', ''],\n",
       "        ['', '', '', '', '', '', '', '', '', ''],\n",
       "        ['', '', '', 'H', 'P', 'P', '', '', '', ''],\n",
       "        ['', '', '', 'P', '', '', '', '', '', ''],\n",
       "        ['', '', '', 'H', '', '', '', '', '', ''],\n",
       "        ['', '', '', '', '', '', '', '', '', ''],\n",
       "        ['', '', '', '', '', '', '', '', '', '']], dtype=object),\n",
       " 5,\n",
       " [('P', (5, 5)), ('P', (5, 4)), ('H', (5, 3)), ('P', (6, 3)), ('H', (7, 3))],\n",
       " ['Start', 'straight', 'straight', 'left', 'straight'],\n",
       " array([['H', 'P', 'P'],\n",
       "        ['P', '', ''],\n",
       "        ['H', '', '']], dtype=object),\n",
       " (3, 3),\n",
       " 0,\n",
       " 0.0)"
      ]
     },
     "execution_count": 11,
     "metadata": {},
     "output_type": "execute_result"
    }
   ],
   "source": [
    "def generate_random_samples(N, total_amino_acids):\n",
    "    random_samples = []\n",
    "\n",
    "    for _ in range(N):\n",
    "        num_hydrophobic, num_polar, amino_acids = random_division(total_amino_acids)\n",
    "        amino_acids_copy = amino_acids.copy()\n",
    "        initial_grid, amino_acid_order = initialize_grid(amino_acids_copy, num_hydrophobic, num_polar)\n",
    "        trimmed_grid = trim_empty_rows_and_columns(initial_grid)\n",
    "        protein_dimensions = trimmed_grid.shape\n",
    "        amino_acids_on_grid = np.count_nonzero(initial_grid != '')\n",
    "        amino_acids_directions =  determine_directions(amino_acid_order)\n",
    "        hbonds = len(find_H_bonds(initial_grid, amino_acid_order))\n",
    "        hratio = hbonds / amino_acids_on_grid\n",
    "        \n",
    "        random_samples.append((num_hydrophobic,\n",
    "                               num_polar,\n",
    "                               amino_acids,\n",
    "                               initial_grid,\n",
    "                               amino_acids_on_grid,\n",
    "                               amino_acid_order,\n",
    "                               amino_acids_directions,\n",
    "                               trimmed_grid, \n",
    "                               protein_dimensions,\n",
    "                               hbonds,\n",
    "                               hratio,\n",
    "                              ))\n",
    "\n",
    "    return random_samples\n",
    "\n",
    "# Example usage\n",
    "generate_random_samples(3, total_amino_acids)[0]"
   ]
  },
  {
   "cell_type": "code",
   "execution_count": 12,
   "metadata": {},
   "outputs": [],
   "source": [
    "def timing_samples(num_samples, amino_acid_lengths):\n",
    "    total_times = {}\n",
    "\n",
    "    for length in amino_acid_lengths:\n",
    "        start_time = time.time()\n",
    "        \n",
    "        _ = store_samples_in_dataframe(num_samples, [length])  # We call the original function here\n",
    "        \n",
    "        end_time = time.time()\n",
    "        \n",
    "        total_times[length] = end_time - start_time\n",
    "        print(f\"Time taken to create and process {num_samples} samples for amino acid length {length}: {total_times[length]:.2f} seconds\")\n",
    "\n",
    "    return total_times"
   ]
  },
  {
   "cell_type": "code",
   "execution_count": 13,
   "metadata": {},
   "outputs": [],
   "source": [
    "def store_samples_in_dataframe(num_samples, amino_acid_lengths):\n",
    "    \n",
    "    data = {\n",
    "        \"Amino Acid Length\": [],\n",
    "        \"Num Hydrophobic\": [],\n",
    "        \"Num Polar\": [],\n",
    "        \"1D protein\": [],\n",
    "        \"2D protein\": [],\n",
    "        \"Amino Acids on Grid\": [],  \n",
    "        \"Trimmed 2D protein\": [],\n",
    "        \"Shape 2D protein\": [],\n",
    "        \"Amino Acid Order\": [],\n",
    "        \"Amino Acid Direction\": [],\n",
    "        \"H-Bonds\": [],\n",
    "        \"H-Ratio\": [],\n",
    "    }\n",
    "\n",
    "    for length in amino_acid_lengths:\n",
    "        random_samples = generate_random_samples(num_samples, length)\n",
    "        for sample in random_samples:\n",
    "            \n",
    "            start_time = time.time()  # Start time before producing the sample\n",
    "            num_hydrophobic, num_polar, amino_acids, initial_grid, amino_acids_on_grid, amino_acid_order, determine_directions, trimmed_grid, protein_dimensions, hbonds, hratio= sample\n",
    "            end_time = time.time()  # End time after producing the sample\n",
    "\n",
    "            data[\"Amino Acid Length\"].append(length)\n",
    "            data[\"Num Hydrophobic\"].append(num_hydrophobic)\n",
    "            data[\"Num Polar\"].append(num_polar)\n",
    "            data[\"1D protein\"].append(amino_acids)\n",
    "            data[\"2D protein\"].append(initial_grid)\n",
    "            data[\"Amino Acids on Grid\"].append(amino_acids_on_grid)\n",
    "            data[\"Trimmed 2D protein\"].append(trimmed_grid)\n",
    "            data[\"Shape 2D protein\"].append(protein_dimensions)\n",
    "            data[\"Amino Acid Order\"].append(amino_acid_order)\n",
    "            data[\"Amino Acid Direction\"].append(determine_directions),\n",
    "            data[\"H-Bonds\"].append(hbonds)\n",
    "            data['H-Ratio'].append(hratio)\n",
    "\n",
    "    df = pd.DataFrame(data)\n",
    "    return df"
   ]
  },
  {
   "cell_type": "code",
   "execution_count": 15,
   "metadata": {},
   "outputs": [
    {
     "name": "stdout",
     "output_type": "stream",
     "text": [
      "Time taken to create and process 1000 samples for amino acid length 5: 0.11 seconds\n",
      "Time taken to create and process 1000 samples for amino acid length 10: 0.16 seconds\n",
      "Time taken to create and process 1000 samples for amino acid length 15: 0.26 seconds\n",
      "Time taken to create and process 1000 samples for amino acid length 20: 0.41 seconds\n",
      "Time taken to create and process 1000 samples for amino acid length 25: 0.54 seconds\n",
      "CPU times: user 2.86 s, sys: 42.3 ms, total: 2.9 s\n",
      "Wall time: 2.89 s\n"
     ]
    }
   ],
   "source": [
    "%%time\n",
    "# Generate an experiment with 1000 samples for amino length [5, 10, 15 ..., 25]\n",
    "\n",
    "num_samples = 1000\n",
    "amino_acid_lengths = [length for length in range(5, 26, 5)]\n",
    "time_data = timing_samples(num_samples, amino_acid_lengths)\n",
    "HP25 = store_samples_in_dataframe(num_samples, amino_acid_lengths)\n",
    "\n",
    "# num_samples = 1000\n",
    "# amino_acid_lengths = [length for length in range(5, 51, 5)]\n",
    "# time_data = timing_samples(num_samples, amino_acid_lengths)\n",
    "# HP50 = store_samples_in_dataframe(num_samples, amino_acid_lengths)\n",
    "\n",
    "# num_samples = 1000\n",
    "# amino_acid_lengths = [length for length in range(5, 101, 5)]\n",
    "# time_data = timing_samples(num_samples, amino_acid_lengths)\n",
    "# HP50 = store_samples_in_dataframe(num_samples, amino_acid_lengths)\n",
    "\n",
    "# num_samples = 1000\n",
    "# amino_acid_lengths = [length for length in range(5, 201, 5)]\n",
    "# time_data = timing_samples(num_samples, amino_acid_lengths)\n",
    "# HP200 = store_samples_in_dataframe(num_samples, amino_acid_lengths)"
   ]
  },
  {
   "cell_type": "code",
   "execution_count": 16,
   "metadata": {},
   "outputs": [
    {
     "data": {
      "text/html": [
       "<div>\n",
       "<style scoped>\n",
       "    .dataframe tbody tr th:only-of-type {\n",
       "        vertical-align: middle;\n",
       "    }\n",
       "\n",
       "    .dataframe tbody tr th {\n",
       "        vertical-align: top;\n",
       "    }\n",
       "\n",
       "    .dataframe thead th {\n",
       "        text-align: right;\n",
       "    }\n",
       "</style>\n",
       "<table border=\"1\" class=\"dataframe\">\n",
       "  <thead>\n",
       "    <tr style=\"text-align: right;\">\n",
       "      <th></th>\n",
       "      <th>Amino Acid Length</th>\n",
       "      <th>Num Hydrophobic</th>\n",
       "      <th>Num Polar</th>\n",
       "      <th>1D protein</th>\n",
       "      <th>2D protein</th>\n",
       "      <th>Amino Acids on Grid</th>\n",
       "      <th>Trimmed 2D protein</th>\n",
       "      <th>Shape 2D protein</th>\n",
       "      <th>Amino Acid Order</th>\n",
       "      <th>Amino Acid Direction</th>\n",
       "      <th>H-Bonds</th>\n",
       "      <th>H-Ratio</th>\n",
       "    </tr>\n",
       "  </thead>\n",
       "  <tbody>\n",
       "    <tr>\n",
       "      <th>4995</th>\n",
       "      <td>25</td>\n",
       "      <td>12</td>\n",
       "      <td>13</td>\n",
       "      <td>[P, H, H, H, P, H, H, P, H, H, H, P, H, P, P, ...</td>\n",
       "      <td>[[, , , , , , , , , , , , , , , , , , , , , , ...</td>\n",
       "      <td>25</td>\n",
       "      <td>[[, , , P, P, P, , , , ], [, P, P, P, , H, P, ...</td>\n",
       "      <td>(7, 10)</td>\n",
       "      <td>[(P, (25, 25)), (H, (25, 24)), (H, (26, 24)), ...</td>\n",
       "      <td>[Start, straight, left, straight, left, left, ...</td>\n",
       "      <td>1</td>\n",
       "      <td>0.040000</td>\n",
       "    </tr>\n",
       "    <tr>\n",
       "      <th>4996</th>\n",
       "      <td>25</td>\n",
       "      <td>12</td>\n",
       "      <td>13</td>\n",
       "      <td>[H, P, P, P, P, H, H, H, P, H, P, P, H, P, P, ...</td>\n",
       "      <td>[[, , , , , , , , , , , , , , , , , , , , , , ...</td>\n",
       "      <td>25</td>\n",
       "      <td>[[H, P, P, , ], [H, P, P, , ], [H, H, , , ], [...</td>\n",
       "      <td>(13, 5)</td>\n",
       "      <td>[(H, (25, 25)), (P, (25, 26)), (P, (25, 27)), ...</td>\n",
       "      <td>[Start, straight, straight, right, right, stra...</td>\n",
       "      <td>2</td>\n",
       "      <td>0.080000</td>\n",
       "    </tr>\n",
       "    <tr>\n",
       "      <th>4997</th>\n",
       "      <td>25</td>\n",
       "      <td>7</td>\n",
       "      <td>18</td>\n",
       "      <td>[H, P, P, P, P, P, P, H, H, P, P, P, H, H, H, ...</td>\n",
       "      <td>[[, , , , , , , , , , , , , , , , , , , , , , ...</td>\n",
       "      <td>25</td>\n",
       "      <td>[[H, P, , , , , , , ], [, P, P, P, , P, P, , ]...</td>\n",
       "      <td>(6, 9)</td>\n",
       "      <td>[(H, (25, 25)), (P, (25, 26)), (P, (26, 26)), ...</td>\n",
       "      <td>[Start, straight, right, left, straight, right...</td>\n",
       "      <td>0</td>\n",
       "      <td>0.000000</td>\n",
       "    </tr>\n",
       "    <tr>\n",
       "      <th>4998</th>\n",
       "      <td>25</td>\n",
       "      <td>5</td>\n",
       "      <td>20</td>\n",
       "      <td>[P, P, P, P, P, P, P, H, P, P, P, H, P, P, H, ...</td>\n",
       "      <td>[[, , , , , , , , , , , , , , , , , , , , , , ...</td>\n",
       "      <td>23</td>\n",
       "      <td>[[P, P, , P, H, P, ], [P, P, P, P, , P, P], [,...</td>\n",
       "      <td>(4, 7)</td>\n",
       "      <td>[(P, (25, 25)), (P, (24, 25)), (P, (24, 26)), ...</td>\n",
       "      <td>[Start, straight, right, right, left, straight...</td>\n",
       "      <td>1</td>\n",
       "      <td>0.043478</td>\n",
       "    </tr>\n",
       "    <tr>\n",
       "      <th>4999</th>\n",
       "      <td>25</td>\n",
       "      <td>17</td>\n",
       "      <td>8</td>\n",
       "      <td>[H, P, P, H, H, H, H, P, H, H, P, H, H, H, H, ...</td>\n",
       "      <td>[[, , , , , , , , , , , , , , , , , , , , , , ...</td>\n",
       "      <td>25</td>\n",
       "      <td>[[, , , , , H, ], [, , , H, P, P, ], [P, H, P,...</td>\n",
       "      <td>(7, 7)</td>\n",
       "      <td>[(H, (25, 25)), (P, (26, 25)), (P, (26, 24)), ...</td>\n",
       "      <td>[Start, straight, right, straight, left, strai...</td>\n",
       "      <td>3</td>\n",
       "      <td>0.120000</td>\n",
       "    </tr>\n",
       "  </tbody>\n",
       "</table>\n",
       "</div>"
      ],
      "text/plain": [
       "      Amino Acid Length  Num Hydrophobic  Num Polar  \\\n",
       "4995                 25               12         13   \n",
       "4996                 25               12         13   \n",
       "4997                 25                7         18   \n",
       "4998                 25                5         20   \n",
       "4999                 25               17          8   \n",
       "\n",
       "                                             1D protein  \\\n",
       "4995  [P, H, H, H, P, H, H, P, H, H, H, P, H, P, P, ...   \n",
       "4996  [H, P, P, P, P, H, H, H, P, H, P, P, H, P, P, ...   \n",
       "4997  [H, P, P, P, P, P, P, H, H, P, P, P, H, H, H, ...   \n",
       "4998  [P, P, P, P, P, P, P, H, P, P, P, H, P, P, H, ...   \n",
       "4999  [H, P, P, H, H, H, H, P, H, H, P, H, H, H, H, ...   \n",
       "\n",
       "                                             2D protein  Amino Acids on Grid  \\\n",
       "4995  [[, , , , , , , , , , , , , , , , , , , , , , ...                   25   \n",
       "4996  [[, , , , , , , , , , , , , , , , , , , , , , ...                   25   \n",
       "4997  [[, , , , , , , , , , , , , , , , , , , , , , ...                   25   \n",
       "4998  [[, , , , , , , , , , , , , , , , , , , , , , ...                   23   \n",
       "4999  [[, , , , , , , , , , , , , , , , , , , , , , ...                   25   \n",
       "\n",
       "                                     Trimmed 2D protein Shape 2D protein  \\\n",
       "4995  [[, , , P, P, P, , , , ], [, P, P, P, , H, P, ...          (7, 10)   \n",
       "4996  [[H, P, P, , ], [H, P, P, , ], [H, H, , , ], [...          (13, 5)   \n",
       "4997  [[H, P, , , , , , , ], [, P, P, P, , P, P, , ]...           (6, 9)   \n",
       "4998  [[P, P, , P, H, P, ], [P, P, P, P, , P, P], [,...           (4, 7)   \n",
       "4999  [[, , , , , H, ], [, , , H, P, P, ], [P, H, P,...           (7, 7)   \n",
       "\n",
       "                                       Amino Acid Order  \\\n",
       "4995  [(P, (25, 25)), (H, (25, 24)), (H, (26, 24)), ...   \n",
       "4996  [(H, (25, 25)), (P, (25, 26)), (P, (25, 27)), ...   \n",
       "4997  [(H, (25, 25)), (P, (25, 26)), (P, (26, 26)), ...   \n",
       "4998  [(P, (25, 25)), (P, (24, 25)), (P, (24, 26)), ...   \n",
       "4999  [(H, (25, 25)), (P, (26, 25)), (P, (26, 24)), ...   \n",
       "\n",
       "                                   Amino Acid Direction  H-Bonds   H-Ratio  \n",
       "4995  [Start, straight, left, straight, left, left, ...        1  0.040000  \n",
       "4996  [Start, straight, straight, right, right, stra...        2  0.080000  \n",
       "4997  [Start, straight, right, left, straight, right...        0  0.000000  \n",
       "4998  [Start, straight, right, right, left, straight...        1  0.043478  \n",
       "4999  [Start, straight, right, straight, left, strai...        3  0.120000  "
      ]
     },
     "execution_count": 16,
     "metadata": {},
     "output_type": "execute_result"
    }
   ],
   "source": [
    "HP25.tail()"
   ]
  },
  {
   "cell_type": "code",
   "execution_count": 25,
   "metadata": {},
   "outputs": [],
   "source": [
    "# HP25.to_csv('../Data/Experiment 1/HP25.csv', index=False)"
   ]
  },
  {
   "cell_type": "code",
   "execution_count": 42,
   "metadata": {},
   "outputs": [],
   "source": [
    "# HP50.to_csv('../Data/Experiment 1/HP50.csv', index=False)"
   ]
  },
  {
   "cell_type": "code",
   "execution_count": null,
   "metadata": {},
   "outputs": [],
   "source": [
    "# HP100.to_csv('../Data/Experiment 1/HP100.csv', index=False)"
   ]
  },
  {
   "cell_type": "code",
   "execution_count": 18,
   "metadata": {},
   "outputs": [],
   "source": [
    "# HP200.to_csv('../Data/Experiment 1/HP200.csv', index=False)"
   ]
  }
 ],
 "metadata": {
  "kernelspec": {
   "display_name": "Python 3",
   "language": "python",
   "name": "python3"
  },
  "language_info": {
   "codemirror_mode": {
    "name": "ipython",
    "version": 3
   },
   "file_extension": ".py",
   "mimetype": "text/x-python",
   "name": "python",
   "nbconvert_exporter": "python",
   "pygments_lexer": "ipython3",
   "version": "3.8.3"
  }
 },
 "nbformat": 4,
 "nbformat_minor": 4
}
