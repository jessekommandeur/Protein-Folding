{
 "cells": [
  {
   "cell_type": "markdown",
   "metadata": {},
   "source": [
    "# Protein Folding in 2D \n",
    "Proteins are long strands of amino acids that control many important processes in the human body. It is known that proteins are stored 'folded' inside the cells of the body, and that the specific folding significantly influences their functioning. ‘Misfolded’ proteins can play a role in cancer, Alzheimer's disease and cystic fibrosis.\n",
    "\n",
    "Due to the complexity of the protein folding problem, simplified models such as Dill's hydrophobic-polar (HP) model have become one of the major tools for studying protein structure. The HP model is based on the observation that the hydrophobic force is the main force deter- mining the unique native conformation (and hence the functional state) of small globular proteins.\n",
    "\n",
    "In a protein, hydrophobic amino acids (H) like to lie 'adjecntly', polar amino acids (P) do not have that preference. When two hydrophobic amino acids lie next to each other, an 'H- bond' is formed due to the attractive forces between the two. And the more bonds, the more stable the protein. The HP-model, containing of just two types of amino acids, arranges these in a grid or a lattice.\n",
    "\n",
    "![Example Screenshot](8_piece_protein.png)\n"
   ]
  },
  {
   "cell_type": "code",
   "execution_count": 1,
   "metadata": {},
   "outputs": [],
   "source": [
    "import numpy as np \n",
    "import pandas as pd\n",
    "import time as time\n",
    "\n",
    "np.set_printoptions(threshold=np.inf)"
   ]
  },
  {
   "cell_type": "markdown",
   "metadata": {},
   "source": [
    "## Basic Algorithm for Protein Folding\n",
    "This thread covers the development of an algorithm to simulate and analyze protein folding using a simplified model known as the HP model. The HP model involves two types of amino acids: hydrophobic (H) and polar (P). The goal is to arrange these amino acids on a 2D grid or lattice to create stable protein configurations.\n",
    "\n",
    "The key steps of the algorithm include:\n",
    "\n",
    "1. **Initializing Acids**: A function called `random_division` is used to divide a specified number of amino acids into hydrophobic and polar types while ensuring at least one of each type. \n",
    "- **Initializing Grid**: The `initialize grid` function begins by initializing a 2D grid or lattice with a specified size. Hydrophobic and polar amino acids are randomly placed on the grid.\n",
    "- **Calculate Energy**: The function `calculate_hbonds` calculates the initial energy of a given grid by counting the number of adjacent hydrophobic amino acids (H-bonds).\n",
    "\n",
    "- **Fold Proteins**: The function `reshape_grid` attempts to reshape a given grid to improve stability. It iterates through various configurations to optimize the placement of amino acids and maximizes the energy function.\n",
    "\n",
    "- **Creating Samples**: The `generate_random_samples` function generates a given number of random samples for various amino acid lengths. It uses the random division to determine the amino acid types and grid size and then initializes grids accordingly.\n",
    "\n",
    "- **Generating and storing Results**: The code generates random samples for different amino acid lengths (5, 10, 15, 20, 25, 30, 35, and 40) and calculates various metrics for each sample. It then prints the sample information, grid configuration, and metrics.\n"
   ]
  },
  {
   "cell_type": "markdown",
   "metadata": {},
   "source": [
    "### Step 1 - Initializing Acids"
   ]
  },
  {
   "cell_type": "markdown",
   "metadata": {},
   "source": [
    "This function `random_division` takes the total number of amino acids as input and randomly divides them into hydrophobic and polar amino acids, before creating a random 1D amino acid string. It ensures that there's at least one hydrophobic and one polar amino acid. You can adjust the total_amino_acids variable to the desired number of amino acids you want to divide."
   ]
  },
  {
   "cell_type": "code",
   "execution_count": 2,
   "metadata": {},
   "outputs": [
    {
     "name": "stdout",
     "output_type": "stream",
     "text": [
      "Number of Hydro acids: 3\n",
      "Number of Polar acids: 2\n",
      "Random Amino Acid String: HHPPH\n"
     ]
    }
   ],
   "source": [
    "total_amino_acids = 5  # Change this to a desired number, 10 is used for illustration purposes\n",
    "\n",
    "def random_division(total_amino_acids):\n",
    "    num_hydrophobic = np.random.randint(1, total_amino_acids)  # Ensure at least one H and P\n",
    "    num_polar = total_amino_acids - num_hydrophobic\n",
    "    # randomly shuffle the amino acids\n",
    "    amino_acids = ['H'] * num_hydrophobic + ['P'] * num_polar\n",
    "    np.random.shuffle(amino_acids)\n",
    "    return num_hydrophobic, num_polar, amino_acids\n",
    "\n",
    "num_hydrophobic, num_polar, amino_acids = random_division(total_amino_acids)\n",
    "print(\"Number of Hydro acids:\", num_hydrophobic)\n",
    "print(\"Number of Polar acids:\", num_polar)\n",
    "print(\"Random Amino Acid String:\", \"\".join(amino_acids))"
   ]
  },
  {
   "cell_type": "markdown",
   "metadata": {},
   "source": [
    "### Step 2 - Initializing Grid\n",
    "The `initialize_grid` function generates a grid to place amino acids, with specified dimensions, and populates it with H and P amino acids, while ensuring they do not overlap and tracks their placement order. This allows for simulating the random arrangement of amino acids on a grid for various applications."
   ]
  },
  {
   "cell_type": "code",
   "execution_count": 3,
   "metadata": {},
   "outputs": [],
   "source": [
    "amino_acids_copy = amino_acids.copy()\n",
    "\n",
    "def initialize_grid(amino_acids, num_hydrophobic, num_polar):\n",
    "    amino_acids_copy = amino_acids.copy()\n",
    "    total_amino_acids = len(amino_acids)\n",
    "    grid_size = total_amino_acids * 2\n",
    "    grid = np.full((grid_size, grid_size), fill_value='', dtype=object)  \n",
    "    amino_acid_order = []  # List to track the order of amino acids placed\n",
    "    \n",
    "    # Place the first amino acid randomly on the grid\n",
    "    first_amino_row = grid_size // 2\n",
    "    first_amino_col = grid_size // 2\n",
    "    amino_acid_type = amino_acids_copy.pop(0)\n",
    "    grid[first_amino_row, first_amino_col] = amino_acid_type\n",
    "    \n",
    "    # Keep track of order\n",
    "    amino_acid_order.append((amino_acid_type, (first_amino_row, first_amino_col)))\n",
    "    total_amino_acids -= 1\n",
    "    \n",
    "    # Place the remaining amino acids next to the last placed amino acid\n",
    "    while total_amino_acids > 0:\n",
    "        last_amino_row, last_amino_col = amino_acid_order[-1][1]\n",
    "        neighbors = [\n",
    "            (last_amino_row - 1, last_amino_col),\n",
    "            (last_amino_row + 1, last_amino_col),\n",
    "            (last_amino_row, last_amino_col - 1),\n",
    "            (last_amino_row, last_amino_col + 1)\n",
    "        ]\n",
    "        \n",
    "        valid_neighbors = [(row, col) for row, col in neighbors if 0 <= row < grid_size and 0 <= col < grid_size and grid[row, col] == '']\n",
    "        \n",
    "        if valid_neighbors and amino_acids_copy:  # Check if there are valid neighbors and remaining amino acids\n",
    "            # Shuffle the list of valid neighbors and choose one randomly\n",
    "            np.random.shuffle(valid_neighbors)\n",
    "            chosen_row, chosen_col = valid_neighbors[0]\n",
    "            amino_acid_type = amino_acids_copy.pop(0)\n",
    "            grid[chosen_row, chosen_col] = amino_acid_type\n",
    "            amino_acid_order.append((amino_acid_type, (chosen_row, chosen_col)))\n",
    "            total_amino_acids -= 1\n",
    "        else:\n",
    "            break  # No valid neighbors or no remaining amino acids, exit the loop\n",
    "    \n",
    "    return grid, amino_acid_order\n",
    "\n",
    "# Example usage\n",
    "initial_grid, amino_acid_order = initialize_grid( amino_acids_copy, num_hydrophobic, num_polar)"
   ]
  },
  {
   "cell_type": "code",
   "execution_count": 4,
   "metadata": {},
   "outputs": [
    {
     "name": "stdout",
     "output_type": "stream",
     "text": [
      "Amino Acid Order: [('H', (5, 5)), ('H', (5, 4)), ('P', (4, 4)), ('P', (3, 4)), ('H', (2, 4))]\n"
     ]
    }
   ],
   "source": [
    "print(\"Amino Acid Order:\", amino_acid_order)"
   ]
  },
  {
   "cell_type": "code",
   "execution_count": 5,
   "metadata": {},
   "outputs": [
    {
     "name": "stdout",
     "output_type": "stream",
     "text": [
      "Trimmed Grid: \n",
      " [['H' '']\n",
      " ['P' '']\n",
      " ['P' '']\n",
      " ['H' 'H']]\n"
     ]
    }
   ],
   "source": [
    "def trim_empty_rows_and_columns(grid):\n",
    "    # Find the indices of non-empty rows and columns\n",
    "    non_empty_rows = np.any(grid != '', axis=1)\n",
    "    non_empty_columns = np.any(grid != '', axis=0)\n",
    "\n",
    "    # Use boolean indexing to extract non-empty rows and columns\n",
    "    trimmed_grid = grid[non_empty_rows][:, non_empty_columns]\n",
    "\n",
    "    return trimmed_grid\n",
    "\n",
    "# Call the function to trim empty rows and columns\n",
    "trimmed_grid = trim_empty_rows_and_columns(initial_grid)\n",
    "\n",
    "# Print the trimmed grid\n",
    "print(\"Trimmed Grid:\", '\\n', trimmed_grid)"
   ]
  },
  {
   "cell_type": "markdown",
   "metadata": {},
   "source": [
    "### Step 3a - Calculate H-bonds\n",
    "The `find_H_combinations_grid` function is used to~ identify and collect sets of coordinates representing adjacent 'H' amino acids in a grid. It iterates through the entire grid, checking each position for the presence of 'H' amino acids. If an 'H' amino acid is found, it examines neighboring positions (up, down, left, right) to identify adjacent 'H' amino acids. For each pair of adjacent 'H' amino acids, it creates a frozenset containing their coordinates (ensuring that the order of coordinates doesn't matter) and adds this frozenset to a set. This set stores all unique pairs of adjacent 'H' amino acids found in the grid. The function returns this set of adjacent 'H' amino acid pairs."
   ]
  },
  {
   "cell_type": "code",
   "execution_count": 6,
   "metadata": {},
   "outputs": [
    {
     "data": {
      "text/plain": [
       "{frozenset({(5, 4), (5, 5)})}"
      ]
     },
     "execution_count": 6,
     "metadata": {},
     "output_type": "execute_result"
    }
   ],
   "source": [
    "def find_H_pairs_grid(grid):\n",
    "    adjacent_hydrophobic_amino_acids = set()  # Use a set to automatically remove duplicates\n",
    "\n",
    "    # Iterate through the grid to find adjacent 'H' amino acids\n",
    "    for row in range(grid.shape[0]):\n",
    "        for col in range(grid.shape[1]):\n",
    "            current_acid = grid[row, col]\n",
    "\n",
    "            # Check if the current amino acid is 'H'\n",
    "            if current_acid == 'H':\n",
    "                # Check the neighboring positions (up, down, left, right) relative to the current position\n",
    "                neighbors = [\n",
    "                    (row - 1, col),\n",
    "                    (row + 1, col),\n",
    "                    (row, col - 1),\n",
    "                    (row, col + 1)\n",
    "                ]\n",
    "\n",
    "                for neighbor_row, neighbor_col in neighbors:\n",
    "                    # Check if the neighbor is within the grid bounds\n",
    "                    if 0 <= neighbor_row < grid.shape[0] and 0 <= neighbor_col < grid.shape[1]:\n",
    "                        neighbor_acid = grid[neighbor_row, neighbor_col]\n",
    "\n",
    "                        # Check if the neighbor is also 'H'\n",
    "                        if neighbor_acid == 'H':\n",
    "                            # Use frozenset to ensure that the order of coordinates doesn't matter\n",
    "                            amino_acid_pair = frozenset({(row, col), (neighbor_row, neighbor_col)})\n",
    "                            adjacent_hydrophobic_amino_acids.add(amino_acid_pair)\n",
    "                            \n",
    "    return adjacent_hydrophobic_amino_acids\n",
    "\n",
    "find_H_pairs_grid(initial_grid)"
   ]
  },
  {
   "cell_type": "markdown",
   "metadata": {},
   "source": [
    "### Step 3b - Calculate H-bonds\n",
    "The `find_H_combinations_order` function examines the order of amino acids and identifies adjacent 'H' amino acids. It does this by iterating through the amino acid order, checking pairs of consecutive amino acids for 'H' type, and recording these pairs as frozensets in a set to remove duplicates. This function helps identify adjacent 'H' amino acids in the sequence order, which is useful for analyzing the arrangement of amino acids."
   ]
  },
  {
   "cell_type": "code",
   "execution_count": 7,
   "metadata": {},
   "outputs": [
    {
     "data": {
      "text/plain": [
       "{frozenset({(5, 4), (5, 5)})}"
      ]
     },
     "execution_count": 7,
     "metadata": {},
     "output_type": "execute_result"
    }
   ],
   "source": [
    "def find_H_pairs_order(amino_acid_order):\n",
    "    adjacent_hydrophobic_amino_acids = set()  # Use a set to automatically remove duplicates\n",
    "\n",
    "    # Iterate through the amino acid order to find adjacent 'H' amino acids\n",
    "    for i in range(len(amino_acid_order) - 1):\n",
    "        current_acid, current_position = amino_acid_order[i]\n",
    "        next_acid, next_position = amino_acid_order[i + 1]\n",
    "\n",
    "        # Check if both current and next amino acids are 'H'\n",
    "        if current_acid == 'H' and next_acid == 'H':\n",
    "            # Use frozenset to ensure that the order of positions doesn't matter\n",
    "            amino_acid_pair = frozenset({current_position, next_position})\n",
    "            adjacent_hydrophobic_amino_acids.add(amino_acid_pair)\n",
    "\n",
    "    return adjacent_hydrophobic_amino_acids\n",
    "\n",
    "find_H_pairs_order(amino_acid_order)"
   ]
  },
  {
   "cell_type": "markdown",
   "metadata": {},
   "source": [
    "### Step 3c - Calculate H-bonds\n",
    "The provided code calculates the H-combinations in two different ways and then compares them. It calculates the H-pairs in the grid using the `find_H_combinations_grid` function and the H-pairs in the amino acid order using the `find_H_combination_order` function. Then, it subtracts the H-combinations found in the amino acid order from those found in the grid. This comparison helps identify the **H-bonds** that are formed between adjacent 'H' amino acids in the grid but not in the given amino acid sequence order."
   ]
  },
  {
   "cell_type": "code",
   "execution_count": 8,
   "metadata": {},
   "outputs": [],
   "source": [
    "def find_H_bonds(grid, amino_acid_order):\n",
    "    grid_h_pairs = find_H_pairs_grid(grid)\n",
    "    order_h_pairs = find_H_pairs_order(amino_acid_order)\n",
    "    return grid_h_pairs - order_h_pairs\n",
    "\n",
    "H_bonds = find_H_bonds(initial_grid, amino_acid_order)"
   ]
  },
  {
   "cell_type": "code",
   "execution_count": 9,
   "metadata": {},
   "outputs": [
    {
     "name": "stdout",
     "output_type": "stream",
     "text": [
      "Number of H-bonds: 0\n"
     ]
    }
   ],
   "source": [
    "print('Number of H-bonds:', len(H_bonds))\n",
    "\n",
    "for bond in H_bonds:\n",
    "    coordinates = [coord for coord in bond]\n",
    "    print(coordinates)"
   ]
  },
  {
   "cell_type": "markdown",
   "metadata": {},
   "source": [
    "### Step 4 - Creating Samples\n",
    "The code generates N random protein grid configurations with a specified number of hydrophobic and polar amino acids using the `generate_random_samples` function. "
   ]
  },
  {
   "cell_type": "code",
   "execution_count": 10,
   "metadata": {},
   "outputs": [
    {
     "data": {
      "text/plain": [
       "(4,\n",
       " 1,\n",
       " ['H', 'H', 'P', 'H', 'H'],\n",
       " array([['', '', '', '', '', '', '', '', '', ''],\n",
       "        ['', '', '', '', '', '', '', '', '', ''],\n",
       "        ['', '', '', '', '', '', '', '', '', ''],\n",
       "        ['', '', '', '', '', '', '', '', '', ''],\n",
       "        ['', '', '', '', '', '', '', '', '', ''],\n",
       "        ['', '', '', '', '', 'H', 'H', 'P', 'H', ''],\n",
       "        ['', '', '', '', '', '', '', '', 'H', ''],\n",
       "        ['', '', '', '', '', '', '', '', '', ''],\n",
       "        ['', '', '', '', '', '', '', '', '', ''],\n",
       "        ['', '', '', '', '', '', '', '', '', '']], dtype=object),\n",
       " 5,\n",
       " [('H', (5, 5)), ('H', (5, 6)), ('P', (5, 7)), ('H', (5, 8)), ('H', (6, 8))],\n",
       " array([['H', 'H', 'P', 'H'],\n",
       "        ['', '', '', 'H']], dtype=object),\n",
       " (2, 4),\n",
       " 0,\n",
       " 0.0)"
      ]
     },
     "execution_count": 10,
     "metadata": {},
     "output_type": "execute_result"
    }
   ],
   "source": [
    "def generate_random_samples(N, total_amino_acids):\n",
    "    random_samples = []\n",
    "\n",
    "    for _ in range(N):\n",
    "        num_hydrophobic, num_polar, amino_acids = random_division(total_amino_acids)\n",
    "        amino_acids_copy = amino_acids.copy()\n",
    "        initial_grid, amino_acid_order = initialize_grid(amino_acids_copy, num_hydrophobic, num_polar)\n",
    "        trimmed_grid = trim_empty_rows_and_columns(initial_grid)\n",
    "        protein_dimensions = trimmed_grid.shape\n",
    "        amino_acids_on_grid = np.count_nonzero(initial_grid != '')\n",
    "        hbonds = len(find_H_bonds(initial_grid, amino_acid_order))\n",
    "        hratio = hbonds / amino_acids_on_grid\n",
    "        \n",
    "        random_samples.append((num_hydrophobic,\n",
    "                               num_polar,\n",
    "                               amino_acids,\n",
    "                               initial_grid,\n",
    "                               amino_acids_on_grid,\n",
    "                               amino_acid_order,\n",
    "                               trimmed_grid, \n",
    "                               protein_dimensions,\n",
    "                               hbonds,\n",
    "                               hratio,\n",
    "                              ))\n",
    "\n",
    "    return random_samples\n",
    "\n",
    "# Example usage\n",
    "generate_random_samples(3, total_amino_acids)[0]"
   ]
  },
  {
   "cell_type": "code",
   "execution_count": 11,
   "metadata": {},
   "outputs": [],
   "source": [
    "def store_samples_in_dataframe(num_samples, amino_acid_lengths):\n",
    "    \n",
    "    data = {\n",
    "        \"Amino Acid Length\": [],\n",
    "        \"Num Hydrophobic\": [],\n",
    "        \"Num Polar\": [],\n",
    "        \"1D protein\": [],\n",
    "        \"2D protein\": [],\n",
    "        \"Amino Acids on Grid\": [],  \n",
    "        \"Trimmed 2D protein\": [],\n",
    "        \"Shape 2D protein\": [],\n",
    "        \"Amino Acid Order\": [],\n",
    "        \"H-Bonds\": [],\n",
    "        \"H-Ratio\": [],\n",
    "    }\n",
    "\n",
    "    for length in amino_acid_lengths:\n",
    "        random_samples = generate_random_samples(num_samples, length)\n",
    "        for sample in random_samples:\n",
    "            num_hydrophobic, num_polar, amino_acids, initial_grid, amino_acids_on_grid, amino_acid_order, trimmed_grid, protein_dimensions, hbonds, hratio= sample\n",
    "            data[\"Amino Acid Length\"].append(length)\n",
    "            data[\"Num Hydrophobic\"].append(num_hydrophobic)\n",
    "            data[\"Num Polar\"].append(num_polar)\n",
    "            data[\"1D protein\"].append(amino_acids)\n",
    "            data[\"2D protein\"].append(initial_grid)\n",
    "            data[\"Amino Acids on Grid\"].append(amino_acids_on_grid)\n",
    "            data[\"Trimmed 2D protein\"].append(trimmed_grid)\n",
    "            data[\"Shape 2D protein\"].append(protein_dimensions)\n",
    "            data[\"Amino Acid Order\"].append(amino_acid_order)\n",
    "            data[\"H-Bonds\"].append(hbonds)\n",
    "            data['H-Ratio'].append(hratio)\n",
    "\n",
    "    df = pd.DataFrame(data)\n",
    "    return df"
   ]
  },
  {
   "cell_type": "code",
   "execution_count": 12,
   "metadata": {},
   "outputs": [
    {
     "name": "stdout",
     "output_type": "stream",
     "text": [
      "CPU times: user 1.36 s, sys: 22.8 ms, total: 1.38 s\n",
      "Wall time: 1.38 s\n"
     ]
    }
   ],
   "source": [
    "%%time\n",
    "# Generate an experiment with 1000 samples for amino length [5, 10, 15 ..., 25]\n",
    "\n",
    "num_samples = 1000\n",
    "amino_acid_lengths = [length for length in range(5, 26, 5)]\n",
    "HP25 = store_samples_in_dataframe(num_samples, amino_acid_lengths)"
   ]
  },
  {
   "cell_type": "code",
   "execution_count": 13,
   "metadata": {},
   "outputs": [
    {
     "data": {
      "text/html": [
       "<div>\n",
       "<style scoped>\n",
       "    .dataframe tbody tr th:only-of-type {\n",
       "        vertical-align: middle;\n",
       "    }\n",
       "\n",
       "    .dataframe tbody tr th {\n",
       "        vertical-align: top;\n",
       "    }\n",
       "\n",
       "    .dataframe thead th {\n",
       "        text-align: right;\n",
       "    }\n",
       "</style>\n",
       "<table border=\"1\" class=\"dataframe\">\n",
       "  <thead>\n",
       "    <tr style=\"text-align: right;\">\n",
       "      <th></th>\n",
       "      <th>Amino Acid Length</th>\n",
       "      <th>Num Hydrophobic</th>\n",
       "      <th>Num Polar</th>\n",
       "      <th>1D protein</th>\n",
       "      <th>2D protein</th>\n",
       "      <th>Amino Acids on Grid</th>\n",
       "      <th>Trimmed 2D protein</th>\n",
       "      <th>Shape 2D protein</th>\n",
       "      <th>Amino Acid Order</th>\n",
       "      <th>H-Bonds</th>\n",
       "      <th>H-Ratio</th>\n",
       "    </tr>\n",
       "  </thead>\n",
       "  <tbody>\n",
       "    <tr>\n",
       "      <th>0</th>\n",
       "      <td>5</td>\n",
       "      <td>2</td>\n",
       "      <td>3</td>\n",
       "      <td>[P, P, H, H, P]</td>\n",
       "      <td>[[, , , , , , , , , ], [, , , , , , , , , ], [...</td>\n",
       "      <td>5</td>\n",
       "      <td>[[P, ], [P, ], [H, ], [H, P]]</td>\n",
       "      <td>(4, 2)</td>\n",
       "      <td>[(P, (5, 5)), (P, (6, 5)), (H, (7, 5)), (H, (8...</td>\n",
       "      <td>0</td>\n",
       "      <td>0.0</td>\n",
       "    </tr>\n",
       "    <tr>\n",
       "      <th>1</th>\n",
       "      <td>5</td>\n",
       "      <td>3</td>\n",
       "      <td>2</td>\n",
       "      <td>[P, H, P, H, H]</td>\n",
       "      <td>[[, , , , , , , , , ], [, , , , , , , , , ], [...</td>\n",
       "      <td>5</td>\n",
       "      <td>[[H, H, ], [, P, H], [, , P]]</td>\n",
       "      <td>(3, 3)</td>\n",
       "      <td>[(P, (5, 5)), (H, (4, 5)), (P, (4, 4)), (H, (3...</td>\n",
       "      <td>0</td>\n",
       "      <td>0.0</td>\n",
       "    </tr>\n",
       "  </tbody>\n",
       "</table>\n",
       "</div>"
      ],
      "text/plain": [
       "   Amino Acid Length  Num Hydrophobic  Num Polar       1D protein  \\\n",
       "0                  5                2          3  [P, P, H, H, P]   \n",
       "1                  5                3          2  [P, H, P, H, H]   \n",
       "\n",
       "                                          2D protein  Amino Acids on Grid  \\\n",
       "0  [[, , , , , , , , , ], [, , , , , , , , , ], [...                    5   \n",
       "1  [[, , , , , , , , , ], [, , , , , , , , , ], [...                    5   \n",
       "\n",
       "              Trimmed 2D protein Shape 2D protein  \\\n",
       "0  [[P, ], [P, ], [H, ], [H, P]]           (4, 2)   \n",
       "1  [[H, H, ], [, P, H], [, , P]]           (3, 3)   \n",
       "\n",
       "                                    Amino Acid Order  H-Bonds  H-Ratio  \n",
       "0  [(P, (5, 5)), (P, (6, 5)), (H, (7, 5)), (H, (8...        0      0.0  \n",
       "1  [(P, (5, 5)), (H, (4, 5)), (P, (4, 4)), (H, (3...        0      0.0  "
      ]
     },
     "execution_count": 13,
     "metadata": {},
     "output_type": "execute_result"
    }
   ],
   "source": [
    "HP25.head(2)"
   ]
  },
  {
   "cell_type": "code",
   "execution_count": 14,
   "metadata": {},
   "outputs": [
    {
     "name": "stdout",
     "output_type": "stream",
     "text": [
      "CPU times: user 6.97 s, sys: 111 ms, total: 7.08 s\n",
      "Wall time: 7.09 s\n"
     ]
    }
   ],
   "source": [
    "%%time\n",
    "# Generate an experiment with 1000 samples for amino length [5, 10, 15 ..., 50]\n",
    "\n",
    "num_samples = 1000\n",
    "amino_acid_lengths = [length for length in range(5, 51, 5)]\n",
    "HP50 = store_samples_in_dataframe(num_samples, amino_acid_lengths)"
   ]
  },
  {
   "cell_type": "code",
   "execution_count": 15,
   "metadata": {},
   "outputs": [
    {
     "data": {
      "text/html": [
       "<div>\n",
       "<style scoped>\n",
       "    .dataframe tbody tr th:only-of-type {\n",
       "        vertical-align: middle;\n",
       "    }\n",
       "\n",
       "    .dataframe tbody tr th {\n",
       "        vertical-align: top;\n",
       "    }\n",
       "\n",
       "    .dataframe thead th {\n",
       "        text-align: right;\n",
       "    }\n",
       "</style>\n",
       "<table border=\"1\" class=\"dataframe\">\n",
       "  <thead>\n",
       "    <tr style=\"text-align: right;\">\n",
       "      <th></th>\n",
       "      <th>Amino Acid Length</th>\n",
       "      <th>Num Hydrophobic</th>\n",
       "      <th>Num Polar</th>\n",
       "      <th>1D protein</th>\n",
       "      <th>2D protein</th>\n",
       "      <th>Amino Acids on Grid</th>\n",
       "      <th>Trimmed 2D protein</th>\n",
       "      <th>Shape 2D protein</th>\n",
       "      <th>Amino Acid Order</th>\n",
       "      <th>H-Bonds</th>\n",
       "      <th>H-Ratio</th>\n",
       "    </tr>\n",
       "  </thead>\n",
       "  <tbody>\n",
       "    <tr>\n",
       "      <th>0</th>\n",
       "      <td>5</td>\n",
       "      <td>3</td>\n",
       "      <td>2</td>\n",
       "      <td>[H, H, H, P, P]</td>\n",
       "      <td>[[, , , , , , , , , ], [, , , , , , , , , ], [...</td>\n",
       "      <td>5</td>\n",
       "      <td>[[P, P], [H, ], [H, H]]</td>\n",
       "      <td>(3, 2)</td>\n",
       "      <td>[(H, (5, 5)), (H, (5, 4)), (H, (4, 4)), (P, (3...</td>\n",
       "      <td>0</td>\n",
       "      <td>0.000000</td>\n",
       "    </tr>\n",
       "    <tr>\n",
       "      <th>1</th>\n",
       "      <td>5</td>\n",
       "      <td>2</td>\n",
       "      <td>3</td>\n",
       "      <td>[P, H, H, P, P]</td>\n",
       "      <td>[[, , , , , , , , , ], [, , , , , , , , , ], [...</td>\n",
       "      <td>5</td>\n",
       "      <td>[[P, , , ], [P, H, H, P]]</td>\n",
       "      <td>(2, 4)</td>\n",
       "      <td>[(P, (5, 5)), (H, (5, 4)), (H, (5, 3)), (P, (5...</td>\n",
       "      <td>0</td>\n",
       "      <td>0.000000</td>\n",
       "    </tr>\n",
       "    <tr>\n",
       "      <th>2</th>\n",
       "      <td>5</td>\n",
       "      <td>1</td>\n",
       "      <td>4</td>\n",
       "      <td>[P, P, P, P, H]</td>\n",
       "      <td>[[, , , , , , , , , ], [, , , , , , , , , ], [...</td>\n",
       "      <td>5</td>\n",
       "      <td>[[P, P, H], [P, , ], [P, , ]]</td>\n",
       "      <td>(3, 3)</td>\n",
       "      <td>[(P, (5, 5)), (P, (4, 5)), (P, (3, 5)), (P, (3...</td>\n",
       "      <td>0</td>\n",
       "      <td>0.000000</td>\n",
       "    </tr>\n",
       "    <tr>\n",
       "      <th>3</th>\n",
       "      <td>5</td>\n",
       "      <td>2</td>\n",
       "      <td>3</td>\n",
       "      <td>[H, P, P, P, H]</td>\n",
       "      <td>[[, , , , , , , , , ], [, , , , , , , , , ], [...</td>\n",
       "      <td>5</td>\n",
       "      <td>[[H, P, P], [, , P], [, , H]]</td>\n",
       "      <td>(3, 3)</td>\n",
       "      <td>[(H, (5, 5)), (P, (5, 6)), (P, (5, 7)), (P, (6...</td>\n",
       "      <td>0</td>\n",
       "      <td>0.000000</td>\n",
       "    </tr>\n",
       "    <tr>\n",
       "      <th>4</th>\n",
       "      <td>5</td>\n",
       "      <td>1</td>\n",
       "      <td>4</td>\n",
       "      <td>[H, P, P, P, P]</td>\n",
       "      <td>[[, , , , , , , , , ], [, , , , , , , , , ], [...</td>\n",
       "      <td>5</td>\n",
       "      <td>[[P, , ], [P, P, P], [, , H]]</td>\n",
       "      <td>(3, 3)</td>\n",
       "      <td>[(H, (5, 5)), (P, (4, 5)), (P, (4, 4)), (P, (4...</td>\n",
       "      <td>0</td>\n",
       "      <td>0.000000</td>\n",
       "    </tr>\n",
       "    <tr>\n",
       "      <th>...</th>\n",
       "      <td>...</td>\n",
       "      <td>...</td>\n",
       "      <td>...</td>\n",
       "      <td>...</td>\n",
       "      <td>...</td>\n",
       "      <td>...</td>\n",
       "      <td>...</td>\n",
       "      <td>...</td>\n",
       "      <td>...</td>\n",
       "      <td>...</td>\n",
       "      <td>...</td>\n",
       "    </tr>\n",
       "    <tr>\n",
       "      <th>9995</th>\n",
       "      <td>50</td>\n",
       "      <td>20</td>\n",
       "      <td>30</td>\n",
       "      <td>[P, P, H, P, H, H, P, P, H, H, H, H, P, H, H, ...</td>\n",
       "      <td>[[, , , , , , , , , , , , , , , , , , , , , , ...</td>\n",
       "      <td>45</td>\n",
       "      <td>[[, H, H, P, , , , , , ], [H, H, P, P, , , , ,...</td>\n",
       "      <td>(13, 10)</td>\n",
       "      <td>[(P, (50, 50)), (P, (50, 49)), (H, (51, 49)), ...</td>\n",
       "      <td>2</td>\n",
       "      <td>0.044444</td>\n",
       "    </tr>\n",
       "    <tr>\n",
       "      <th>9996</th>\n",
       "      <td>50</td>\n",
       "      <td>25</td>\n",
       "      <td>25</td>\n",
       "      <td>[P, H, H, P, H, P, P, P, P, P, H, H, P, H, H, ...</td>\n",
       "      <td>[[, , , , , , , , , , , , , , , , , , , , , , ...</td>\n",
       "      <td>22</td>\n",
       "      <td>[[P, H, , , , , , ], [, H, P, P, P, , , ], [, ...</td>\n",
       "      <td>(7, 8)</td>\n",
       "      <td>[(P, (50, 50)), (H, (50, 51)), (H, (51, 51)), ...</td>\n",
       "      <td>0</td>\n",
       "      <td>0.000000</td>\n",
       "    </tr>\n",
       "    <tr>\n",
       "      <th>9997</th>\n",
       "      <td>50</td>\n",
       "      <td>35</td>\n",
       "      <td>15</td>\n",
       "      <td>[H, H, H, H, H, H, H, P, H, P, P, H, H, H, H, ...</td>\n",
       "      <td>[[, , , , , , , , , , , , , , , , , , , , , , ...</td>\n",
       "      <td>11</td>\n",
       "      <td>[[H, H, H, H], [H, P, P, H], [, H, P, H]]</td>\n",
       "      <td>(3, 4)</td>\n",
       "      <td>[(H, (50, 50)), (H, (49, 50)), (H, (49, 51)), ...</td>\n",
       "      <td>0</td>\n",
       "      <td>0.000000</td>\n",
       "    </tr>\n",
       "    <tr>\n",
       "      <th>9998</th>\n",
       "      <td>50</td>\n",
       "      <td>46</td>\n",
       "      <td>4</td>\n",
       "      <td>[H, H, H, H, H, H, H, H, H, H, H, H, H, H, H, ...</td>\n",
       "      <td>[[, , , , , , , , , , , , , , , , , , , , , , ...</td>\n",
       "      <td>50</td>\n",
       "      <td>[[H, H, , , , , , , , , , , , ], [H, H, H, , ,...</td>\n",
       "      <td>(10, 14)</td>\n",
       "      <td>[(H, (50, 50)), (H, (50, 51)), (H, (49, 51)), ...</td>\n",
       "      <td>13</td>\n",
       "      <td>0.260000</td>\n",
       "    </tr>\n",
       "    <tr>\n",
       "      <th>9999</th>\n",
       "      <td>50</td>\n",
       "      <td>43</td>\n",
       "      <td>7</td>\n",
       "      <td>[H, H, H, H, H, P, H, H, H, H, H, H, H, H, H, ...</td>\n",
       "      <td>[[, , , , , , , , , , , , , , , , , , , , , , ...</td>\n",
       "      <td>25</td>\n",
       "      <td>[[H, H, P, H, , , , , ], [H, H, H, H, H, H, H,...</td>\n",
       "      <td>(5, 9)</td>\n",
       "      <td>[(H, (50, 50)), (H, (50, 49)), (H, (50, 48)), ...</td>\n",
       "      <td>9</td>\n",
       "      <td>0.360000</td>\n",
       "    </tr>\n",
       "  </tbody>\n",
       "</table>\n",
       "<p>10000 rows × 11 columns</p>\n",
       "</div>"
      ],
      "text/plain": [
       "      Amino Acid Length  Num Hydrophobic  Num Polar  \\\n",
       "0                     5                3          2   \n",
       "1                     5                2          3   \n",
       "2                     5                1          4   \n",
       "3                     5                2          3   \n",
       "4                     5                1          4   \n",
       "...                 ...              ...        ...   \n",
       "9995                 50               20         30   \n",
       "9996                 50               25         25   \n",
       "9997                 50               35         15   \n",
       "9998                 50               46          4   \n",
       "9999                 50               43          7   \n",
       "\n",
       "                                             1D protein  \\\n",
       "0                                       [H, H, H, P, P]   \n",
       "1                                       [P, H, H, P, P]   \n",
       "2                                       [P, P, P, P, H]   \n",
       "3                                       [H, P, P, P, H]   \n",
       "4                                       [H, P, P, P, P]   \n",
       "...                                                 ...   \n",
       "9995  [P, P, H, P, H, H, P, P, H, H, H, H, P, H, H, ...   \n",
       "9996  [P, H, H, P, H, P, P, P, P, P, H, H, P, H, H, ...   \n",
       "9997  [H, H, H, H, H, H, H, P, H, P, P, H, H, H, H, ...   \n",
       "9998  [H, H, H, H, H, H, H, H, H, H, H, H, H, H, H, ...   \n",
       "9999  [H, H, H, H, H, P, H, H, H, H, H, H, H, H, H, ...   \n",
       "\n",
       "                                             2D protein  Amino Acids on Grid  \\\n",
       "0     [[, , , , , , , , , ], [, , , , , , , , , ], [...                    5   \n",
       "1     [[, , , , , , , , , ], [, , , , , , , , , ], [...                    5   \n",
       "2     [[, , , , , , , , , ], [, , , , , , , , , ], [...                    5   \n",
       "3     [[, , , , , , , , , ], [, , , , , , , , , ], [...                    5   \n",
       "4     [[, , , , , , , , , ], [, , , , , , , , , ], [...                    5   \n",
       "...                                                 ...                  ...   \n",
       "9995  [[, , , , , , , , , , , , , , , , , , , , , , ...                   45   \n",
       "9996  [[, , , , , , , , , , , , , , , , , , , , , , ...                   22   \n",
       "9997  [[, , , , , , , , , , , , , , , , , , , , , , ...                   11   \n",
       "9998  [[, , , , , , , , , , , , , , , , , , , , , , ...                   50   \n",
       "9999  [[, , , , , , , , , , , , , , , , , , , , , , ...                   25   \n",
       "\n",
       "                                     Trimmed 2D protein Shape 2D protein  \\\n",
       "0                               [[P, P], [H, ], [H, H]]           (3, 2)   \n",
       "1                             [[P, , , ], [P, H, H, P]]           (2, 4)   \n",
       "2                         [[P, P, H], [P, , ], [P, , ]]           (3, 3)   \n",
       "3                         [[H, P, P], [, , P], [, , H]]           (3, 3)   \n",
       "4                         [[P, , ], [P, P, P], [, , H]]           (3, 3)   \n",
       "...                                                 ...              ...   \n",
       "9995  [[, H, H, P, , , , , , ], [H, H, P, P, , , , ,...         (13, 10)   \n",
       "9996  [[P, H, , , , , , ], [, H, P, P, P, , , ], [, ...           (7, 8)   \n",
       "9997          [[H, H, H, H], [H, P, P, H], [, H, P, H]]           (3, 4)   \n",
       "9998  [[H, H, , , , , , , , , , , , ], [H, H, H, , ,...         (10, 14)   \n",
       "9999  [[H, H, P, H, , , , , ], [H, H, H, H, H, H, H,...           (5, 9)   \n",
       "\n",
       "                                       Amino Acid Order  H-Bonds   H-Ratio  \n",
       "0     [(H, (5, 5)), (H, (5, 4)), (H, (4, 4)), (P, (3...        0  0.000000  \n",
       "1     [(P, (5, 5)), (H, (5, 4)), (H, (5, 3)), (P, (5...        0  0.000000  \n",
       "2     [(P, (5, 5)), (P, (4, 5)), (P, (3, 5)), (P, (3...        0  0.000000  \n",
       "3     [(H, (5, 5)), (P, (5, 6)), (P, (5, 7)), (P, (6...        0  0.000000  \n",
       "4     [(H, (5, 5)), (P, (4, 5)), (P, (4, 4)), (P, (4...        0  0.000000  \n",
       "...                                                 ...      ...       ...  \n",
       "9995  [(P, (50, 50)), (P, (50, 49)), (H, (51, 49)), ...        2  0.044444  \n",
       "9996  [(P, (50, 50)), (H, (50, 51)), (H, (51, 51)), ...        0  0.000000  \n",
       "9997  [(H, (50, 50)), (H, (49, 50)), (H, (49, 51)), ...        0  0.000000  \n",
       "9998  [(H, (50, 50)), (H, (50, 51)), (H, (49, 51)), ...       13  0.260000  \n",
       "9999  [(H, (50, 50)), (H, (50, 49)), (H, (50, 48)), ...        9  0.360000  \n",
       "\n",
       "[10000 rows x 11 columns]"
      ]
     },
     "execution_count": 15,
     "metadata": {},
     "output_type": "execute_result"
    }
   ],
   "source": [
    "HP50"
   ]
  },
  {
   "cell_type": "code",
   "execution_count": 16,
   "metadata": {},
   "outputs": [
    {
     "name": "stdout",
     "output_type": "stream",
     "text": [
      "CPU times: user 43.8 s, sys: 678 ms, total: 44.5 s\n",
      "Wall time: 44.5 s\n"
     ]
    }
   ],
   "source": [
    "%%time\n",
    "# Generate an experiment with 1000 samples for amino length [5, 10, 15 ..., 100]\n",
    "\n",
    "num_samples = 1000\n",
    "amino_acid_lengths = [length for length in range(5, 101, 5)]\n",
    "HP100 = store_samples_in_dataframe(num_samples, amino_acid_lengths)"
   ]
  },
  {
   "cell_type": "code",
   "execution_count": 17,
   "metadata": {},
   "outputs": [],
   "source": [
    "HP25.to_csv('HP25.csv', index=False)"
   ]
  },
  {
   "cell_type": "code",
   "execution_count": 18,
   "metadata": {},
   "outputs": [],
   "source": [
    "HP50.to_csv('HP.csv', index=False)"
   ]
  },
  {
   "cell_type": "code",
   "execution_count": 19,
   "metadata": {},
   "outputs": [],
   "source": [
    "HP100.to_csv('HP25.csv', index=False)"
   ]
  },
  {
   "cell_type": "code",
   "execution_count": null,
   "metadata": {},
   "outputs": [],
   "source": []
  }
 ],
 "metadata": {
  "kernelspec": {
   "display_name": "Python 3",
   "language": "python",
   "name": "python3"
  },
  "language_info": {
   "codemirror_mode": {
    "name": "ipython",
    "version": 3
   },
   "file_extension": ".py",
   "mimetype": "text/x-python",
   "name": "python",
   "nbconvert_exporter": "python",
   "pygments_lexer": "ipython3",
   "version": "3.8.3"
  }
 },
 "nbformat": 4,
 "nbformat_minor": 4
}
