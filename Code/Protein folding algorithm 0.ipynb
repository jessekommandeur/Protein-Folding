{
 "cells": [
  {
   "cell_type": "markdown",
   "metadata": {},
   "source": [
    "# Algorithm for Protein Folding in 2D Lattice"
   ]
  },
  {
   "cell_type": "code",
   "execution_count": 1,
   "metadata": {},
   "outputs": [],
   "source": [
    "import numpy as np "
   ]
  },
  {
   "cell_type": "markdown",
   "metadata": {},
   "source": [
    "### Step 1 - Initialize Grid\n",
    "- Create a 2D grid or lattice to represent the folding environment.\n",
    "- Place the hydrophobic (H) and polar (P) amino acids randomly on the grid."
   ]
  },
  {
   "cell_type": "code",
   "execution_count": 6,
   "metadata": {},
   "outputs": [
    {
     "data": {
      "text/plain": [
       "array([['P', 'P', 'P', 'P', ''],\n",
       "       ['', '', '', 'H', ''],\n",
       "       ['', '', '', '', ''],\n",
       "       ['H', '', '', 'H', ''],\n",
       "       ['', 'H', '', 'H', '']], dtype='<U1')"
      ]
     },
     "execution_count": 6,
     "metadata": {},
     "output_type": "execute_result"
    }
   ],
   "source": [
    "grid_size = 5\n",
    "num_hydrophobic = 5\n",
    "num_polar = 5\n",
    "\n",
    "def initialize_grid(grid_size, num_hydrophobic, num_polar):\n",
    "    grid = np.zeros((grid_size, grid_size), dtype=str)\n",
    "    \n",
    "    # Place hydrophobic amino acids (H) randomly on the grid\n",
    "    hydrophobic_indices = np.random.choice(grid_size ** 2, num_hydrophobic, replace=False)\n",
    "    grid.ravel()[hydrophobic_indices] = 'H'\n",
    "    \n",
    "    # Place polar amino acids (P) randomly on the grid\n",
    "    polar_indices = np.random.choice(np.where(grid == '')[0], num_polar, replace=False)\n",
    "    grid.ravel()[polar_indices] = 'P'\n",
    "    \n",
    "    return grid\n",
    "\n",
    "protein_grid = initialize_grid(grid_size, num_hydrophobic, num_polar)\n",
    "protein_grid"
   ]
  },
  {
   "cell_type": "markdown",
   "metadata": {},
   "source": [
    "### Step 2 - Calculate Initial Energy\n",
    "\n",
    "- Calculate the initial energy of the protein based on the arrangement of H-amino acids (adjacent and non-adjacent) and P-amino acids."
   ]
  },
  {
   "cell_type": "code",
   "execution_count": 7,
   "metadata": {},
   "outputs": [
    {
     "name": "stdout",
     "output_type": "stream",
     "text": [
      "Initial Energy: -2\n"
     ]
    }
   ],
   "source": [
    "def calculate_initial_energy(grid):\n",
    "    energy = 0\n",
    "    \n",
    "    # Define neighboring offsets (up, down, left, right)\n",
    "    offsets = [(0, 1), (0, -1), (1, 0), (-1, 0)]\n",
    "    \n",
    "    # Iterate over each cell in the grid\n",
    "    for row in range(grid.shape[0]):\n",
    "        for col in range(grid.shape[1]):\n",
    "            if grid[row, col] == 'H':\n",
    "                # Calculate interactions with neighboring hydrophobic amino acids\n",
    "                for offset_row, offset_col in offsets:\n",
    "                    new_row, new_col = row + offset_row, col + offset_col\n",
    "                    if 0 <= new_row < grid.shape[0] and 0 <= new_col < grid.shape[1]:\n",
    "                        if grid[new_row, new_col] == 'H':\n",
    "                            energy -= 1  # Adjacent hydrophobic amino acids contribute -1 energy\n",
    "            \n",
    "            elif grid[row, col] == 'P':\n",
    "                # Calculate interactions with neighboring hydrophobic amino acids\n",
    "                for offset_row, offset_col in offsets:\n",
    "                    new_row, new_col = row + offset_row, col + offset_col\n",
    "                    if 0 <= new_row < grid.shape[0] and 0 <= new_col < grid.shape[1]:\n",
    "                        if grid[new_row, new_col] == 'H':\n",
    "                            energy += 0  # No interaction with polar-amino acid neighbors\n",
    "                        \n",
    "    return energy\n",
    "\n",
    "\n",
    "# Calculate initial energy\n",
    "initial_energy = calculate_initial_energy(protein_grid)\n",
    "print(\"Initial Energy:\", initial_energy)"
   ]
  },
  {
   "cell_type": "markdown",
   "metadata": {},
   "source": [
    "### Step 3 - Select Amino Acid to Move\n",
    "- Choose a random amino acid from the grid. Consider both hydrophobic and polar amino acids."
   ]
  },
  {
   "cell_type": "markdown",
   "metadata": {},
   "source": [
    "### Step 4 - Propose Move\n",
    "\n",
    "- Propose moving the selected amino acid to a neighboring position on the grid.\n",
    "- Calculate the change in energy due to this move."
   ]
  },
  {
   "cell_type": "markdown",
   "metadata": {},
   "source": [
    "### Step 5 - Accept or Reject Move\n",
    "- If the proposed move reduces the energy (makes the protein more stable), accept the move with a probability based on the energy change.\n",
    "- If the move increases the energy, accept it with a lower probability. This introduces randomness and helps avoid getting stuck in local energy minima."
   ]
  },
  {
   "cell_type": "markdown",
   "metadata": {},
   "source": [
    "### Step 6 - Update energy\n",
    "- Update the energy of the protein after accepting or rejecting the move."
   ]
  },
  {
   "cell_type": "code",
   "execution_count": 9,
   "metadata": {},
   "outputs": [
    {
     "ename": "NameError",
     "evalue": "name 'energy_change' is not defined",
     "output_type": "error",
     "traceback": [
      "\u001b[0;31m---------------------------------------------------------------------------\u001b[0m",
      "\u001b[0;31mNameError\u001b[0m                                 Traceback (most recent call last)",
      "\u001b[0;32m<ipython-input-9-443d13d09da6>\u001b[0m in \u001b[0;36m<module>\u001b[0;34m\u001b[0m\n\u001b[1;32m     61\u001b[0m \u001b[0;34m\u001b[0m\u001b[0m\n\u001b[1;32m     62\u001b[0m \u001b[0;31m# Accept or reject the proposed move\u001b[0m\u001b[0;34m\u001b[0m\u001b[0;34m\u001b[0m\u001b[0;34m\u001b[0m\u001b[0m\n\u001b[0;32m---> 63\u001b[0;31m \u001b[0mmove_accepted\u001b[0m \u001b[0;34m=\u001b[0m \u001b[0maccept_or_reject_move\u001b[0m\u001b[0;34m(\u001b[0m\u001b[0minitial_energy\u001b[0m\u001b[0;34m,\u001b[0m \u001b[0mproposed_row\u001b[0m\u001b[0;34m,\u001b[0m \u001b[0mproposed_col\u001b[0m\u001b[0;34m,\u001b[0m \u001b[0mprotein_grid\u001b[0m\u001b[0;34m)\u001b[0m\u001b[0;34m\u001b[0m\u001b[0;34m\u001b[0m\u001b[0m\n\u001b[0m\u001b[1;32m     64\u001b[0m \u001b[0;34m\u001b[0m\u001b[0m\n\u001b[1;32m     65\u001b[0m \u001b[0;32mif\u001b[0m \u001b[0mmove_accepted\u001b[0m\u001b[0;34m:\u001b[0m\u001b[0;34m\u001b[0m\u001b[0;34m\u001b[0m\u001b[0m\n",
      "\u001b[0;32m<ipython-input-9-443d13d09da6>\u001b[0m in \u001b[0;36maccept_or_reject_move\u001b[0;34m(initial_energy, proposed_row, proposed_col, grid)\u001b[0m\n\u001b[1;32m     26\u001b[0m \u001b[0;32mdef\u001b[0m \u001b[0maccept_or_reject_move\u001b[0m\u001b[0;34m(\u001b[0m\u001b[0minitial_energy\u001b[0m\u001b[0;34m,\u001b[0m \u001b[0mproposed_row\u001b[0m\u001b[0;34m,\u001b[0m \u001b[0mproposed_col\u001b[0m\u001b[0;34m,\u001b[0m \u001b[0mgrid\u001b[0m\u001b[0;34m)\u001b[0m\u001b[0;34m:\u001b[0m\u001b[0;34m\u001b[0m\u001b[0;34m\u001b[0m\u001b[0m\n\u001b[1;32m     27\u001b[0m     \u001b[0;31m# Calculate the energy change due to the proposed move\u001b[0m\u001b[0;34m\u001b[0m\u001b[0;34m\u001b[0m\u001b[0;34m\u001b[0m\u001b[0m\n\u001b[0;32m---> 28\u001b[0;31m     \u001b[0menergy_change\u001b[0m \u001b[0;34m=\u001b[0m \u001b[0mcalculate_energy_change\u001b[0m\u001b[0;34m(\u001b[0m\u001b[0minitial_energy\u001b[0m\u001b[0;34m,\u001b[0m \u001b[0mproposed_row\u001b[0m\u001b[0;34m,\u001b[0m \u001b[0mproposed_col\u001b[0m\u001b[0;34m,\u001b[0m \u001b[0mgrid\u001b[0m\u001b[0;34m)\u001b[0m\u001b[0;34m\u001b[0m\u001b[0;34m\u001b[0m\u001b[0m\n\u001b[0m\u001b[1;32m     29\u001b[0m \u001b[0;34m\u001b[0m\u001b[0m\n\u001b[1;32m     30\u001b[0m     \u001b[0;31m# Accept the move with a probability based on the energy change\u001b[0m\u001b[0;34m\u001b[0m\u001b[0;34m\u001b[0m\u001b[0;34m\u001b[0m\u001b[0m\n",
      "\u001b[0;32m<ipython-input-9-443d13d09da6>\u001b[0m in \u001b[0;36mcalculate_energy_change\u001b[0;34m(initial_energy, proposed_row, proposed_col, grid)\u001b[0m\n\u001b[1;32m     22\u001b[0m     \u001b[0;31m# Similar to the energy calculation in step 2\u001b[0m\u001b[0;34m\u001b[0m\u001b[0;34m\u001b[0m\u001b[0;34m\u001b[0m\u001b[0m\n\u001b[1;32m     23\u001b[0m \u001b[0;34m\u001b[0m\u001b[0m\n\u001b[0;32m---> 24\u001b[0;31m     \u001b[0;32mreturn\u001b[0m \u001b[0menergy_change\u001b[0m\u001b[0;34m\u001b[0m\u001b[0;34m\u001b[0m\u001b[0m\n\u001b[0m\u001b[1;32m     25\u001b[0m \u001b[0;34m\u001b[0m\u001b[0m\n\u001b[1;32m     26\u001b[0m \u001b[0;32mdef\u001b[0m \u001b[0maccept_or_reject_move\u001b[0m\u001b[0;34m(\u001b[0m\u001b[0minitial_energy\u001b[0m\u001b[0;34m,\u001b[0m \u001b[0mproposed_row\u001b[0m\u001b[0;34m,\u001b[0m \u001b[0mproposed_col\u001b[0m\u001b[0;34m,\u001b[0m \u001b[0mgrid\u001b[0m\u001b[0;34m)\u001b[0m\u001b[0;34m:\u001b[0m\u001b[0;34m\u001b[0m\u001b[0;34m\u001b[0m\u001b[0m\n",
      "\u001b[0;31mNameError\u001b[0m: name 'energy_change' is not defined"
     ]
    }
   ],
   "source": [
    "def select_amino_acid_to_move(grid):\n",
    "    # Get the indices of all amino acids (H and P) on the grid\n",
    "    amino_acid_indices = np.transpose(np.where(grid != ''))\n",
    "    \n",
    "    # Randomly select an index from the amino acid indices\n",
    "    selected_index = np.random.choice(amino_acid_indices.shape[0])\n",
    "    selected_row, selected_col = amino_acid_indices[selected_index]\n",
    "    \n",
    "    return selected_row, selected_col\n",
    "\n",
    "def propose_move(selected_row, selected_col, grid):\n",
    "    # Choose a random neighboring position for the proposed move\n",
    "    offsets = [(0, 1), (0, -1), (1, 0), (-1, 0)]\n",
    "    offset_row, offset_col = offsets[np.random.choice(len(offsets))]\n",
    "    \n",
    "    new_row, new_col = selected_row + offset_row, selected_col + offset_col\n",
    "    \n",
    "    return new_row, new_col\n",
    "\n",
    "def calculate_energy_change(initial_energy, proposed_row, proposed_col, grid):\n",
    "    # Calculate energy change based on interactions with neighbors\n",
    "    # Similar to the energy calculation in step 2\n",
    "    \n",
    "    return energy_change\n",
    "\n",
    "def accept_or_reject_move(initial_energy, proposed_row, proposed_col, grid):\n",
    "    # Calculate the energy change due to the proposed move\n",
    "    energy_change = calculate_energy_change(initial_energy, proposed_row, proposed_col, grid)\n",
    "    \n",
    "    # Accept the move with a probability based on the energy change\n",
    "    if energy_change <= 0:\n",
    "        return True  # Accept the move\n",
    "    else:\n",
    "        probability = np.exp(-energy_change)\n",
    "        return np.random.rand() < probability\n",
    "\n",
    "def update_energy(initial_energy, proposed_row, proposed_col, grid):\n",
    "    # Calculate the energy change due to the proposed move\n",
    "    energy_change = calculate_energy_change(initial_energy, proposed_row, proposed_col, grid)\n",
    "    \n",
    "    # Update the energy by adding the energy change\n",
    "    return initial_energy + energy_change\n",
    "\n",
    "\n",
    "# Set parameters\n",
    "grid_size = 10\n",
    "num_hydrophobic = 5\n",
    "num_polar = 5\n",
    "\n",
    "# Initialize the grid (using the previous example)\n",
    "protein_grid = initialize_grid(grid_size, num_hydrophobic, num_polar)\n",
    "\n",
    "# Select an amino acid to move\n",
    "selected_row, selected_col = select_amino_acid_to_move(protein_grid)\n",
    "\n",
    "# Propose a move for the selected amino acid\n",
    "proposed_row, proposed_col = propose_move(selected_row, selected_col, protein_grid)\n",
    "\n",
    "# Calculate initial energy\n",
    "initial_energy = calculate_initial_energy(protein_grid)\n",
    "\n",
    "# Accept or reject the proposed move\n",
    "move_accepted = accept_or_reject_move(initial_energy, proposed_row, proposed_col, protein_grid)\n",
    "\n",
    "if move_accepted:\n",
    "    # Update the grid and energy after accepting the move\n",
    "    protein_grid[selected_row, selected_col] = ''\n",
    "    protein_grid[proposed_row, proposed_col] = 'H'  # For simplicity, assuming moving to a hydrophobic site\n",
    "    updated_energy = update_energy(initial_energy, proposed_row, proposed_col, protein_grid)\n",
    "    print(\"Move accepted. Updated Energy:\", updated_energy)\n",
    "else:\n",
    "    print(\"Move rejected.\")\n"
   ]
  },
  {
   "cell_type": "markdown",
   "metadata": {},
   "source": [
    "### Step 7 - Perform folding\n",
    "In this code, the perform_folding function uses a while loop to iteratively perform steps 3 to 6 for a maximum number of iterations. It also includes a convergence check that monitors energy changes over iterations. If the energy change becomes very small (close to convergence), the folding process is considered complete, and the loop breaks."
   ]
  },
  {
   "cell_type": "code",
   "execution_count": 45,
   "metadata": {},
   "outputs": [
    {
     "ename": "NameError",
     "evalue": "name 'energy_change' is not defined",
     "output_type": "error",
     "traceback": [
      "\u001b[0;31m---------------------------------------------------------------------------\u001b[0m",
      "\u001b[0;31mNameError\u001b[0m                                 Traceback (most recent call last)",
      "\u001b[0;32m<ipython-input-45-a91fadd3aa4c>\u001b[0m in \u001b[0;36m<module>\u001b[0;34m\u001b[0m\n\u001b[1;32m     46\u001b[0m \u001b[0;34m\u001b[0m\u001b[0m\n\u001b[1;32m     47\u001b[0m \u001b[0;31m# Perform folding\u001b[0m\u001b[0;34m\u001b[0m\u001b[0;34m\u001b[0m\u001b[0;34m\u001b[0m\u001b[0m\n\u001b[0;32m---> 48\u001b[0;31m \u001b[0mfinal_grid\u001b[0m\u001b[0;34m,\u001b[0m \u001b[0mfinal_energy\u001b[0m \u001b[0;34m=\u001b[0m \u001b[0mperform_folding\u001b[0m\u001b[0;34m(\u001b[0m\u001b[0mprotein_grid\u001b[0m\u001b[0;34m,\u001b[0m \u001b[0mmax_iterations\u001b[0m\u001b[0;34m)\u001b[0m\u001b[0;34m\u001b[0m\u001b[0;34m\u001b[0m\u001b[0m\n\u001b[0m",
      "\u001b[0;32m<ipython-input-45-a91fadd3aa4c>\u001b[0m in \u001b[0;36mperform_folding\u001b[0;34m(grid, max_iterations)\u001b[0m\n\u001b[1;32m     15\u001b[0m \u001b[0;34m\u001b[0m\u001b[0m\n\u001b[1;32m     16\u001b[0m         \u001b[0;31m# Accept or reject the proposed move\u001b[0m\u001b[0;34m\u001b[0m\u001b[0;34m\u001b[0m\u001b[0;34m\u001b[0m\u001b[0m\n\u001b[0;32m---> 17\u001b[0;31m         \u001b[0mmove_accepted\u001b[0m \u001b[0;34m=\u001b[0m \u001b[0maccept_or_reject_move\u001b[0m\u001b[0;34m(\u001b[0m\u001b[0minitial_energy\u001b[0m\u001b[0;34m,\u001b[0m \u001b[0mproposed_row\u001b[0m\u001b[0;34m,\u001b[0m \u001b[0mproposed_col\u001b[0m\u001b[0;34m,\u001b[0m \u001b[0mgrid\u001b[0m\u001b[0;34m)\u001b[0m\u001b[0;34m\u001b[0m\u001b[0;34m\u001b[0m\u001b[0m\n\u001b[0m\u001b[1;32m     18\u001b[0m \u001b[0;34m\u001b[0m\u001b[0m\n\u001b[1;32m     19\u001b[0m         \u001b[0;32mif\u001b[0m \u001b[0mmove_accepted\u001b[0m\u001b[0;34m:\u001b[0m\u001b[0;34m\u001b[0m\u001b[0;34m\u001b[0m\u001b[0m\n",
      "\u001b[0;32m<ipython-input-41-b2d96e1e2b91>\u001b[0m in \u001b[0;36maccept_or_reject_move\u001b[0;34m(initial_energy, proposed_row, proposed_col, grid)\u001b[0m\n\u001b[1;32m      1\u001b[0m \u001b[0;32mdef\u001b[0m \u001b[0maccept_or_reject_move\u001b[0m\u001b[0;34m(\u001b[0m\u001b[0minitial_energy\u001b[0m\u001b[0;34m,\u001b[0m \u001b[0mproposed_row\u001b[0m\u001b[0;34m,\u001b[0m \u001b[0mproposed_col\u001b[0m\u001b[0;34m,\u001b[0m \u001b[0mgrid\u001b[0m\u001b[0;34m)\u001b[0m\u001b[0;34m:\u001b[0m\u001b[0;34m\u001b[0m\u001b[0;34m\u001b[0m\u001b[0m\n\u001b[1;32m      2\u001b[0m     \u001b[0;31m# Calculate the energy change due to the proposed move\u001b[0m\u001b[0;34m\u001b[0m\u001b[0;34m\u001b[0m\u001b[0;34m\u001b[0m\u001b[0m\n\u001b[0;32m----> 3\u001b[0;31m     \u001b[0menergy_change\u001b[0m \u001b[0;34m=\u001b[0m \u001b[0mcalculate_energy_change\u001b[0m\u001b[0;34m(\u001b[0m\u001b[0minitial_energy\u001b[0m\u001b[0;34m,\u001b[0m \u001b[0mproposed_row\u001b[0m\u001b[0;34m,\u001b[0m \u001b[0mproposed_col\u001b[0m\u001b[0;34m,\u001b[0m \u001b[0mgrid\u001b[0m\u001b[0;34m)\u001b[0m\u001b[0;34m\u001b[0m\u001b[0;34m\u001b[0m\u001b[0m\n\u001b[0m\u001b[1;32m      4\u001b[0m \u001b[0;34m\u001b[0m\u001b[0m\n\u001b[1;32m      5\u001b[0m     \u001b[0;31m# Accept the move with a probability based on the energy change\u001b[0m\u001b[0;34m\u001b[0m\u001b[0;34m\u001b[0m\u001b[0;34m\u001b[0m\u001b[0m\n",
      "\u001b[0;32m<ipython-input-44-ab44021637ac>\u001b[0m in \u001b[0;36mcalculate_energy_change\u001b[0;34m(initial_energy, proposed_row, proposed_col, grid)\u001b[0m\n\u001b[1;32m     10\u001b[0m     \u001b[0;31m# Similar to the energy calculation in step 2\u001b[0m\u001b[0;34m\u001b[0m\u001b[0;34m\u001b[0m\u001b[0;34m\u001b[0m\u001b[0m\n\u001b[1;32m     11\u001b[0m \u001b[0;34m\u001b[0m\u001b[0m\n\u001b[0;32m---> 12\u001b[0;31m     \u001b[0;32mreturn\u001b[0m \u001b[0menergy_change\u001b[0m\u001b[0;34m\u001b[0m\u001b[0;34m\u001b[0m\u001b[0m\n\u001b[0m",
      "\u001b[0;31mNameError\u001b[0m: name 'energy_change' is not defined"
     ]
    }
   ],
   "source": [
    "def perform_folding(grid, max_iterations):\n",
    "    # Initialize energy and iteration counter\n",
    "    current_energy = calculate_initial_energy(grid)\n",
    "    iteration = 0\n",
    "    \n",
    "    while iteration < max_iterations:\n",
    "        # Select an amino acid to move\n",
    "        selected_row, selected_col = select_amino_acid_to_move(grid)\n",
    "        \n",
    "        # Propose a move for the selected amino acid\n",
    "        proposed_row, proposed_col = propose_move(selected_row, selected_col, grid)\n",
    "        \n",
    "        # Calculate initial energy\n",
    "        initial_energy = current_energy\n",
    "        \n",
    "        # Accept or reject the proposed move\n",
    "        move_accepted = accept_or_reject_move(initial_energy, proposed_row, proposed_col, grid)\n",
    "        \n",
    "        if move_accepted:\n",
    "            # Update the grid and energy after accepting the move\n",
    "            grid[selected_row, selected_col] = ''\n",
    "            grid[proposed_row, proposed_col] = 'H'  # For simplicity, assuming moving to a hydrophobic site\n",
    "            current_energy = update_energy(initial_energy, proposed_row, proposed_col, grid)\n",
    "        \n",
    "        # Check for energy convergence\n",
    "        if iteration > 0 and np.isclose(current_energy, previous_energy, atol=1e-6):\n",
    "            print(f\"Energy converged at iteration {iteration}. Energy: {current_energy}\")\n",
    "            break\n",
    "        \n",
    "        # Update previous energy for convergence check\n",
    "        previous_energy = current_energy\n",
    "        \n",
    "        iteration += 1\n",
    "    \n",
    "    print(\"Folding process complete.\")\n",
    "    return grid, current_energy\n",
    "\n",
    "# Set parameters\n",
    "grid_size = 10\n",
    "num_hydrophobic = 5\n",
    "num_polar = 5\n",
    "max_iterations = 10 # Maximum number of iterations\n",
    "\n",
    "# Initialize the grid (using the previous example)\n",
    "protein_grid = initialize_grid(grid_size, num_hydrophobic, num_polar)\n",
    "\n",
    "# Perform folding\n",
    "final_grid, final_energy = perform_folding(protein_grid, max_iterations)"
   ]
  },
  {
   "cell_type": "code",
   "execution_count": null,
   "metadata": {},
   "outputs": [],
   "source": [
    "if move_accepted:\n",
    "    # Update the grid and energy after accepting the move\n",
    "    protein_grid[selected_row, selected_col] = ''\n",
    "    protein_grid[proposed_row, proposed_col] = 'H'  # For simplicity, assuming moving to a hydrophobic site\n",
    "    updated_energy = update_energy(initial_energy, proposed_row, proposed_col, protein_grid)\n",
    "    print(\"Move accepted. Updated Energy:\", updated_energy)\n",
    "else:\n",
    "    print(\"Move rejected.\")"
   ]
  }
 ],
 "metadata": {
  "kernelspec": {
   "display_name": "Python 3",
   "language": "python",
   "name": "python3"
  },
  "language_info": {
   "codemirror_mode": {
    "name": "ipython",
    "version": 3
   },
   "file_extension": ".py",
   "mimetype": "text/x-python",
   "name": "python",
   "nbconvert_exporter": "python",
   "pygments_lexer": "ipython3",
   "version": "3.8.3"
  }
 },
 "nbformat": 4,
 "nbformat_minor": 4
}
