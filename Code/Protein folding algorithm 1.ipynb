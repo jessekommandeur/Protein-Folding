{
 "cells": [
  {
   "cell_type": "markdown",
   "metadata": {},
   "source": [
    "# Protein Folding in 2D \n",
    "Proteins are long strands of amino acids that control many important processes in the human body. It is known that proteins are stored 'folded' inside the cells of the body, and that the specific folding significantly influences their functioning. ‘Misfolded’ proteins can play a role in cancer, Alzheimer's disease and cystic fibrosis.\n",
    "\n",
    "Due to the complexity of the protein folding problem, simplified models such as Dill's hydrophobic-polar (HP) model have become one of the major tools for studying protein structure. The HP model is based on the observation that the hydrophobic force is the main force deter- mining the unique native conformation (and hence the functional state) of small globular proteins.\n",
    "\n",
    "In a protein, hydrophobic amino acids (H) like to lie 'adjecntly', polar amino acids (P) do not have that preference. When two hydrophobic amino acids lie next to each other, an 'H- bond' is formed due to the attractive forces between the two. And the more bonds, the more stable the protein. The HP-model, containing of just two types of amino acids, arranges these in a grid or a lattice.\n",
    "\n",
    "![Example Screenshot](8_piece_protein.png)\n"
   ]
  },
  {
   "cell_type": "code",
   "execution_count": 1,
   "metadata": {},
   "outputs": [],
   "source": [
    "import numpy as np \n",
    "import pandas as pd"
   ]
  },
  {
   "cell_type": "markdown",
   "metadata": {},
   "source": [
    "## Basic Algorithm for Protein Folding\n",
    "This thread covers the development of an algorithm to simulate and analyze protein folding using a simplified model known as the HP model. The HP model involves two types of amino acids: hydrophobic (H) and polar (P). The goal is to arrange these amino acids on a 2D grid or lattice to create stable protein configurations.\n",
    "\n",
    "The key steps of the algorithm include:\n",
    "\n",
    "1. **Initializing Acids**: A function called `random_division` is used to divide a specified number of amino acids into hydrophobic and polar types while ensuring at least one of each type. \n",
    "- **Initializing Grid**: The `initialize grid` function begins by initializing a 2D grid or lattice with a specified size. Hydrophobic and polar amino acids are randomly placed on the grid.\n",
    "- **Calculate Energy**: The function `calculate_hbonds` calculates the initial energy of a given grid by counting the number of adjacent hydrophobic amino acids (H-bonds).\n",
    "\n",
    "- **Fold Proteins**: The function `reshape_grid` attempts to reshape a given grid to improve stability. It iterates through various configurations to optimize the placement of amino acids and maximizes the energy function.\n",
    "\n",
    "- **Creating Samples**: The `generate_random_samples` function generates a given number of random samples for various amino acid lengths. It uses the random division to determine the amino acid types and grid size and then initializes grids accordingly.\n",
    "\n",
    "- **Generating and storing Results**: The code generates random samples for different amino acid lengths (5, 10, 15, 20, 25, 30, 35, and 40) and calculates various metrics for each sample. It then prints the sample information, grid configuration, and metrics.\n"
   ]
  },
  {
   "cell_type": "markdown",
   "metadata": {},
   "source": [
    "### Step 1 - Initializing Acids"
   ]
  },
  {
   "cell_type": "markdown",
   "metadata": {},
   "source": [
    "This function `random_division` takes the total number of amino acids as input and randomly divides them into hydrophobic and polar amino acids, before creating a random 1D amino acid string. It ensures that there's at least one hydrophobic and one polar amino acid. You can adjust the total_amino_acids variable to the desired number of amino acids you want to divide."
   ]
  },
  {
   "cell_type": "code",
   "execution_count": 74,
   "metadata": {},
   "outputs": [
    {
     "name": "stdout",
     "output_type": "stream",
     "text": [
      "Number of Hydro acids: 9\n",
      "Number of Polar acids: 1\n",
      "Random Amino Acid String: HHHHPHHHHH\n"
     ]
    }
   ],
   "source": [
    "total_amino_acids = 10  # Change this to a desired number, 10 is used for illustration purposes\n",
    "\n",
    "def random_division(total_amino_acids):\n",
    "    num_hydrophobic = np.random.randint(1, total_amino_acids)  # Ensure at least one H and P\n",
    "    num_polar = total_amino_acids - num_hydrophobic\n",
    "    return num_hydrophobic, num_polar\n",
    "\n",
    "num_hydrophobic, num_polar = random_division(total_amino_acids)\n",
    "print(\"Number of Hydro acids:\", num_hydrophobic)\n",
    "print(\"Number of Polar acids:\", num_polar)\n",
    "\n",
    "# randomly shuffle the amino acids\n",
    "amino_acids = ['H'] * num_hydrophobic + ['P'] * num_polar\n",
    "np.random.shuffle(amino_acids)\n",
    "\n",
    "print(\"Random Amino Acid String:\", \"\".join(amino_acids))"
   ]
  },
  {
   "cell_type": "markdown",
   "metadata": {},
   "source": [
    "### Step 2 - Initializing Grid\n",
    "The `initialize_grid` function generates a grid to place amino acids, with specified dimensions, and populates it with H and P amino acids, while ensuring they do not overlap and tracks their placement order. This allows for simulating the random arrangement of amino acids on a grid for various applications."
   ]
  },
  {
   "cell_type": "code",
   "execution_count": 71,
   "metadata": {},
   "outputs": [],
   "source": [
    "amino_acids_copy = amino_acids.copy()\n",
    "\n",
    "def initialize_grid(amino_acids, num_hydrophobic, num_polar):\n",
    "    grid_size = num_hydrophobic + num_polar\n",
    "    total_amino_acids = len(amino_acids)\n",
    "    grid = np.full((grid_size, grid_size), fill_value='', dtype=object)  \n",
    "    amino_acid_order = []  # List to track the order of amino acids placed\n",
    "    \n",
    "    # Place the first amino acid randomly on the grid\n",
    "    first_amino_row = np.random.randint(grid_size)\n",
    "    first_amino_col = np.random.randint(grid_size)\n",
    "    amino_acid_type = amino_acids_copy.pop(0)\n",
    "    grid[first_amino_row, first_amino_col] = amino_acid_type\n",
    "    \n",
    "    # Keep track of order\n",
    "    amino_acid_order.append((amino_acid_type, (first_amino_row, first_amino_col)))\n",
    "    total_amino_acids -= 1\n",
    "    \n",
    "    # Place the remaining amino acids next to the last placed amino acid\n",
    "    while total_amino_acids > 0:\n",
    "        last_amino_row, last_amino_col = amino_acid_order[-1][1]\n",
    "        neighbors = [\n",
    "            (last_amino_row - 1, last_amino_col),\n",
    "            (last_amino_row + 1, last_amino_col),\n",
    "            (last_amino_row, last_amino_col - 1),\n",
    "            (last_amino_row, last_amino_col + 1)\n",
    "        ]\n",
    "        \n",
    "        valid_neighbors = [(row, col) for row, col in neighbors if 0 <= row < grid_size and 0 <= col < grid_size and grid[row, col] == '']\n",
    "        \n",
    "        if valid_neighbors and amino_acids_copy:  # Check if there are valid neighbors and remaining amino acids\n",
    "            # Shuffle the list of valid neighbors and choose one randomly\n",
    "            np.random.shuffle(valid_neighbors)\n",
    "            chosen_row, chosen_col = valid_neighbors[0]\n",
    "            amino_acid_type = amino_acids_copy.pop(0)\n",
    "            grid[chosen_row, chosen_col] = amino_acid_type\n",
    "            amino_acid_order.append((amino_acid_type, (chosen_row, chosen_col)))\n",
    "            total_amino_acids -= 1\n",
    "        else:\n",
    "            break  # No valid neighbors or no remaining amino acids, exit the loop\n",
    "    \n",
    "    return grid, amino_acid_order\n",
    "\n",
    "# Example usage\n",
    "initial_grid, amino_acid_order = initialize_grid( amino_acids_copy, num_hydrophobic, num_polar)\n"
   ]
  },
  {
   "cell_type": "code",
   "execution_count": 72,
   "metadata": {},
   "outputs": [
    {
     "name": "stdout",
     "output_type": "stream",
     "text": [
      "Grid size: 10 x 10\n",
      "[['' '' '' '' '' '' '' '' '' '']\n",
      " ['' '' '' '' '' '' '' '' '' '']\n",
      " ['' '' '' '' '' '' '' '' '' '']\n",
      " ['' '' '' '' '' '' '' '' '' '']\n",
      " ['' '' '' '' '' 'H' '' '' '' '']\n",
      " ['' '' '' '' '' 'P' 'H' 'P' '' '']\n",
      " ['' '' '' '' '' '' 'H' 'P' 'P' '']\n",
      " ['' '' '' '' '' '' 'P' 'H' 'H' '']\n",
      " ['' '' '' '' '' '' '' '' '' '']\n",
      " ['' '' '' '' '' '' '' '' '' '']]\n"
     ]
    }
   ],
   "source": [
    "print(\"Grid size:\", grid_size, 'x', grid_size)\n",
    "print(initial_grid)\n"
   ]
  },
  {
   "cell_type": "code",
   "execution_count": 66,
   "metadata": {},
   "outputs": [
    {
     "name": "stdout",
     "output_type": "stream",
     "text": [
      "Amino Acid Order: [('P', (9, 3)), ('P', (9, 2)), ('P', (9, 1)), ('H', (8, 1)), ('H', (8, 2)), ('P', (8, 3)), ('H', (7, 3)), ('H', (7, 2)), ('P', (7, 1)), ('H', (6, 1))]\n"
     ]
    }
   ],
   "source": [
    "print(\"Amino Acid Order:\", amino_acid_order)"
   ]
  },
  {
   "cell_type": "markdown",
   "metadata": {},
   "source": [
    "### Step 3a - Calculate H-bonds\n",
    "The `find_H_combinations_grid` function is used to~ identify and collect sets of coordinates representing adjacent 'H' amino acids in a grid. It iterates through the entire grid, checking each position for the presence of 'H' amino acids. If an 'H' amino acid is found, it examines neighboring positions (up, down, left, right) to identify adjacent 'H' amino acids. For each pair of adjacent 'H' amino acids, it creates a frozenset containing their coordinates (ensuring that the order of coordinates doesn't matter) and adds this frozenset to a set. This set stores all unique pairs of adjacent 'H' amino acids found in the grid. The function returns this set of adjacent 'H' amino acid pairs."
   ]
  },
  {
   "cell_type": "code",
   "execution_count": 67,
   "metadata": {},
   "outputs": [
    {
     "data": {
      "text/plain": [
       "{frozenset({(7, 2), (7, 3)}),\n",
       " frozenset({(7, 2), (8, 2)}),\n",
       " frozenset({(8, 1), (8, 2)})}"
      ]
     },
     "execution_count": 67,
     "metadata": {},
     "output_type": "execute_result"
    }
   ],
   "source": [
    "def find_H_pairs_grid(grid):\n",
    "    adjacent_hydrophobic_amino_acids = set()  # Use a set to automatically remove duplicates\n",
    "\n",
    "    # Iterate through the grid to find adjacent 'H' amino acids\n",
    "    for row in range(grid.shape[0]):\n",
    "        for col in range(grid.shape[1]):\n",
    "            current_acid = grid[row, col]\n",
    "\n",
    "            # Check if the current amino acid is 'H'\n",
    "            if current_acid == 'H':\n",
    "                # Check the neighboring positions (up, down, left, right) relative to the current position\n",
    "                neighbors = [\n",
    "                    (row - 1, col),\n",
    "                    (row + 1, col),\n",
    "                    (row, col - 1),\n",
    "                    (row, col + 1)\n",
    "                ]\n",
    "\n",
    "                for neighbor_row, neighbor_col in neighbors:\n",
    "                    # Check if the neighbor is within the grid bounds\n",
    "                    if 0 <= neighbor_row < grid.shape[0] and 0 <= neighbor_col < grid.shape[1]:\n",
    "                        neighbor_acid = grid[neighbor_row, neighbor_col]\n",
    "\n",
    "                        # Check if the neighbor is also 'H'\n",
    "                        if neighbor_acid == 'H':\n",
    "                            # Use frozenset to ensure that the order of coordinates doesn't matter\n",
    "                            amino_acid_pair = frozenset({(row, col), (neighbor_row, neighbor_col)})\n",
    "                            adjacent_hydrophobic_amino_acids.add(amino_acid_pair)\n",
    "                            \n",
    "    return adjacent_hydrophobic_amino_acids\n",
    "\n",
    "find_H_pairs_grid(initial_grid)"
   ]
  },
  {
   "cell_type": "markdown",
   "metadata": {},
   "source": [
    "### Step 3b - Calculate H-bonds\n",
    "The `find_H_combinations_order` function examines the order of amino acids and identifies adjacent 'H' amino acids. It does this by iterating through the amino acid order, checking pairs of consecutive amino acids for 'H' type, and recording these pairs as frozensets in a set to remove duplicates. This function helps identify adjacent 'H' amino acids in the sequence order, which is useful for analyzing the arrangement of amino acids."
   ]
  },
  {
   "cell_type": "code",
   "execution_count": 68,
   "metadata": {},
   "outputs": [
    {
     "data": {
      "text/plain": [
       "{frozenset({(8, 1), (8, 2)}), frozenset({(7, 2), (7, 3)})}"
      ]
     },
     "execution_count": 68,
     "metadata": {},
     "output_type": "execute_result"
    }
   ],
   "source": [
    "def find_H_pairs_order(amino_acid_order):\n",
    "    adjacent_hydrophobic_amino_acids = set()  # Use a set to automatically remove duplicates\n",
    "\n",
    "    # Iterate through the amino acid order to find adjacent 'H' amino acids\n",
    "    for i in range(len(amino_acid_order) - 1):\n",
    "        current_acid, current_position = amino_acid_order[i]\n",
    "        next_acid, next_position = amino_acid_order[i + 1]\n",
    "\n",
    "        # Check if both current and next amino acids are 'H'\n",
    "        if current_acid == 'H' and next_acid == 'H':\n",
    "            # Use frozenset to ensure that the order of positions doesn't matter\n",
    "            amino_acid_pair = frozenset({current_position, next_position})\n",
    "            adjacent_hydrophobic_amino_acids.add(amino_acid_pair)\n",
    "\n",
    "    return adjacent_hydrophobic_amino_acids\n",
    "\n",
    "find_H_pairs_order(amino_acid_order)"
   ]
  },
  {
   "cell_type": "markdown",
   "metadata": {},
   "source": [
    "### Step 3c - Calculate H-bonds\n",
    "The provided code calculates the H-combinations in two different ways and then compares them. It calculates the H-pairs in the grid using the `find_H_combinations_grid` function and the H-pairs in the amino acid order using the `find_H_combination_order` function. Then, it subtracts the H-combinations found in the amino acid order from those found in the grid. This comparison helps identify the **H-bonds** that are formed between adjacent 'H' amino acids in the grid but not in the given amino acid sequence order."
   ]
  },
  {
   "cell_type": "code",
   "execution_count": 69,
   "metadata": {},
   "outputs": [],
   "source": [
    "def find_H_bonds(grid, amino_acid_order):\n",
    "    grid_h_pairs = find_H_pairs_grid(grid)\n",
    "    order_h_pairs = find_H_pairs_order(amino_acid_order)\n",
    "    return grid_h_pairs - order_h_pairs\n",
    "\n",
    "H_bonds = find_H_bonds(initial_grid, amino_acid_order)"
   ]
  },
  {
   "cell_type": "code",
   "execution_count": 70,
   "metadata": {},
   "outputs": [
    {
     "name": "stdout",
     "output_type": "stream",
     "text": [
      "Number of H-bonds: 1\n",
      "[(8, 2), (7, 2)]\n"
     ]
    }
   ],
   "source": [
    "print('Number of H-bonds:', len(H_bonds))\n",
    "\n",
    "for bond in H_bonds:\n",
    "    coordinates = [coord for coord in bond]\n",
    "    print(coordinates)"
   ]
  },
  {
   "cell_type": "markdown",
   "metadata": {},
   "source": [
    "### Step 3 - Fold Proteins\n",
    "Now we implement an Ant Colony Optimization (ACO) algorithm to optimize the folding of amino acids on a grid to maximize H-bonds. It initializes the grid with random amino acid placements, and ants iteratively move amino acids on the grid while considering pheromone levels and a heuristic function based on the H-bond score. The pheromone levels are updated based on the best placement found by ants. Finally, the best placement and H-bonds score are printed."
   ]
  },
  {
   "cell_type": "code",
   "execution_count": 33,
   "metadata": {},
   "outputs": [
    {
     "data": {
      "text/plain": [
       "array([['', '', '', '', '', '', '', '', '', ''],\n",
       "       ['', '', '', '', '', '', '', '', '', ''],\n",
       "       ['', '', '', '', '', '', '', '', '', ''],\n",
       "       ['', '', '', '', '', '', '', '', '', ''],\n",
       "       ['', '', '', '', '', '', '', '', '', ''],\n",
       "       ['', '', '', '', '', '', '', '', '', ''],\n",
       "       ['', '', '', 'P', 'H', '', '', '', '', ''],\n",
       "       ['', '', '', '', 'P', 'H', '', 'P', 'P', ''],\n",
       "       ['', '', '', '', '', 'P', 'P', 'P', 'P', ''],\n",
       "       ['', '', '', '', '', '', '', '', '', '']], dtype=object)"
      ]
     },
     "execution_count": 33,
     "metadata": {},
     "output_type": "execute_result"
    }
   ],
   "source": [
    "initial_grid"
   ]
  },
  {
   "cell_type": "code",
   "execution_count": 34,
   "metadata": {},
   "outputs": [
    {
     "name": "stdout",
     "output_type": "stream",
     "text": [
      "10\n"
     ]
    },
    {
     "ename": "NameError",
     "evalue": "name 'calculate_hbonds' is not defined",
     "output_type": "error",
     "traceback": [
      "\u001b[0;31m---------------------------------------------------------------------------\u001b[0m",
      "\u001b[0;31mNameError\u001b[0m                                 Traceback (most recent call last)",
      "\u001b[0;32m<ipython-input-34-14bb0ac2d06b>\u001b[0m in \u001b[0;36m<module>\u001b[0;34m\u001b[0m\n\u001b[1;32m     30\u001b[0m \u001b[0;34m\u001b[0m\u001b[0m\n\u001b[1;32m     31\u001b[0m \u001b[0;31m# Example usage\u001b[0m\u001b[0;34m\u001b[0m\u001b[0;34m\u001b[0m\u001b[0;34m\u001b[0m\u001b[0m\n\u001b[0;32m---> 32\u001b[0;31m \u001b[0mrandom_search\u001b[0m\u001b[0;34m(\u001b[0m\u001b[0minitial_grid\u001b[0m\u001b[0;34m,\u001b[0m \u001b[0mamino_acids\u001b[0m\u001b[0;34m,\u001b[0m \u001b[0;36m100\u001b[0m\u001b[0;34m)\u001b[0m\u001b[0;34m\u001b[0m\u001b[0;34m\u001b[0m\u001b[0m\n\u001b[0m\u001b[1;32m     33\u001b[0m \u001b[0;34m\u001b[0m\u001b[0m\n\u001b[1;32m     34\u001b[0m \u001b[0;31m# print(\"Initial Grid:\")\u001b[0m\u001b[0;34m\u001b[0m\u001b[0;34m\u001b[0m\u001b[0;34m\u001b[0m\u001b[0m\n",
      "\u001b[0;32m<ipython-input-34-14bb0ac2d06b>\u001b[0m in \u001b[0;36mrandom_search\u001b[0;34m(grid, amino_acids, num_iterations)\u001b[0m\n\u001b[1;32m     17\u001b[0m \u001b[0;34m\u001b[0m\u001b[0m\n\u001b[1;32m     18\u001b[0m         \u001b[0;31m# Calculate H-bonds for the new configuration\u001b[0m\u001b[0;34m\u001b[0m\u001b[0;34m\u001b[0m\u001b[0;34m\u001b[0m\u001b[0m\n\u001b[0;32m---> 19\u001b[0;31m         \u001b[0mnew_hbonds\u001b[0m \u001b[0;34m=\u001b[0m \u001b[0mcalculate_hbonds\u001b[0m\u001b[0;34m(\u001b[0m\u001b[0mnew_grid\u001b[0m\u001b[0;34m)\u001b[0m\u001b[0;34m\u001b[0m\u001b[0;34m\u001b[0m\u001b[0m\n\u001b[0m\u001b[1;32m     20\u001b[0m \u001b[0;34m\u001b[0m\u001b[0m\n\u001b[1;32m     21\u001b[0m         \u001b[0;31m# Accept the new configuration if it's better\u001b[0m\u001b[0;34m\u001b[0m\u001b[0;34m\u001b[0m\u001b[0;34m\u001b[0m\u001b[0m\n",
      "\u001b[0;31mNameError\u001b[0m: name 'calculate_hbonds' is not defined"
     ]
    }
   ],
   "source": [
    "print(len(amino_acids))\n",
    "def random_search(grid, amino_acids, num_iterations):\n",
    "    best_grid = np.copy(grid)\n",
    "    best_hbonds = len(find_H_bonds(initial_grid, amino_acid_order))\n",
    "\n",
    "    for _ in range(num_iterations):\n",
    "        # Randomly select two positions\n",
    "        pos1 = np.random.randint(0, len(amino_acids))\n",
    "        pos2 = np.random.randint(0, len(amino_acids))\n",
    "\n",
    "        # Swap the amino acids at those positions\n",
    "        amino_acids[pos1], amino_acids[pos2] = amino_acids[pos2], amino_acids[pos1]\n",
    "\n",
    "        # Update the grid\n",
    "        np.random.shuffle(amino_acids)\n",
    "        new_grid, _ = initialize_grid(grid.shape[0], amino_acids)\n",
    "\n",
    "        # Calculate H-bonds for the new configuration\n",
    "        new_hbonds = calculate_hbonds(new_grid)\n",
    "\n",
    "        # Accept the new configuration if it's better\n",
    "        if new_hbonds > best_hbonds:\n",
    "            best_hbonds = new_hbonds\n",
    "            best_grid = new_grid\n",
    "        else:\n",
    "            # Revert the swap\n",
    "            amino_acids[pos1], amino_acids[pos2] = amino_acids[pos2], amino_acids[pos1]\n",
    "\n",
    "    return best_grid, best_hbonds\n",
    "\n",
    "# Example usage\n",
    "random_search(initial_grid, amino_acids, 100)\n",
    "\n",
    "# print(\"Initial Grid:\")\n",
    "# print(initial_grid)\n",
    "# print(\"Initial H-bonds:\", calculate_hbonds(initial_grid))\n",
    "# print(\"\\nOptimized Grid:\")\n",
    "# print(optimized_grid)\n",
    "# print(\"Optimized H-bonds:\", optimized_hbonds)\n",
    "\n",
    "print(len(amino_acids))"
   ]
  },
  {
   "cell_type": "code",
   "execution_count": 35,
   "metadata": {},
   "outputs": [
    {
     "data": {
      "text/plain": [
       "10"
      ]
     },
     "execution_count": 35,
     "metadata": {},
     "output_type": "execute_result"
    }
   ],
   "source": [
    "len(amino_acids)"
   ]
  },
  {
   "cell_type": "markdown",
   "metadata": {},
   "source": [
    "### Step 4 - Creating Samples\n",
    "The code generates N random protein grid configurations with a specified number of hydrophobic and polar amino acids using the `generate_random_samples` function. "
   ]
  },
  {
   "cell_type": "code",
   "execution_count": 73,
   "metadata": {},
   "outputs": [
    {
     "ename": "ValueError",
     "evalue": "not enough values to unpack (expected 3, got 2)",
     "output_type": "error",
     "traceback": [
      "\u001b[0;31m---------------------------------------------------------------------------\u001b[0m",
      "\u001b[0;31mValueError\u001b[0m                                Traceback (most recent call last)",
      "\u001b[0;32m<ipython-input-73-812850108a37>\u001b[0m in \u001b[0;36m<module>\u001b[0;34m\u001b[0m\n\u001b[1;32m     16\u001b[0m \u001b[0mgrid_size\u001b[0m \u001b[0;34m=\u001b[0m \u001b[0mint\u001b[0m\u001b[0;34m(\u001b[0m\u001b[0mnp\u001b[0m\u001b[0;34m.\u001b[0m\u001b[0msqrt\u001b[0m\u001b[0;34m(\u001b[0m\u001b[0mtotal_amino_acids\u001b[0m\u001b[0;34m)\u001b[0m\u001b[0;34m)\u001b[0m  \u001b[0;31m# Size of the grid\u001b[0m\u001b[0;34m\u001b[0m\u001b[0;34m\u001b[0m\u001b[0m\n\u001b[1;32m     17\u001b[0m \u001b[0;34m\u001b[0m\u001b[0m\n\u001b[0;32m---> 18\u001b[0;31m \u001b[0mrandom_samples\u001b[0m \u001b[0;34m=\u001b[0m \u001b[0mgenerate_random_samples\u001b[0m\u001b[0;34m(\u001b[0m\u001b[0mN\u001b[0m\u001b[0;34m,\u001b[0m \u001b[0mtotal_amino_acids\u001b[0m\u001b[0;34m,\u001b[0m \u001b[0mgrid_size\u001b[0m\u001b[0;34m)\u001b[0m\u001b[0;34m\u001b[0m\u001b[0;34m\u001b[0m\u001b[0m\n\u001b[0m\u001b[1;32m     19\u001b[0m \u001b[0;34m\u001b[0m\u001b[0m\n\u001b[1;32m     20\u001b[0m \u001b[0;32mfor\u001b[0m \u001b[0mi\u001b[0m\u001b[0;34m,\u001b[0m \u001b[0;34m(\u001b[0m\u001b[0minitial_grid\u001b[0m\u001b[0;34m,\u001b[0m \u001b[0mamino_acid_order\u001b[0m\u001b[0;34m,\u001b[0m \u001b[0mhbonds\u001b[0m\u001b[0;34m)\u001b[0m \u001b[0;32min\u001b[0m \u001b[0menumerate\u001b[0m\u001b[0;34m(\u001b[0m\u001b[0mrandom_samples\u001b[0m\u001b[0;34m)\u001b[0m\u001b[0;34m:\u001b[0m\u001b[0;34m\u001b[0m\u001b[0;34m\u001b[0m\u001b[0m\n",
      "\u001b[0;32m<ipython-input-73-812850108a37>\u001b[0m in \u001b[0;36mgenerate_random_samples\u001b[0;34m(N, total_amino_acids, grid_size)\u001b[0m\n\u001b[1;32m      3\u001b[0m \u001b[0;34m\u001b[0m\u001b[0m\n\u001b[1;32m      4\u001b[0m     \u001b[0;32mfor\u001b[0m \u001b[0m_\u001b[0m \u001b[0;32min\u001b[0m \u001b[0mrange\u001b[0m\u001b[0;34m(\u001b[0m\u001b[0mN\u001b[0m\u001b[0;34m)\u001b[0m\u001b[0;34m:\u001b[0m\u001b[0;34m\u001b[0m\u001b[0;34m\u001b[0m\u001b[0m\n\u001b[0;32m----> 5\u001b[0;31m         \u001b[0mnum_hydrophobic\u001b[0m\u001b[0;34m,\u001b[0m \u001b[0mnum_polar\u001b[0m\u001b[0;34m,\u001b[0m \u001b[0mamino_acids\u001b[0m \u001b[0;34m=\u001b[0m \u001b[0mrandom_division\u001b[0m\u001b[0;34m(\u001b[0m\u001b[0mtotal_amino_acids\u001b[0m\u001b[0;34m)\u001b[0m\u001b[0;34m\u001b[0m\u001b[0;34m\u001b[0m\u001b[0m\n\u001b[0m\u001b[1;32m      6\u001b[0m         \u001b[0minitial_grid\u001b[0m\u001b[0;34m,\u001b[0m \u001b[0mamino_acid_order\u001b[0m \u001b[0;34m=\u001b[0m \u001b[0minitialize_grid\u001b[0m\u001b[0;34m(\u001b[0m\u001b[0mamino_acids\u001b[0m\u001b[0;34m,\u001b[0m \u001b[0mnum_hydrophobic\u001b[0m\u001b[0;34m,\u001b[0m \u001b[0mnum_polar\u001b[0m\u001b[0;34m)\u001b[0m\u001b[0;34m\u001b[0m\u001b[0;34m\u001b[0m\u001b[0m\n\u001b[1;32m      7\u001b[0m         \u001b[0mhbonds\u001b[0m \u001b[0;34m=\u001b[0m \u001b[0mfind_H_bonds\u001b[0m\u001b[0;34m(\u001b[0m\u001b[0minitial_grid\u001b[0m\u001b[0;34m,\u001b[0m \u001b[0mamino_acid_order\u001b[0m\u001b[0;34m)\u001b[0m\u001b[0;34m\u001b[0m\u001b[0;34m\u001b[0m\u001b[0m\n",
      "\u001b[0;31mValueError\u001b[0m: not enough values to unpack (expected 3, got 2)"
     ]
    }
   ],
   "source": [
    "def generate_random_samples(N, total_amino_acids, grid_size):\n",
    "    random_samples = []\n",
    "\n",
    "    for _ in range(N):\n",
    "        num_hydrophobic, num_polar, amino_acids = random_division(total_amino_acids)\n",
    "        initial_grid, amino_acid_order = initialize_grid(amino_acids, num_hydrophobic, num_polar)\n",
    "        hbonds = find_H_bonds(initial_grid, amino_acid_order)\n",
    "        \n",
    "        random_samples.append((initial_grid, amino_acid_order, hbonds))\n",
    "\n",
    "    return random_samples\n",
    "\n",
    "# Example usage\n",
    "N = 5  # Number of random samples\n",
    "total_amino_acids = 10  # Total number of amino acids\n",
    "grid_size = int(np.sqrt(total_amino_acids))  # Size of the grid\n",
    "\n",
    "random_samples = generate_random_samples(N, total_amino_acids, grid_size)\n",
    "\n",
    "for i, (initial_grid, amino_acid_order, hbonds) in enumerate(random_samples):\n",
    "    print(f\"Sample {i + 1}:\")\n",
    "    print(\"Grid:\")\n",
    "    print(initial_grid)\n",
    "    print(\"Amino Acid Order:\")\n",
    "    print(amino_acid_order)\n",
    "    print(\"H-bonds:\", len(hbonds))\n",
    "    print()"
   ]
  },
  {
   "cell_type": "code",
   "execution_count": 40,
   "metadata": {},
   "outputs": [
    {
     "name": "stdout",
     "output_type": "stream",
     "text": [
      "Sample 1:\n",
      "Grid:\n",
      "[['' '' '' '' '' '' '' '' '' '']\n",
      " ['' '' '' '' '' '' '' '' '' '']\n",
      " ['' '' '' '' '' '' '' '' 'P' 'P']\n",
      " ['' '' '' '' '' '' '' '' 'P' '']\n",
      " ['' '' '' '' '' '' '' 'P' 'P' '']\n",
      " ['' '' '' '' '' '' '' 'H' 'H' 'P']\n",
      " ['' '' '' '' '' '' '' '' '' 'P']\n",
      " ['' '' '' '' '' '' '' '' '' 'P']\n",
      " ['' '' '' '' '' '' '' '' '' '']\n",
      " ['' '' '' '' '' '' '' '' '' '']]\n",
      "Amino Acid Order:\n",
      "[('P', (7, 9)), ('P', (6, 9)), ('P', (5, 9)), ('H', (5, 8)), ('H', (5, 7)), ('P', (4, 7)), ('P', (4, 8)), ('P', (3, 8)), ('P', (2, 8)), ('P', (2, 9))]\n",
      "H-bonds: set()\n",
      "\n",
      "Sample 2:\n",
      "Grid:\n",
      "[['' '' '' '' '' '' '' '' '' '']\n",
      " ['' '' '' '' '' '' '' '' '' '']\n",
      " ['' '' '' '' '' '' '' '' '' '']\n",
      " ['' '' '' '' '' '' '' '' 'P' 'P']\n",
      " ['' '' '' '' '' '' 'P' 'P' '' 'P']\n",
      " ['' '' '' '' '' '' '' 'P' 'H' 'P']\n",
      " ['' '' '' '' '' '' '' '' 'H' 'P']\n",
      " ['' '' '' '' '' '' '' '' '' '']\n",
      " ['' '' '' '' '' '' '' '' '' '']\n",
      " ['' '' '' '' '' '' '' '' '' '']]\n",
      "Amino Acid Order:\n",
      "[('P', (4, 6)), ('P', (4, 7)), ('P', (5, 7)), ('H', (5, 8)), ('H', (6, 8)), ('P', (6, 9)), ('P', (5, 9)), ('P', (4, 9)), ('P', (3, 9)), ('P', (3, 8))]\n",
      "H-bonds: set()\n",
      "\n",
      "Sample 3:\n",
      "Grid:\n",
      "[['' '' '' '' '' '' 'H' 'H' 'P' '']\n",
      " ['' '' '' '' '' '' 'P' 'P' 'P' 'P']\n",
      " ['' '' '' '' '' '' 'P' 'P' '' '']\n",
      " ['' '' '' '' '' '' '' '' '' '']\n",
      " ['' '' '' '' '' '' '' '' '' '']\n",
      " ['' '' '' '' '' '' '' '' '' '']\n",
      " ['' '' '' '' '' '' '' '' '' '']\n",
      " ['' '' '' '' '' '' '' '' '' '']\n",
      " ['' '' '' '' '' '' '' '' '' '']\n",
      " ['' '' '' '' '' '' '' '' '' '']]\n",
      "Amino Acid Order:\n",
      "[('P', (1, 9)), ('P', (1, 8)), ('P', (0, 8)), ('H', (0, 7)), ('H', (0, 6)), ('P', (1, 6)), ('P', (2, 6)), ('P', (2, 7)), ('P', (1, 7))]\n",
      "H-bonds: set()\n",
      "\n",
      "Sample 4:\n",
      "Grid:\n",
      "[['' '' '' '' '' '' '' '' '' '']\n",
      " ['' '' '' '' '' '' '' '' '' '']\n",
      " ['' '' '' '' '' '' '' '' '' '']\n",
      " ['' '' '' '' '' '' '' '' '' '']\n",
      " ['' '' '' '' '' '' '' '' '' '']\n",
      " ['' '' '' '' '' '' '' 'P' 'P' 'P']\n",
      " ['' '' '' '' 'H' 'H' 'P' 'P' '' '']\n",
      " ['' '' '' '' 'P' 'P' 'P' '' '' '']\n",
      " ['' '' '' '' '' '' '' '' '' '']\n",
      " ['' '' '' '' '' '' '' '' '' '']]\n",
      "Amino Acid Order:\n",
      "[('P', (7, 6)), ('P', (7, 5)), ('P', (7, 4)), ('H', (6, 4)), ('H', (6, 5)), ('P', (6, 6)), ('P', (6, 7)), ('P', (5, 7)), ('P', (5, 8)), ('P', (5, 9))]\n",
      "H-bonds: set()\n",
      "\n",
      "Sample 5:\n",
      "Grid:\n",
      "[['' '' '' '' '' '' '' '' '' 'P']\n",
      " ['' '' '' '' '' '' '' '' '' 'P']\n",
      " ['' '' '' '' '' '' '' '' 'P' 'P']\n",
      " ['' '' '' '' '' '' '' 'H' 'P' '']\n",
      " ['' '' '' '' '' '' '' 'H' '' '']\n",
      " ['' '' '' '' '' 'P' 'P' 'P' '' '']\n",
      " ['' '' '' '' '' '' '' '' '' '']\n",
      " ['' '' '' '' '' '' '' '' '' '']\n",
      " ['' '' '' '' '' '' '' '' '' '']\n",
      " ['' '' '' '' '' '' '' '' '' '']]\n",
      "Amino Acid Order:\n",
      "[('P', (5, 5)), ('P', (5, 6)), ('P', (5, 7)), ('H', (4, 7)), ('H', (3, 7)), ('P', (3, 8)), ('P', (2, 8)), ('P', (2, 9)), ('P', (1, 9)), ('P', (0, 9))]\n",
      "H-bonds: set()\n",
      "\n"
     ]
    }
   ],
   "source": [
    "def generate_random_samples(N, grid_size):\n",
    "    random_samples = []\n",
    "\n",
    "    for _ in range(N):\n",
    "        num_hydrophobic, num_polar = random_division(grid_size**2)\n",
    "        amino_acids = ['H'] * num_hydrophobic + ['P'] * num_polar\n",
    "        np.random.shuffle(amino_acids)\n",
    "        amino_acids_copy = amino_acids.copy()\n",
    "        \n",
    "        initial_grid, amino_acid_order = initialize_grid(grid_size, amino_acids_copy)\n",
    "        hbonds = find_H_bonds(initial_grid, amino_acid_order)\n",
    "        \n",
    "        random_samples.append((initial_grid, amino_acid_order, hbonds))\n",
    "\n",
    "    return random_samples\n",
    "\n",
    "# Example usage\n",
    "N = 5  # Number of random samples\n",
    "grid_size = 10  # Size of the grid\n",
    "random_samples = generate_random_samples(N, grid_size)\n",
    "\n",
    "for i, (initial_grid, amino_acid_order, hbonds) in enumerate(random_samples):\n",
    "    print(f\"Sample {i + 1}:\")\n",
    "    print(\"Grid:\")\n",
    "    print(initial_grid)\n",
    "    print(\"Amino Acid Order:\")\n",
    "    print(amino_acid_order)\n",
    "    print(\"H-bonds:\", hbonds)\n",
    "    print()"
   ]
  },
  {
   "cell_type": "code",
   "execution_count": 165,
   "metadata": {},
   "outputs": [
    {
     "data": {
      "text/html": [
       "<div>\n",
       "<style scoped>\n",
       "    .dataframe tbody tr th:only-of-type {\n",
       "        vertical-align: middle;\n",
       "    }\n",
       "\n",
       "    .dataframe tbody tr th {\n",
       "        vertical-align: top;\n",
       "    }\n",
       "\n",
       "    .dataframe thead th {\n",
       "        text-align: right;\n",
       "    }\n",
       "</style>\n",
       "<table border=\"1\" class=\"dataframe\">\n",
       "  <thead>\n",
       "    <tr style=\"text-align: right;\">\n",
       "      <th></th>\n",
       "      <th>Amino Acid Length</th>\n",
       "      <th>Num Hydrophobic</th>\n",
       "      <th>Num Polar</th>\n",
       "      <th>Initial Score</th>\n",
       "      <th>Reshaped Score</th>\n",
       "      <th>HC Improvement</th>\n",
       "    </tr>\n",
       "  </thead>\n",
       "  <tbody>\n",
       "    <tr>\n",
       "      <th>0</th>\n",
       "      <td>5</td>\n",
       "      <td>3</td>\n",
       "      <td>2</td>\n",
       "      <td>2</td>\n",
       "      <td>2</td>\n",
       "      <td>0</td>\n",
       "    </tr>\n",
       "    <tr>\n",
       "      <th>1</th>\n",
       "      <td>5</td>\n",
       "      <td>2</td>\n",
       "      <td>3</td>\n",
       "      <td>1</td>\n",
       "      <td>1</td>\n",
       "      <td>0</td>\n",
       "    </tr>\n",
       "    <tr>\n",
       "      <th>2</th>\n",
       "      <td>5</td>\n",
       "      <td>2</td>\n",
       "      <td>3</td>\n",
       "      <td>1</td>\n",
       "      <td>1</td>\n",
       "      <td>0</td>\n",
       "    </tr>\n",
       "    <tr>\n",
       "      <th>3</th>\n",
       "      <td>5</td>\n",
       "      <td>1</td>\n",
       "      <td>4</td>\n",
       "      <td>0</td>\n",
       "      <td>0</td>\n",
       "      <td>0</td>\n",
       "    </tr>\n",
       "    <tr>\n",
       "      <th>4</th>\n",
       "      <td>5</td>\n",
       "      <td>1</td>\n",
       "      <td>4</td>\n",
       "      <td>0</td>\n",
       "      <td>0</td>\n",
       "      <td>0</td>\n",
       "    </tr>\n",
       "  </tbody>\n",
       "</table>\n",
       "</div>"
      ],
      "text/plain": [
       "   Amino Acid Length  Num Hydrophobic  Num Polar  Initial Score  \\\n",
       "0                  5                3          2              2   \n",
       "1                  5                2          3              1   \n",
       "2                  5                2          3              1   \n",
       "3                  5                1          4              0   \n",
       "4                  5                1          4              0   \n",
       "\n",
       "   Reshaped Score  HC Improvement  \n",
       "0               2               0  \n",
       "1               1               0  \n",
       "2               1               0  \n",
       "3               0               0  \n",
       "4               0               0  "
      ]
     },
     "execution_count": 165,
     "metadata": {},
     "output_type": "execute_result"
    }
   ],
   "source": [
    "amino_acid_lengths = [5, 10, 15, 20, 25, 30, 35, 40]\n",
    "\n",
    "data = {\n",
    "    \"Amino Acid Length\": [],\n",
    "    \"Num Hydrophobic\": [],\n",
    "    \"Num Polar\": [],\n",
    "    \"Initial Score\": [],\n",
    "    \"Reshaped Score\": [],\n",
    "    \"HC Improvement\": []\n",
    "}\n",
    "\n",
    "for length in amino_acid_lengths:\n",
    "    for _ in range(num_samples):\n",
    "        total_amino_acids = length\n",
    "        random_samples = generate_random_samples(1, total_amino_acids)[0]\n",
    "        \n",
    "        num_hydrophobic = np.sum(random_samples == 'H')\n",
    "        num_polar = np.sum(random_samples == 'P')\n",
    "        initial_score = calculate_score(random_samples)\n",
    "        \n",
    "        reshaped_grid, reshaped_score = reshape_grid(random_samples, iterations=10000)  # Adjust iterations as needed\n",
    "        hc_improvement = initial_score - reshaped_score\n",
    "        \n",
    "        data[\"Amino Acid Length\"].append(length)\n",
    "        data[\"Num Hydrophobic\"].append(num_hydrophobic)\n",
    "        data[\"Num Polar\"].append(num_polar)\n",
    "        data[\"Initial Score\"].append(initial_score)\n",
    "        data[\"Reshaped Score\"].append(reshaped_score)\n",
    "        data[\"HC Improvement\"].append(hc_improvement)\n",
    "\n",
    "df = pd.DataFrame(data)\n",
    "df.head()"
   ]
  },
  {
   "cell_type": "code",
   "execution_count": 153,
   "metadata": {},
   "outputs": [
    {
     "data": {
      "text/plain": [
       "0"
      ]
     },
     "execution_count": 153,
     "metadata": {},
     "output_type": "execute_result"
    }
   ],
   "source": [
    "df['HC Improvement'].max()"
   ]
  },
  {
   "cell_type": "code",
   "execution_count": null,
   "metadata": {},
   "outputs": [],
   "source": []
  }
 ],
 "metadata": {
  "kernelspec": {
   "display_name": "Python 3",
   "language": "python",
   "name": "python3"
  },
  "language_info": {
   "codemirror_mode": {
    "name": "ipython",
    "version": 3
   },
   "file_extension": ".py",
   "mimetype": "text/x-python",
   "name": "python",
   "nbconvert_exporter": "python",
   "pygments_lexer": "ipython3",
   "version": "3.8.3"
  }
 },
 "nbformat": 4,
 "nbformat_minor": 4
}
