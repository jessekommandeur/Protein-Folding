{
 "cells": [
  {
   "cell_type": "markdown",
   "metadata": {},
   "source": [
    "## E2 - Stochastic Break Sampling in 2D \n",
    "In our first experiment, we performed random folding of 1,000 neutralized 1D strings of proteins, for lengths {5,10,15,…,95,200\\}, on a 2D lattice, void of any prior assumptions. This 2D lattice was designed to be twice the size of the maximum amino acid sequence to ensure enough space for the protein to fold. We termed the process ‘neutralization’ because it disregards the hydrophobic and polar labels from the amino acids as shown in Figure 1 of the thesis. This underscores our focus on valid conformations over optimal ones, aligning with the methods described in previous work.\n",
    "\n",
    "Our methodology began with the central placement of the first amino acid on the grid which is denoted with *{Start (S)}*  `*`, since it has no relative direction towards other acids. From here, the sequential placement of amino acids commenced. Each amino acid was positioned one after another, adhering to a chain-relative representation. Specifically, each subsequent placement randomly selected a position from the set *{left (L), right (R), straight (S)}*, while diligently avoiding any backward or neighbouring collisions by checking empty adjacent grid locations. This chain-relative approach ensured that every subsequent amino acid was next to the preceding one. We maintained a count of the total number of amino acids  each time an amino acid was positioned on the 2D lattice. This process was iterated upon until no valid adjacent locations remained, as visualized in the Figure 2b below.\n",
    "\n",
    "`*` After generating proteins but before saving the directional data, the first two 'fixed' directions are removed for all proteins."
   ]
  },
  {
   "cell_type": "code",
   "execution_count": 1,
   "metadata": {},
   "outputs": [
    {
     "name": "stderr",
     "output_type": "stream",
     "text": [
      "/Users/jessekommandeur/opt/anaconda3/lib/python3.8/site-packages/pandas/core/computation/expressions.py:20: UserWarning: Pandas requires version '2.7.3' or newer of 'numexpr' (version '2.7.1' currently installed).\n",
      "  from pandas.core.computation.check import NUMEXPR_INSTALLED\n"
     ]
    }
   ],
   "source": [
    "import numpy as np \n",
    "import pandas as pd\n",
    "import time as time\n",
    "np.set_printoptions(threshold=np.inf)"
   ]
  },
  {
   "cell_type": "markdown",
   "metadata": {},
   "source": [
    "### Step 1 - Initializing Acids"
   ]
  },
  {
   "cell_type": "markdown",
   "metadata": {},
   "source": [
    "This function `random_division` takes the total number of amino acids as input and randomly divides them into hydrophobic and polar amino acids, before creating a random 1D amino acid string. It ensures that there's at least one hydrophobic and one polar amino acid. You can adjust the total_amino_acids variable to the desired number of amino acids you want to divide."
   ]
  },
  {
   "cell_type": "code",
   "execution_count": 2,
   "metadata": {},
   "outputs": [
    {
     "name": "stdout",
     "output_type": "stream",
     "text": [
      "Number of Hydro acids: 4\n",
      "Number of Polar acids: 1\n",
      "Random Amino Acid String: HHPHH\n"
     ]
    }
   ],
   "source": [
    "total_amino_acids = 5  # Change this to a desired number, 10 is used for illustration purposes\n",
    "\n",
    "def random_division(total_amino_acids):\n",
    "    num_hydrophobic = np.random.randint(1, total_amino_acids)  # Ensure at least one H and P\n",
    "    num_polar = total_amino_acids - num_hydrophobic\n",
    "    # randomly shuffle the amino acids\n",
    "    amino_acids = ['H'] * num_hydrophobic + ['P'] * num_polar\n",
    "    np.random.shuffle(amino_acids)\n",
    "    return num_hydrophobic, num_polar, amino_acids\n",
    "\n",
    "num_hydrophobic, num_polar, amino_acids = random_division(total_amino_acids)\n",
    "print(\"Number of Hydro acids:\", num_hydrophobic)\n",
    "print(\"Number of Polar acids:\", num_polar)\n",
    "print(\"Random Amino Acid String:\", \"\".join(amino_acids))"
   ]
  },
  {
   "cell_type": "markdown",
   "metadata": {},
   "source": [
    "### Step 2 - Initializing Grid\n",
    "The `initialize_grid` function generates a grid to place amino acids, with specified dimensions, and populates it with H and P amino acids, while ensuring they do not overlap and tracks their placement order. This allows for simulating the random arrangement of amino acids on a grid for various applications."
   ]
  },
  {
   "cell_type": "code",
   "execution_count": 3,
   "metadata": {},
   "outputs": [],
   "source": [
    "amino_acids_copy = amino_acids.copy()\n",
    "\n",
    "def initialize_grid(amino_acids, num_hydrophobic, num_polar):\n",
    "    amino_acids_copy = amino_acids.copy()\n",
    "    total_amino_acids = len(amino_acids)\n",
    "    grid_size = total_amino_acids * 2\n",
    "    grid = np.full((grid_size, grid_size), fill_value='', dtype=object)  \n",
    "    amino_acid_order = []  # List to track the order of amino acids placed\n",
    "    \n",
    "    # Place the first amino acid randomly on the grid\n",
    "    first_amino_row = grid_size // 2\n",
    "    first_amino_col = grid_size // 2\n",
    "    amino_acid_type = amino_acids_copy.pop(0)\n",
    "    grid[first_amino_row, first_amino_col] = amino_acid_type\n",
    "    \n",
    "    # Keep track of order\n",
    "    amino_acid_order.append((amino_acid_type, (first_amino_row, first_amino_col)))\n",
    "    total_amino_acids -= 1\n",
    "    \n",
    "    # Place the remaining amino acids next to the last placed amino acid\n",
    "    while total_amino_acids > 0:\n",
    "        last_amino_row, last_amino_col = amino_acid_order[-1][1]\n",
    "        neighbors = [\n",
    "            (last_amino_row - 1, last_amino_col),\n",
    "            (last_amino_row + 1, last_amino_col),\n",
    "            (last_amino_row, last_amino_col - 1),\n",
    "            (last_amino_row, last_amino_col + 1)\n",
    "        ]\n",
    "        \n",
    "        valid_neighbors = [(row, col) for row, col in neighbors if 0 <= row < grid_size and 0 <= col < grid_size and grid[row, col] == '']\n",
    "        \n",
    "        if valid_neighbors and amino_acids_copy:  # Check if there are valid neighbors and remaining amino acids\n",
    "            # Shuffle the list of valid neighbors and choose one randomly\n",
    "            np.random.shuffle(valid_neighbors)\n",
    "            chosen_row, chosen_col = valid_neighbors[0]\n",
    "            amino_acid_type = amino_acids_copy.pop(0)\n",
    "            grid[chosen_row, chosen_col] = amino_acid_type\n",
    "            amino_acid_order.append((amino_acid_type, (chosen_row, chosen_col)))\n",
    "            total_amino_acids -= 1\n",
    "        else:\n",
    "            break  # No valid neighbors or no remaining amino acids, exit the loop\n",
    "    \n",
    "    return grid, amino_acid_order\n",
    "\n",
    "# Example usage\n",
    "initial_grid, amino_acid_order = initialize_grid( amino_acids_copy, num_hydrophobic, num_polar)\n"
   ]
  },
  {
   "cell_type": "code",
   "execution_count": 4,
   "metadata": {},
   "outputs": [
    {
     "name": "stdout",
     "output_type": "stream",
     "text": [
      "Amino Acid Order: [('H', (5, 5)), ('H', (4, 5)), ('P', (4, 4)), ('H', (4, 3)), ('H', (3, 3))]\n"
     ]
    }
   ],
   "source": [
    "print(\"Amino Acid Order:\", amino_acid_order)"
   ]
  },
  {
   "cell_type": "code",
   "execution_count": 5,
   "metadata": {},
   "outputs": [
    {
     "data": {
      "text/plain": [
       "['Start', 'straight', 'left', 'straight', 'right']"
      ]
     },
     "execution_count": 5,
     "metadata": {},
     "output_type": "execute_result"
    }
   ],
   "source": [
    "def determine_directions(amino_acid_order):\n",
    "    \"\"\"\n",
    "    Determines the direction of each amino acid placement relative to the previous one.\n",
    "    Directions are 'left', 'straight', 'right', considering the orientation of the movement from the previous point.\n",
    "    \"\"\"\n",
    "    directions = ['Start']  # First amino acid has no direction\n",
    "\n",
    "    # Define movement vectors for easier comparison\n",
    "    movement_vectors = {\n",
    "        'up': (-1, 0),\n",
    "        'down': (1, 0),\n",
    "        'left': (0, -1),\n",
    "        'right': (0, 1)\n",
    "    }\n",
    "\n",
    "    for i in range(1, len(amino_acid_order)):\n",
    "        # Get the current and previous amino acid's row and column\n",
    "        _, (current_row, current_col) = amino_acid_order[i]\n",
    "        _, (prev_row, prev_col) = amino_acid_order[i - 1]\n",
    "\n",
    "        # Determine the movement vector from the previous amino acid\n",
    "        move_vector = (current_row - prev_row, current_col - prev_col)\n",
    "\n",
    "        if i == 1:\n",
    "            # For the second amino acid, we don't have a previous direction, so we set it as straight\n",
    "            direction = 'straight'\n",
    "        else:\n",
    "            # Get the previous movement vector\n",
    "            _, (prev_prev_row, prev_prev_col) = amino_acid_order[i - 2]\n",
    "            prev_move_vector = (prev_row - prev_prev_row, prev_col - prev_prev_col)\n",
    "\n",
    "            # Determine direction based on previous movement vector\n",
    "            if prev_move_vector in [movement_vectors['up'], movement_vectors['down']]:\n",
    "                # Moving vertically\n",
    "                if move_vector == movement_vectors['left']:\n",
    "                    direction = 'left' if prev_move_vector == movement_vectors['up'] else 'right'\n",
    "                elif move_vector == movement_vectors['right']:\n",
    "                    direction = 'right' if prev_move_vector == movement_vectors['up'] else 'left'\n",
    "                else:\n",
    "                    direction = 'straight'\n",
    "            else:\n",
    "                # Moving horizontally\n",
    "                if move_vector == movement_vectors['up']:\n",
    "                    direction = 'left' if prev_move_vector == movement_vectors['right'] else 'right'\n",
    "                elif move_vector == movement_vectors['down']:\n",
    "                    direction = 'right' if prev_move_vector == movement_vectors['right'] else 'left'\n",
    "                else:\n",
    "                    direction = 'straight'\n",
    "\n",
    "        directions.append(direction)\n",
    "\n",
    "    return directions\n",
    "\n",
    "# Test the refined function with the provided example amino_acid_order\n",
    "determine_directions(amino_acid_order)"
   ]
  },
  {
   "cell_type": "code",
   "execution_count": 6,
   "metadata": {},
   "outputs": [
    {
     "name": "stdout",
     "output_type": "stream",
     "text": [
      "Trimmed Grid: \n",
      " [['H' '' '']\n",
      " ['H' 'P' 'H']\n",
      " ['' '' 'H']]\n"
     ]
    }
   ],
   "source": [
    "def trim_empty_rows_and_columns(grid):\n",
    "    # Find the indices of non-empty rows and columns\n",
    "    non_empty_rows = np.any(grid != '', axis=1)\n",
    "    non_empty_columns = np.any(grid != '', axis=0)\n",
    "\n",
    "    # Use boolean indexing to extract non-empty rows and columns\n",
    "    trimmed_grid = grid[non_empty_rows][:, non_empty_columns]\n",
    "\n",
    "    return trimmed_grid\n",
    "\n",
    "# Call the function to trim empty rows and columns\n",
    "trimmed_grid = trim_empty_rows_and_columns(initial_grid)\n",
    "\n",
    "# Print the trimmed grid\n",
    "print(\"Trimmed Grid:\", '\\n', trimmed_grid)"
   ]
  },
  {
   "cell_type": "markdown",
   "metadata": {},
   "source": [
    "### Step 3a - Calculate H-bonds\n",
    "The `find_H_combinations_grid` function is used to~ identify and collect sets of coordinates representing adjacent 'H' amino acids in a grid. It iterates through the entire grid, checking each position for the presence of 'H' amino acids. If an 'H' amino acid is found, it examines neighboring positions (up, down, left, right) to identify adjacent 'H' amino acids. For each pair of adjacent 'H' amino acids, it creates a frozenset containing their coordinates (ensuring that the order of coordinates doesn't matter) and adds this frozenset to a set. This set stores all unique pairs of adjacent 'H' amino acids found in the grid. The function returns this set of adjacent 'H' amino acid pairs."
   ]
  },
  {
   "cell_type": "code",
   "execution_count": 7,
   "metadata": {},
   "outputs": [
    {
     "data": {
      "text/plain": [
       "{frozenset({(3, 3), (4, 3)}), frozenset({(4, 5), (5, 5)})}"
      ]
     },
     "execution_count": 7,
     "metadata": {},
     "output_type": "execute_result"
    }
   ],
   "source": [
    "def find_H_pairs_grid(grid):\n",
    "    adjacent_hydrophobic_amino_acids = set()  # Use a set to automatically remove duplicates\n",
    "\n",
    "    # Iterate through the grid to find adjacent 'H' amino acids\n",
    "    for row in range(grid.shape[0]):\n",
    "        for col in range(grid.shape[1]):\n",
    "            current_acid = grid[row, col]\n",
    "\n",
    "            # Check if the current amino acid is 'H'\n",
    "            if current_acid == 'H':\n",
    "                # Check the neighboring positions (up, down, left, right) relative to the current position\n",
    "                neighbors = [\n",
    "                    (row - 1, col),\n",
    "                    (row + 1, col),\n",
    "                    (row, col - 1),\n",
    "                    (row, col + 1)\n",
    "                ]\n",
    "\n",
    "                for neighbor_row, neighbor_col in neighbors:\n",
    "                    # Check if the neighbor is within the grid bounds\n",
    "                    if 0 <= neighbor_row < grid.shape[0] and 0 <= neighbor_col < grid.shape[1]:\n",
    "                        neighbor_acid = grid[neighbor_row, neighbor_col]\n",
    "\n",
    "                        # Check if the neighbor is also 'H'\n",
    "                        if neighbor_acid == 'H':\n",
    "                            # Use frozenset to ensure that the order of coordinates doesn't matter\n",
    "                            amino_acid_pair = frozenset({(row, col), (neighbor_row, neighbor_col)})\n",
    "                            adjacent_hydrophobic_amino_acids.add(amino_acid_pair)\n",
    "                            \n",
    "    return adjacent_hydrophobic_amino_acids\n",
    "\n",
    "find_H_pairs_grid(initial_grid)"
   ]
  },
  {
   "cell_type": "markdown",
   "metadata": {},
   "source": [
    "### Step 3b - Calculate H-bonds\n",
    "The `find_H_combinations_order` function examines the order of amino acids and identifies adjacent 'H' amino acids. It does this by iterating through the amino acid order, checking pairs of consecutive amino acids for 'H' type, and recording these pairs as frozensets in a set to remove duplicates. This function helps identify adjacent 'H' amino acids in the sequence order, which is useful for analyzing the arrangement of amino acids."
   ]
  },
  {
   "cell_type": "code",
   "execution_count": 8,
   "metadata": {},
   "outputs": [
    {
     "data": {
      "text/plain": [
       "{frozenset({(3, 3), (4, 3)}), frozenset({(4, 5), (5, 5)})}"
      ]
     },
     "execution_count": 8,
     "metadata": {},
     "output_type": "execute_result"
    }
   ],
   "source": [
    "def find_H_pairs_order(amino_acid_order):\n",
    "    adjacent_hydrophobic_amino_acids = set()  # Use a set to automatically remove duplicates\n",
    "\n",
    "    # Iterate through the amino acid order to find adjacent 'H' amino acids\n",
    "    for i in range(len(amino_acid_order) - 1):\n",
    "        current_acid, current_position = amino_acid_order[i]\n",
    "        next_acid, next_position = amino_acid_order[i + 1]\n",
    "\n",
    "        # Check if both current and next amino acids are 'H'\n",
    "        if current_acid == 'H' and next_acid == 'H':\n",
    "            # Use frozenset to ensure that the order of positions doesn't matter\n",
    "            amino_acid_pair = frozenset({current_position, next_position})\n",
    "            adjacent_hydrophobic_amino_acids.add(amino_acid_pair)\n",
    "\n",
    "    return adjacent_hydrophobic_amino_acids\n",
    "\n",
    "find_H_pairs_order(amino_acid_order)"
   ]
  },
  {
   "cell_type": "markdown",
   "metadata": {},
   "source": [
    "### Step 3c - Calculate H-bonds\n",
    "The provided code calculates the H-combinations in two different ways and then compares them. It calculates the H-pairs in the grid using the `find_H_combinations_grid` function and the H-pairs in the amino acid order using the `find_H_combination_order` function. Then, it subtracts the H-combinations found in the amino acid order from those found in the grid. This comparison helps identify the **H-bonds** that are formed between adjacent 'H' amino acids in the grid but not in the given amino acid sequence order."
   ]
  },
  {
   "cell_type": "code",
   "execution_count": 9,
   "metadata": {},
   "outputs": [],
   "source": [
    "def find_H_bonds(grid, amino_acid_order):\n",
    "    grid_h_pairs = find_H_pairs_grid(grid)\n",
    "    order_h_pairs = find_H_pairs_order(amino_acid_order)\n",
    "    return grid_h_pairs - order_h_pairs\n",
    "\n",
    "H_bonds = find_H_bonds(initial_grid, amino_acid_order)"
   ]
  },
  {
   "cell_type": "code",
   "execution_count": 10,
   "metadata": {},
   "outputs": [
    {
     "name": "stdout",
     "output_type": "stream",
     "text": [
      "Number of H-bonds: 0\n"
     ]
    }
   ],
   "source": [
    "print('Number of H-bonds:', len(H_bonds))\n",
    "\n",
    "for bond in H_bonds:\n",
    "    coordinates = [coord for coord in bond]\n",
    "    print(coordinates)"
   ]
  },
  {
   "cell_type": "markdown",
   "metadata": {},
   "source": [
    "### Step 4 - Creating Samples\n",
    "The code generates N random protein grid configurations with a specified number of hydrophobic and polar amino acids using the `generate_random_samples` function. "
   ]
  },
  {
   "cell_type": "code",
   "execution_count": 11,
   "metadata": {},
   "outputs": [
    {
     "data": {
      "text/plain": [
       "(2,\n",
       " 3,\n",
       " ['H', 'P', 'H', 'P', 'P'],\n",
       " array([['', '', '', '', '', '', '', '', '', ''],\n",
       "        ['', '', '', '', '', '', '', '', '', ''],\n",
       "        ['', '', '', '', 'P', '', '', '', '', ''],\n",
       "        ['', '', '', '', 'P', '', '', '', '', ''],\n",
       "        ['', '', '', '', 'H', '', '', '', '', ''],\n",
       "        ['', '', '', '', 'P', 'H', '', '', '', ''],\n",
       "        ['', '', '', '', '', '', '', '', '', ''],\n",
       "        ['', '', '', '', '', '', '', '', '', ''],\n",
       "        ['', '', '', '', '', '', '', '', '', ''],\n",
       "        ['', '', '', '', '', '', '', '', '', '']], dtype=object),\n",
       " 5,\n",
       " [('H', (5, 5)), ('P', (5, 4)), ('H', (4, 4)), ('P', (3, 4)), ('P', (2, 4))],\n",
       " ['Start', 'straight', 'right', 'straight', 'straight'],\n",
       " array([['P', ''],\n",
       "        ['P', ''],\n",
       "        ['H', ''],\n",
       "        ['P', 'H']], dtype=object),\n",
       " (4, 2),\n",
       " 0,\n",
       " 0.0)"
      ]
     },
     "execution_count": 11,
     "metadata": {},
     "output_type": "execute_result"
    }
   ],
   "source": [
    "def generate_random_samples(N, total_amino_acids):\n",
    "    random_samples = []\n",
    "\n",
    "    for _ in range(N):\n",
    "        num_hydrophobic, num_polar, amino_acids = random_division(total_amino_acids)\n",
    "        amino_acids_copy = amino_acids.copy()\n",
    "        initial_grid, amino_acid_order = initialize_grid(amino_acids_copy, num_hydrophobic, num_polar)\n",
    "        trimmed_grid = trim_empty_rows_and_columns(initial_grid)\n",
    "        protein_dimensions = trimmed_grid.shape\n",
    "        amino_acids_on_grid = np.count_nonzero(initial_grid != '')\n",
    "        amino_acids_directions =  determine_directions(amino_acid_order)\n",
    "        hbonds = len(find_H_bonds(initial_grid, amino_acid_order))\n",
    "        hratio = hbonds / amino_acids_on_grid\n",
    "        \n",
    "        random_samples.append((num_hydrophobic,\n",
    "                               num_polar,\n",
    "                               amino_acids,\n",
    "                               initial_grid,\n",
    "                               amino_acids_on_grid,\n",
    "                               amino_acid_order,\n",
    "                               amino_acids_directions,\n",
    "                               trimmed_grid, \n",
    "                               protein_dimensions,\n",
    "                               hbonds,\n",
    "                               hratio,\n",
    "                              ))\n",
    "\n",
    "    return random_samples\n",
    "\n",
    "# Example usage\n",
    "generate_random_samples(3, total_amino_acids)[0]"
   ]
  },
  {
   "cell_type": "code",
   "execution_count": 12,
   "metadata": {},
   "outputs": [],
   "source": [
    "def timing_samples(num_samples, amino_acid_lengths):\n",
    "    total_times = {}\n",
    "\n",
    "    for length in amino_acid_lengths:\n",
    "        start_time = time.time()\n",
    "        \n",
    "        _ = store_samples_in_dataframe(num_samples, [length])  # We call the original function here\n",
    "        \n",
    "        end_time = time.time()\n",
    "        \n",
    "        total_times[length] = end_time - start_time\n",
    "        print(f\"Time taken to create and process {num_samples} samples for amino acid length {length}: {total_times[length]:.2f} seconds\")\n",
    "\n",
    "    return total_times"
   ]
  },
  {
   "cell_type": "code",
   "execution_count": 13,
   "metadata": {},
   "outputs": [],
   "source": [
    "def store_samples_in_dataframe(num_samples, amino_acid_lengths):\n",
    "    \n",
    "    data = {\n",
    "        \"Amino Acid Length\": [],\n",
    "        \"Num Hydrophobic\": [],\n",
    "        \"Num Polar\": [],\n",
    "        \"1D protein\": [],\n",
    "        \"2D protein\": [],\n",
    "        \"Amino Acids on Grid\": [],  \n",
    "        \"Trimmed 2D protein\": [],\n",
    "        \"Shape 2D protein\": [],\n",
    "        \"Amino Acid Order\": [],\n",
    "        \"Amino Acid Direction\": [],\n",
    "        \"H-Bonds\": [],\n",
    "        \"H-Ratio\": [],\n",
    "    }\n",
    "\n",
    "    for length in amino_acid_lengths:\n",
    "        random_samples = generate_random_samples(num_samples, length)\n",
    "        for sample in random_samples:\n",
    "            \n",
    "            start_time = time.time()  # Start time before producing the sample\n",
    "            num_hydrophobic, num_polar, amino_acids, initial_grid, amino_acids_on_grid, amino_acid_order, determine_directions, trimmed_grid, protein_dimensions, hbonds, hratio= sample\n",
    "            end_time = time.time()  # End time after producing the sample\n",
    "\n",
    "            data[\"Amino Acid Length\"].append(length)\n",
    "            data[\"Num Hydrophobic\"].append(num_hydrophobic)\n",
    "            data[\"Num Polar\"].append(num_polar)\n",
    "            data[\"1D protein\"].append(amino_acids)\n",
    "            data[\"2D protein\"].append(initial_grid)\n",
    "            data[\"Amino Acids on Grid\"].append(amino_acids_on_grid)\n",
    "            data[\"Trimmed 2D protein\"].append(trimmed_grid)\n",
    "            data[\"Shape 2D protein\"].append(protein_dimensions)\n",
    "            data[\"Amino Acid Order\"].append(amino_acid_order)\n",
    "            data[\"Amino Acid Direction\"].append(determine_directions),\n",
    "            data[\"H-Bonds\"].append(hbonds)\n",
    "            data['H-Ratio'].append(hratio)\n",
    "\n",
    "    df = pd.DataFrame(data)\n",
    "    return df"
   ]
  },
  {
   "cell_type": "code",
   "execution_count": 14,
   "metadata": {},
   "outputs": [
    {
     "name": "stdout",
     "output_type": "stream",
     "text": [
      "Time taken to create and process 1000 samples for amino acid length 5: 0.14 seconds\n",
      "Time taken to create and process 1000 samples for amino acid length 10: 0.16 seconds\n",
      "Time taken to create and process 1000 samples for amino acid length 15: 0.25 seconds\n",
      "Time taken to create and process 1000 samples for amino acid length 20: 0.36 seconds\n",
      "Time taken to create and process 1000 samples for amino acid length 25: 0.54 seconds\n",
      "Time taken to create and process 1000 samples for amino acid length 30: 0.65 seconds\n",
      "Time taken to create and process 1000 samples for amino acid length 35: 0.85 seconds\n",
      "Time taken to create and process 1000 samples for amino acid length 40: 1.18 seconds\n",
      "Time taken to create and process 1000 samples for amino acid length 45: 1.44 seconds\n",
      "Time taken to create and process 1000 samples for amino acid length 50: 1.74 seconds\n",
      "CPU times: user 14.5 s, sys: 273 ms, total: 14.8 s\n",
      "Wall time: 14.8 s\n"
     ]
    }
   ],
   "source": [
    "%%time\n",
    "# Generate an experiment with 1000 samples for amino length [5, 10, 15 ..., 201]\n",
    "\n",
    "num_samples = 1000\n",
    "amino_acid_lengths = [length for length in range(5, 51, 5)]\n",
    "time_data = timing_samples(num_samples, amino_acid_lengths)\n",
    "HP200 = store_samples_in_dataframe(num_samples, amino_acid_lengths)"
   ]
  },
  {
   "cell_type": "code",
   "execution_count": 18,
   "metadata": {},
   "outputs": [
    {
     "data": {
      "image/png": "[encoded data removed]",
      "text/plain": [
       "<Figure size 720x720 with 2 Axes>"
      ]
     },
     "metadata": {},
     "output_type": "display_data"
    }
   ],
   "source": [
    "import numpy as np\n",
    "import matplotlib.pyplot as plt\n",
    "from matplotlib.colors import LogNorm\n",
    "\n",
    "# Assuming HP200 is your DataFrame and paths extraction\n",
    "amino_acid_length = 50\n",
    "paths = HP200[(HP200['Amino Acid Length'] == amino_acid_length) & \n",
    "              (HP200['Amino Acid Order'].apply(len) > 45)]['Amino Acid Order']\n",
    "max_x = 0\n",
    "max_y = 0\n",
    "\n",
    "for path in paths:\n",
    "    for _, coord in path:\n",
    "        x, y = coord\n",
    "        max_x = max(max_x, x)\n",
    "        max_y = max(max_y, y)\n",
    "\n",
    "grid_size_x = max_x + 1\n",
    "grid_size_y = max_y + 1\n",
    "\n",
    "frequency_grid = np.zeros((grid_size_x, grid_size_y))\n",
    "\n",
    "for path in paths:\n",
    "    for _, coord in path:\n",
    "        x, y = coord\n",
    "        frequency_grid[x, y] += 1\n",
    "\n",
    "frequency_grid[frequency_grid == 0] = np.min(frequency_grid[np.nonzero(frequency_grid)])\n",
    "\n",
    "# Visualize the frequency grid as a heatmap with a logarithmic color scale\n",
    "plt.figure(figsize=(10, 10), facecolor='white')  # Adjust as needed for size\n",
    "plt.imshow(frequency_grid, cmap='hot', norm=LogNorm(), interpolation='nearest')\n",
    "\n",
    "# Highlight the starting and second points\n",
    "# Assuming the starting and second points are the same for each path\n",
    "start_x, start_y = paths.iloc[0][0][1]  # Access the first path's start coordinate\n",
    "second_x, second_y = paths.iloc[0][1][1]  # Access the first path's second coordinate\n",
    "\n",
    "plt.scatter([start_y, second_y], [start_x, second_x], color='cyan', s=100, edgecolors='black', label='Start & Second Points', zorder=5)\n",
    "# Note: plt.scatter() uses (x, y) ordering, so we swap the coordinates for correct positioning\n",
    "\n",
    "plt.colorbar()\n",
    "plt.title('Dominant Paths')\n",
    "plt.legend()\n",
    "plt.show()\n"
   ]
  },
  {
   "cell_type": "code",
   "execution_count": 21,
   "metadata": {},
   "outputs": [],
   "source": [
    "def shorten_direction(direction_list):\n",
    "    # Create a dictionary mapping full words to their respective initials\n",
    "    mapping = {'Start': 'S', 'start': 'S', 'middle': 'M', 'right': 'R', 'left': 'L', 'straight': 'S'}\n",
    "    # Use the mapping to convert each word to its initial and join them into a string\n",
    "    return ''.join(mapping[direction] for direction in direction_list)\n",
    "\n",
    "HP200['Full Acid Path'] = HP200['Amino Acid Direction'].apply(lambda x: shorten_direction(x))"
   ]
  },
  {
   "cell_type": "code",
   "execution_count": 22,
   "metadata": {},
   "outputs": [],
   "source": [
    "# Remove the first two characters from each string (Start and straight)\n",
    "HP200['Shortened Acid Path'] = HP200['Full Acid Path'].apply(lambda x: x[2:])"
   ]
  },
  {
   "cell_type": "code",
   "execution_count": 25,
   "metadata": {},
   "outputs": [
    {
     "data": {
      "text/html": [
       "<div>\n",
       "<style scoped>\n",
       "    .dataframe tbody tr th:only-of-type {\n",
       "        vertical-align: middle;\n",
       "    }\n",
       "\n",
       "    .dataframe tbody tr th {\n",
       "        vertical-align: top;\n",
       "    }\n",
       "\n",
       "    .dataframe thead th {\n",
       "        text-align: right;\n",
       "    }\n",
       "</style>\n",
       "<table border=\"1\" class=\"dataframe\">\n",
       "  <thead>\n",
       "    <tr style=\"text-align: right;\">\n",
       "      <th></th>\n",
       "      <th>Amino Acid Length</th>\n",
       "      <th>Amino Acids on Grid</th>\n",
       "      <th>Shortened Acid Path</th>\n",
       "    </tr>\n",
       "  </thead>\n",
       "  <tbody>\n",
       "    <tr>\n",
       "      <th>39995</th>\n",
       "      <td>200</td>\n",
       "      <td>47</td>\n",
       "      <td>RLRSRSLRRLSSSLLSSRRSSSLLSRSRSLLSSSSLLSRRLRSRR</td>\n",
       "    </tr>\n",
       "    <tr>\n",
       "      <th>39996</th>\n",
       "      <td>200</td>\n",
       "      <td>71</td>\n",
       "      <td>SLSLRRSRSLLRLRSSSLSSLSLLRRSSSSSRRLSLRSLRLLRLSR...</td>\n",
       "    </tr>\n",
       "    <tr>\n",
       "      <th>39997</th>\n",
       "      <td>200</td>\n",
       "      <td>14</td>\n",
       "      <td>LSLRLRLLSLRL</td>\n",
       "    </tr>\n",
       "    <tr>\n",
       "      <th>39998</th>\n",
       "      <td>200</td>\n",
       "      <td>88</td>\n",
       "      <td>SLRSSSLLRLRRLRRLRSSLLRLRLRSRRLLSLSSSSSRLLSRLRR...</td>\n",
       "    </tr>\n",
       "    <tr>\n",
       "      <th>39999</th>\n",
       "      <td>200</td>\n",
       "      <td>158</td>\n",
       "      <td>LSSSRLLRRLSLLRSSLRLRRLRSRSSLSSLRSSRLLSSRRLLRSR...</td>\n",
       "    </tr>\n",
       "  </tbody>\n",
       "</table>\n",
       "</div>"
      ],
      "text/plain": [
       "       Amino Acid Length  Amino Acids on Grid  \\\n",
       "39995                200                   47   \n",
       "39996                200                   71   \n",
       "39997                200                   14   \n",
       "39998                200                   88   \n",
       "39999                200                  158   \n",
       "\n",
       "                                     Shortened Acid Path  \n",
       "39995      RLRSRSLRRLSSSLLSSRRSSSLLSRSRSLLSSSSLLSRRLRSRR  \n",
       "39996  SLSLRRSRSLLRLRSSSLSSLSLLRRSSSSSRRLSLRSLRLLRLSR...  \n",
       "39997                                       LSLRLRLLSLRL  \n",
       "39998  SLRSSSLLRLRRLRRLRSSLLRLRLRSRRLLSLSSSSSRLLSRLRR...  \n",
       "39999  LSSSRLLRRLSLLRSSLRLRRLRSRSSLSSLRSSRLLSSRRLLRSR...  "
      ]
     },
     "execution_count": 25,
     "metadata": {},
     "output_type": "execute_result"
    }
   ],
   "source": [
    "# Selecting the specified columns to create smaller dataframe\n",
    "HP200_small = HP200[['Amino Acid Length', 'Amino Acids on Grid', 'Shortened Acid Path']]\n",
    "HP200_small.tail()"
   ]
  },
  {
   "cell_type": "code",
   "execution_count": 24,
   "metadata": {},
   "outputs": [],
   "source": [
    "HP200_small.to_csv('../Paper/HP200 small E2.csv', index=False)"
   ]
  },
  {
   "cell_type": "code",
   "execution_count": null,
   "metadata": {},
   "outputs": [],
   "source": []
  }
 ],
 "metadata": {
  "kernelspec": {
   "display_name": "Python 3",
   "language": "python",
   "name": "python3"
  },
  "language_info": {
   "codemirror_mode": {
    "name": "ipython",
    "version": 3
   },
   "file_extension": ".py",
   "mimetype": "text/x-python",
   "name": "python",
   "nbconvert_exporter": "python",
   "pygments_lexer": "ipython3",
   "version": "3.8.3"
  }
 },
 "nbformat": 4,
 "nbformat_minor": 4
}
